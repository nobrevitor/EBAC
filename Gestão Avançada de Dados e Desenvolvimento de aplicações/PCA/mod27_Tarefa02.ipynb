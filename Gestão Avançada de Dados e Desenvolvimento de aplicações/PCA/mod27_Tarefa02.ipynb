{
 "cells": [
  {
   "cell_type": "markdown",
   "metadata": {},
   "source": [
    "![Cabec%CC%A7alho_notebook.png](cabecalho_notebook.png)"
   ]
  },
  {
   "cell_type": "markdown",
   "metadata": {},
   "source": [
    "# Classificação de Atividade Humana com PCA\n",
    "\n",
    "Vamos trabalhar com a base da demonstração feita em aula, mas vamos explorar um pouco melhor como é o desempenho da árvore variando o número de componentes principais."
   ]
  },
  {
   "cell_type": "code",
   "execution_count": 3,
   "metadata": {},
   "outputs": [],
   "source": [
    "import pandas as pd\n",
    "import matplotlib.pyplot as plt\n",
    "import seaborn as sns\n",
    "\n",
    "from sklearn.tree import DecisionTreeClassifier\n",
    "\n",
    "from sklearn.decomposition import PCA\n",
    "from sklearn.metrics import accuracy_score, ConfusionMatrixDisplay, confusion_matrix\n",
    "from sklearn.model_selection import cross_val_score, train_test_split\n",
    "\n",
    "filename_features = \"Dados/UCI HAR Dataset/features.txt\"\n",
    "filename_labels = \"Dados/UCI HAR Dataset/activity_labels.txt\"\n",
    "\n",
    "filename_subtrain = \"Dados/UCI HAR Dataset/train/subject_train.txt\"\n",
    "filename_xtrain = \"Dados/UCI HAR Dataset/train/X_train.txt\"\n",
    "filename_ytrain = \"Dados/UCI HAR Dataset/train/y_train.txt\"\n",
    "\n",
    "filename_subtest = \"Dados/UCI HAR Dataset/test/subject_test.txt\"\n",
    "ffilename_xtest = \"Dados/UCI HAR Dataset/test/X_test.txt\"\n",
    "filename_ytest = \"Dados/UCI HAR Dataset/test/y_test.txt\"\n",
    "\n",
    "features = pd.read_csv(filename_features, header=None, names=['nome_var'], sep=\"#\")\n",
    "features = features.squeeze('columns')\n",
    "labels = pd.read_csv(filename_labels, sep='\\s+', header=None, names=['cod_label', 'label'])\n",
    "\n",
    "subject_train = pd.read_csv(filename_subtrain, header=None, names=['subject_id'])\n",
    "subject_train = subject_train.squeeze('columns')\n",
    "X_train = pd.read_csv(filename_xtrain, sep='\\s+', header=None, names=features.tolist())\n",
    "y_train = pd.read_csv(filename_ytrain, header=None, names=['cod_label'])\n",
    "\n",
    "subject_test = pd.read_csv(filename_subtest, header=None, names=['subject_id'])\n",
    "subject_test = subject_test.squeeze('columns')\n",
    "X_test = pd.read_csv(ffilename_xtest, sep='\\s+', header=None, names=features.tolist())\n",
    "y_test = pd.read_csv(filename_ytest, header=None, names=['cod_label'])"
   ]
  },
  {
   "cell_type": "markdown",
   "metadata": {},
   "source": [
    "## PCA com variáveis padronizadas\n",
    "\n",
    "Reflexão sobre a escala das variáveis:\n",
    "\n",
    "**Variáveis em métricas muito diferentes** podem interferir na análise de componentes principais. Lembra que variância é informação pra nós? Pois bem, tipicamente se há uma variável monetária como salário, vai ter uma ordem de variabilidade bem maior que número de filhos, tempo de emprego ou qualquer variável dummy. Assim, as variáveis de maior variância tendem a \"dominar\" a análise. Nesses casos é comum usar a padronização das variáveis.\n",
    "\n",
    "Faça duas análises de componentes principais para a base do HAR - com e sem padronização e compare:\n",
    "\n",
    "- A variância explicada por componente\n",
    "- A variância explicada acumulada por componente\n",
    "- A variância percentual por componente\n",
    "- A variância percentual acumulada por componente\n",
    "- Quantas componentes você escolheria, em cada caso para explicar 90% da variância?"
   ]
  },
  {
   "cell_type": "code",
   "execution_count": 8,
   "metadata": {},
   "outputs": [
    {
     "name": "stdout",
     "output_type": "stream",
     "text": [
      "CPU times: total: 469 ms\n",
      "Wall time: 998 ms\n"
     ]
    },
    {
     "data": {
      "application/vnd.microsoft.datawrangler.viewer.v0+json": {
       "columns": [
        {
         "name": "index",
         "rawType": "int64",
         "type": "integer"
        },
        {
         "name": "1 tBodyAcc-mean()-X",
         "rawType": "float64",
         "type": "float"
        },
        {
         "name": "2 tBodyAcc-mean()-Y",
         "rawType": "float64",
         "type": "float"
        },
        {
         "name": "3 tBodyAcc-mean()-Z",
         "rawType": "float64",
         "type": "float"
        },
        {
         "name": "4 tBodyAcc-std()-X",
         "rawType": "float64",
         "type": "float"
        },
        {
         "name": "5 tBodyAcc-std()-Y",
         "rawType": "float64",
         "type": "float"
        },
        {
         "name": "6 tBodyAcc-std()-Z",
         "rawType": "float64",
         "type": "float"
        },
        {
         "name": "7 tBodyAcc-mad()-X",
         "rawType": "float64",
         "type": "float"
        },
        {
         "name": "8 tBodyAcc-mad()-Y",
         "rawType": "float64",
         "type": "float"
        },
        {
         "name": "9 tBodyAcc-mad()-Z",
         "rawType": "float64",
         "type": "float"
        },
        {
         "name": "10 tBodyAcc-max()-X",
         "rawType": "float64",
         "type": "float"
        },
        {
         "name": "11 tBodyAcc-max()-Y",
         "rawType": "float64",
         "type": "float"
        },
        {
         "name": "12 tBodyAcc-max()-Z",
         "rawType": "float64",
         "type": "float"
        },
        {
         "name": "13 tBodyAcc-min()-X",
         "rawType": "float64",
         "type": "float"
        },
        {
         "name": "14 tBodyAcc-min()-Y",
         "rawType": "float64",
         "type": "float"
        },
        {
         "name": "15 tBodyAcc-min()-Z",
         "rawType": "float64",
         "type": "float"
        },
        {
         "name": "16 tBodyAcc-sma()",
         "rawType": "float64",
         "type": "float"
        },
        {
         "name": "17 tBodyAcc-energy()-X",
         "rawType": "float64",
         "type": "float"
        },
        {
         "name": "18 tBodyAcc-energy()-Y",
         "rawType": "float64",
         "type": "float"
        },
        {
         "name": "19 tBodyAcc-energy()-Z",
         "rawType": "float64",
         "type": "float"
        },
        {
         "name": "20 tBodyAcc-iqr()-X",
         "rawType": "float64",
         "type": "float"
        },
        {
         "name": "21 tBodyAcc-iqr()-Y",
         "rawType": "float64",
         "type": "float"
        },
        {
         "name": "22 tBodyAcc-iqr()-Z",
         "rawType": "float64",
         "type": "float"
        },
        {
         "name": "23 tBodyAcc-entropy()-X",
         "rawType": "float64",
         "type": "float"
        },
        {
         "name": "24 tBodyAcc-entropy()-Y",
         "rawType": "float64",
         "type": "float"
        },
        {
         "name": "25 tBodyAcc-entropy()-Z",
         "rawType": "float64",
         "type": "float"
        },
        {
         "name": "26 tBodyAcc-arCoeff()-X,1",
         "rawType": "float64",
         "type": "float"
        },
        {
         "name": "27 tBodyAcc-arCoeff()-X,2",
         "rawType": "float64",
         "type": "float"
        },
        {
         "name": "28 tBodyAcc-arCoeff()-X,3",
         "rawType": "float64",
         "type": "float"
        },
        {
         "name": "29 tBodyAcc-arCoeff()-X,4",
         "rawType": "float64",
         "type": "float"
        },
        {
         "name": "30 tBodyAcc-arCoeff()-Y,1",
         "rawType": "float64",
         "type": "float"
        },
        {
         "name": "31 tBodyAcc-arCoeff()-Y,2",
         "rawType": "float64",
         "type": "float"
        },
        {
         "name": "32 tBodyAcc-arCoeff()-Y,3",
         "rawType": "float64",
         "type": "float"
        },
        {
         "name": "33 tBodyAcc-arCoeff()-Y,4",
         "rawType": "float64",
         "type": "float"
        },
        {
         "name": "34 tBodyAcc-arCoeff()-Z,1",
         "rawType": "float64",
         "type": "float"
        },
        {
         "name": "35 tBodyAcc-arCoeff()-Z,2",
         "rawType": "float64",
         "type": "float"
        },
        {
         "name": "36 tBodyAcc-arCoeff()-Z,3",
         "rawType": "float64",
         "type": "float"
        },
        {
         "name": "37 tBodyAcc-arCoeff()-Z,4",
         "rawType": "float64",
         "type": "float"
        },
        {
         "name": "38 tBodyAcc-correlation()-X,Y",
         "rawType": "float64",
         "type": "float"
        },
        {
         "name": "39 tBodyAcc-correlation()-X,Z",
         "rawType": "float64",
         "type": "float"
        },
        {
         "name": "40 tBodyAcc-correlation()-Y,Z",
         "rawType": "float64",
         "type": "float"
        },
        {
         "name": "41 tGravityAcc-mean()-X",
         "rawType": "float64",
         "type": "float"
        },
        {
         "name": "42 tGravityAcc-mean()-Y",
         "rawType": "float64",
         "type": "float"
        },
        {
         "name": "43 tGravityAcc-mean()-Z",
         "rawType": "float64",
         "type": "float"
        },
        {
         "name": "44 tGravityAcc-std()-X",
         "rawType": "float64",
         "type": "float"
        },
        {
         "name": "45 tGravityAcc-std()-Y",
         "rawType": "float64",
         "type": "float"
        },
        {
         "name": "46 tGravityAcc-std()-Z",
         "rawType": "float64",
         "type": "float"
        },
        {
         "name": "47 tGravityAcc-mad()-X",
         "rawType": "float64",
         "type": "float"
        },
        {
         "name": "48 tGravityAcc-mad()-Y",
         "rawType": "float64",
         "type": "float"
        },
        {
         "name": "49 tGravityAcc-mad()-Z",
         "rawType": "float64",
         "type": "float"
        },
        {
         "name": "50 tGravityAcc-max()-X",
         "rawType": "float64",
         "type": "float"
        },
        {
         "name": "51 tGravityAcc-max()-Y",
         "rawType": "float64",
         "type": "float"
        },
        {
         "name": "52 tGravityAcc-max()-Z",
         "rawType": "float64",
         "type": "float"
        },
        {
         "name": "53 tGravityAcc-min()-X",
         "rawType": "float64",
         "type": "float"
        },
        {
         "name": "54 tGravityAcc-min()-Y",
         "rawType": "float64",
         "type": "float"
        },
        {
         "name": "55 tGravityAcc-min()-Z",
         "rawType": "float64",
         "type": "float"
        },
        {
         "name": "56 tGravityAcc-sma()",
         "rawType": "float64",
         "type": "float"
        },
        {
         "name": "57 tGravityAcc-energy()-X",
         "rawType": "float64",
         "type": "float"
        },
        {
         "name": "58 tGravityAcc-energy()-Y",
         "rawType": "float64",
         "type": "float"
        },
        {
         "name": "59 tGravityAcc-energy()-Z",
         "rawType": "float64",
         "type": "float"
        },
        {
         "name": "60 tGravityAcc-iqr()-X",
         "rawType": "float64",
         "type": "float"
        },
        {
         "name": "61 tGravityAcc-iqr()-Y",
         "rawType": "float64",
         "type": "float"
        },
        {
         "name": "62 tGravityAcc-iqr()-Z",
         "rawType": "float64",
         "type": "float"
        },
        {
         "name": "63 tGravityAcc-entropy()-X",
         "rawType": "float64",
         "type": "float"
        },
        {
         "name": "64 tGravityAcc-entropy()-Y",
         "rawType": "float64",
         "type": "float"
        },
        {
         "name": "65 tGravityAcc-entropy()-Z",
         "rawType": "float64",
         "type": "float"
        },
        {
         "name": "66 tGravityAcc-arCoeff()-X,1",
         "rawType": "float64",
         "type": "float"
        },
        {
         "name": "67 tGravityAcc-arCoeff()-X,2",
         "rawType": "float64",
         "type": "float"
        },
        {
         "name": "68 tGravityAcc-arCoeff()-X,3",
         "rawType": "float64",
         "type": "float"
        },
        {
         "name": "69 tGravityAcc-arCoeff()-X,4",
         "rawType": "float64",
         "type": "float"
        },
        {
         "name": "70 tGravityAcc-arCoeff()-Y,1",
         "rawType": "float64",
         "type": "float"
        },
        {
         "name": "71 tGravityAcc-arCoeff()-Y,2",
         "rawType": "float64",
         "type": "float"
        },
        {
         "name": "72 tGravityAcc-arCoeff()-Y,3",
         "rawType": "float64",
         "type": "float"
        },
        {
         "name": "73 tGravityAcc-arCoeff()-Y,4",
         "rawType": "float64",
         "type": "float"
        },
        {
         "name": "74 tGravityAcc-arCoeff()-Z,1",
         "rawType": "float64",
         "type": "float"
        },
        {
         "name": "75 tGravityAcc-arCoeff()-Z,2",
         "rawType": "float64",
         "type": "float"
        },
        {
         "name": "76 tGravityAcc-arCoeff()-Z,3",
         "rawType": "float64",
         "type": "float"
        },
        {
         "name": "77 tGravityAcc-arCoeff()-Z,4",
         "rawType": "float64",
         "type": "float"
        },
        {
         "name": "78 tGravityAcc-correlation()-X,Y",
         "rawType": "float64",
         "type": "float"
        },
        {
         "name": "79 tGravityAcc-correlation()-X,Z",
         "rawType": "float64",
         "type": "float"
        },
        {
         "name": "80 tGravityAcc-correlation()-Y,Z",
         "rawType": "float64",
         "type": "float"
        },
        {
         "name": "81 tBodyAccJerk-mean()-X",
         "rawType": "float64",
         "type": "float"
        },
        {
         "name": "82 tBodyAccJerk-mean()-Y",
         "rawType": "float64",
         "type": "float"
        },
        {
         "name": "83 tBodyAccJerk-mean()-Z",
         "rawType": "float64",
         "type": "float"
        },
        {
         "name": "84 tBodyAccJerk-std()-X",
         "rawType": "float64",
         "type": "float"
        },
        {
         "name": "85 tBodyAccJerk-std()-Y",
         "rawType": "float64",
         "type": "float"
        },
        {
         "name": "86 tBodyAccJerk-std()-Z",
         "rawType": "float64",
         "type": "float"
        },
        {
         "name": "87 tBodyAccJerk-mad()-X",
         "rawType": "float64",
         "type": "float"
        },
        {
         "name": "88 tBodyAccJerk-mad()-Y",
         "rawType": "float64",
         "type": "float"
        },
        {
         "name": "89 tBodyAccJerk-mad()-Z",
         "rawType": "float64",
         "type": "float"
        },
        {
         "name": "90 tBodyAccJerk-max()-X",
         "rawType": "float64",
         "type": "float"
        },
        {
         "name": "91 tBodyAccJerk-max()-Y",
         "rawType": "float64",
         "type": "float"
        },
        {
         "name": "92 tBodyAccJerk-max()-Z",
         "rawType": "float64",
         "type": "float"
        },
        {
         "name": "93 tBodyAccJerk-min()-X",
         "rawType": "float64",
         "type": "float"
        },
        {
         "name": "94 tBodyAccJerk-min()-Y",
         "rawType": "float64",
         "type": "float"
        },
        {
         "name": "95 tBodyAccJerk-min()-Z",
         "rawType": "float64",
         "type": "float"
        },
        {
         "name": "96 tBodyAccJerk-sma()",
         "rawType": "float64",
         "type": "float"
        },
        {
         "name": "97 tBodyAccJerk-energy()-X",
         "rawType": "float64",
         "type": "float"
        },
        {
         "name": "98 tBodyAccJerk-energy()-Y",
         "rawType": "float64",
         "type": "float"
        },
        {
         "name": "99 tBodyAccJerk-energy()-Z",
         "rawType": "float64",
         "type": "float"
        },
        {
         "name": "100 tBodyAccJerk-iqr()-X",
         "rawType": "float64",
         "type": "float"
        },
        {
         "name": "101 tBodyAccJerk-iqr()-Y",
         "rawType": "float64",
         "type": "float"
        },
        {
         "name": "102 tBodyAccJerk-iqr()-Z",
         "rawType": "float64",
         "type": "float"
        },
        {
         "name": "103 tBodyAccJerk-entropy()-X",
         "rawType": "float64",
         "type": "float"
        },
        {
         "name": "104 tBodyAccJerk-entropy()-Y",
         "rawType": "float64",
         "type": "float"
        },
        {
         "name": "105 tBodyAccJerk-entropy()-Z",
         "rawType": "float64",
         "type": "float"
        },
        {
         "name": "106 tBodyAccJerk-arCoeff()-X,1",
         "rawType": "float64",
         "type": "float"
        },
        {
         "name": "107 tBodyAccJerk-arCoeff()-X,2",
         "rawType": "float64",
         "type": "float"
        },
        {
         "name": "108 tBodyAccJerk-arCoeff()-X,3",
         "rawType": "float64",
         "type": "float"
        },
        {
         "name": "109 tBodyAccJerk-arCoeff()-X,4",
         "rawType": "float64",
         "type": "float"
        },
        {
         "name": "110 tBodyAccJerk-arCoeff()-Y,1",
         "rawType": "float64",
         "type": "float"
        },
        {
         "name": "111 tBodyAccJerk-arCoeff()-Y,2",
         "rawType": "float64",
         "type": "float"
        },
        {
         "name": "112 tBodyAccJerk-arCoeff()-Y,3",
         "rawType": "float64",
         "type": "float"
        },
        {
         "name": "113 tBodyAccJerk-arCoeff()-Y,4",
         "rawType": "float64",
         "type": "float"
        },
        {
         "name": "114 tBodyAccJerk-arCoeff()-Z,1",
         "rawType": "float64",
         "type": "float"
        },
        {
         "name": "115 tBodyAccJerk-arCoeff()-Z,2",
         "rawType": "float64",
         "type": "float"
        },
        {
         "name": "116 tBodyAccJerk-arCoeff()-Z,3",
         "rawType": "float64",
         "type": "float"
        },
        {
         "name": "117 tBodyAccJerk-arCoeff()-Z,4",
         "rawType": "float64",
         "type": "float"
        },
        {
         "name": "118 tBodyAccJerk-correlation()-X,Y",
         "rawType": "float64",
         "type": "float"
        },
        {
         "name": "119 tBodyAccJerk-correlation()-X,Z",
         "rawType": "float64",
         "type": "float"
        },
        {
         "name": "120 tBodyAccJerk-correlation()-Y,Z",
         "rawType": "float64",
         "type": "float"
        },
        {
         "name": "121 tBodyGyro-mean()-X",
         "rawType": "float64",
         "type": "float"
        },
        {
         "name": "122 tBodyGyro-mean()-Y",
         "rawType": "float64",
         "type": "float"
        },
        {
         "name": "123 tBodyGyro-mean()-Z",
         "rawType": "float64",
         "type": "float"
        },
        {
         "name": "124 tBodyGyro-std()-X",
         "rawType": "float64",
         "type": "float"
        },
        {
         "name": "125 tBodyGyro-std()-Y",
         "rawType": "float64",
         "type": "float"
        },
        {
         "name": "126 tBodyGyro-std()-Z",
         "rawType": "float64",
         "type": "float"
        },
        {
         "name": "127 tBodyGyro-mad()-X",
         "rawType": "float64",
         "type": "float"
        },
        {
         "name": "128 tBodyGyro-mad()-Y",
         "rawType": "float64",
         "type": "float"
        },
        {
         "name": "129 tBodyGyro-mad()-Z",
         "rawType": "float64",
         "type": "float"
        },
        {
         "name": "130 tBodyGyro-max()-X",
         "rawType": "float64",
         "type": "float"
        },
        {
         "name": "131 tBodyGyro-max()-Y",
         "rawType": "float64",
         "type": "float"
        },
        {
         "name": "132 tBodyGyro-max()-Z",
         "rawType": "float64",
         "type": "float"
        },
        {
         "name": "133 tBodyGyro-min()-X",
         "rawType": "float64",
         "type": "float"
        },
        {
         "name": "134 tBodyGyro-min()-Y",
         "rawType": "float64",
         "type": "float"
        },
        {
         "name": "135 tBodyGyro-min()-Z",
         "rawType": "float64",
         "type": "float"
        },
        {
         "name": "136 tBodyGyro-sma()",
         "rawType": "float64",
         "type": "float"
        },
        {
         "name": "137 tBodyGyro-energy()-X",
         "rawType": "float64",
         "type": "float"
        },
        {
         "name": "138 tBodyGyro-energy()-Y",
         "rawType": "float64",
         "type": "float"
        },
        {
         "name": "139 tBodyGyro-energy()-Z",
         "rawType": "float64",
         "type": "float"
        },
        {
         "name": "140 tBodyGyro-iqr()-X",
         "rawType": "float64",
         "type": "float"
        },
        {
         "name": "141 tBodyGyro-iqr()-Y",
         "rawType": "float64",
         "type": "float"
        },
        {
         "name": "142 tBodyGyro-iqr()-Z",
         "rawType": "float64",
         "type": "float"
        },
        {
         "name": "143 tBodyGyro-entropy()-X",
         "rawType": "float64",
         "type": "float"
        },
        {
         "name": "144 tBodyGyro-entropy()-Y",
         "rawType": "float64",
         "type": "float"
        },
        {
         "name": "145 tBodyGyro-entropy()-Z",
         "rawType": "float64",
         "type": "float"
        },
        {
         "name": "146 tBodyGyro-arCoeff()-X,1",
         "rawType": "float64",
         "type": "float"
        },
        {
         "name": "147 tBodyGyro-arCoeff()-X,2",
         "rawType": "float64",
         "type": "float"
        },
        {
         "name": "148 tBodyGyro-arCoeff()-X,3",
         "rawType": "float64",
         "type": "float"
        },
        {
         "name": "149 tBodyGyro-arCoeff()-X,4",
         "rawType": "float64",
         "type": "float"
        },
        {
         "name": "150 tBodyGyro-arCoeff()-Y,1",
         "rawType": "float64",
         "type": "float"
        },
        {
         "name": "151 tBodyGyro-arCoeff()-Y,2",
         "rawType": "float64",
         "type": "float"
        },
        {
         "name": "152 tBodyGyro-arCoeff()-Y,3",
         "rawType": "float64",
         "type": "float"
        },
        {
         "name": "153 tBodyGyro-arCoeff()-Y,4",
         "rawType": "float64",
         "type": "float"
        },
        {
         "name": "154 tBodyGyro-arCoeff()-Z,1",
         "rawType": "float64",
         "type": "float"
        },
        {
         "name": "155 tBodyGyro-arCoeff()-Z,2",
         "rawType": "float64",
         "type": "float"
        },
        {
         "name": "156 tBodyGyro-arCoeff()-Z,3",
         "rawType": "float64",
         "type": "float"
        },
        {
         "name": "157 tBodyGyro-arCoeff()-Z,4",
         "rawType": "float64",
         "type": "float"
        },
        {
         "name": "158 tBodyGyro-correlation()-X,Y",
         "rawType": "float64",
         "type": "float"
        },
        {
         "name": "159 tBodyGyro-correlation()-X,Z",
         "rawType": "float64",
         "type": "float"
        },
        {
         "name": "160 tBodyGyro-correlation()-Y,Z",
         "rawType": "float64",
         "type": "float"
        },
        {
         "name": "161 tBodyGyroJerk-mean()-X",
         "rawType": "float64",
         "type": "float"
        },
        {
         "name": "162 tBodyGyroJerk-mean()-Y",
         "rawType": "float64",
         "type": "float"
        },
        {
         "name": "163 tBodyGyroJerk-mean()-Z",
         "rawType": "float64",
         "type": "float"
        },
        {
         "name": "164 tBodyGyroJerk-std()-X",
         "rawType": "float64",
         "type": "float"
        },
        {
         "name": "165 tBodyGyroJerk-std()-Y",
         "rawType": "float64",
         "type": "float"
        },
        {
         "name": "166 tBodyGyroJerk-std()-Z",
         "rawType": "float64",
         "type": "float"
        },
        {
         "name": "167 tBodyGyroJerk-mad()-X",
         "rawType": "float64",
         "type": "float"
        },
        {
         "name": "168 tBodyGyroJerk-mad()-Y",
         "rawType": "float64",
         "type": "float"
        },
        {
         "name": "169 tBodyGyroJerk-mad()-Z",
         "rawType": "float64",
         "type": "float"
        },
        {
         "name": "170 tBodyGyroJerk-max()-X",
         "rawType": "float64",
         "type": "float"
        },
        {
         "name": "171 tBodyGyroJerk-max()-Y",
         "rawType": "float64",
         "type": "float"
        },
        {
         "name": "172 tBodyGyroJerk-max()-Z",
         "rawType": "float64",
         "type": "float"
        },
        {
         "name": "173 tBodyGyroJerk-min()-X",
         "rawType": "float64",
         "type": "float"
        },
        {
         "name": "174 tBodyGyroJerk-min()-Y",
         "rawType": "float64",
         "type": "float"
        },
        {
         "name": "175 tBodyGyroJerk-min()-Z",
         "rawType": "float64",
         "type": "float"
        },
        {
         "name": "176 tBodyGyroJerk-sma()",
         "rawType": "float64",
         "type": "float"
        },
        {
         "name": "177 tBodyGyroJerk-energy()-X",
         "rawType": "float64",
         "type": "float"
        },
        {
         "name": "178 tBodyGyroJerk-energy()-Y",
         "rawType": "float64",
         "type": "float"
        },
        {
         "name": "179 tBodyGyroJerk-energy()-Z",
         "rawType": "float64",
         "type": "float"
        },
        {
         "name": "180 tBodyGyroJerk-iqr()-X",
         "rawType": "float64",
         "type": "float"
        },
        {
         "name": "181 tBodyGyroJerk-iqr()-Y",
         "rawType": "float64",
         "type": "float"
        },
        {
         "name": "182 tBodyGyroJerk-iqr()-Z",
         "rawType": "float64",
         "type": "float"
        },
        {
         "name": "183 tBodyGyroJerk-entropy()-X",
         "rawType": "float64",
         "type": "float"
        },
        {
         "name": "184 tBodyGyroJerk-entropy()-Y",
         "rawType": "float64",
         "type": "float"
        },
        {
         "name": "185 tBodyGyroJerk-entropy()-Z",
         "rawType": "float64",
         "type": "float"
        },
        {
         "name": "186 tBodyGyroJerk-arCoeff()-X,1",
         "rawType": "float64",
         "type": "float"
        },
        {
         "name": "187 tBodyGyroJerk-arCoeff()-X,2",
         "rawType": "float64",
         "type": "float"
        },
        {
         "name": "188 tBodyGyroJerk-arCoeff()-X,3",
         "rawType": "float64",
         "type": "float"
        },
        {
         "name": "189 tBodyGyroJerk-arCoeff()-X,4",
         "rawType": "float64",
         "type": "float"
        },
        {
         "name": "190 tBodyGyroJerk-arCoeff()-Y,1",
         "rawType": "float64",
         "type": "float"
        },
        {
         "name": "191 tBodyGyroJerk-arCoeff()-Y,2",
         "rawType": "float64",
         "type": "float"
        },
        {
         "name": "192 tBodyGyroJerk-arCoeff()-Y,3",
         "rawType": "float64",
         "type": "float"
        },
        {
         "name": "193 tBodyGyroJerk-arCoeff()-Y,4",
         "rawType": "float64",
         "type": "float"
        },
        {
         "name": "194 tBodyGyroJerk-arCoeff()-Z,1",
         "rawType": "float64",
         "type": "float"
        },
        {
         "name": "195 tBodyGyroJerk-arCoeff()-Z,2",
         "rawType": "float64",
         "type": "float"
        },
        {
         "name": "196 tBodyGyroJerk-arCoeff()-Z,3",
         "rawType": "float64",
         "type": "float"
        },
        {
         "name": "197 tBodyGyroJerk-arCoeff()-Z,4",
         "rawType": "float64",
         "type": "float"
        },
        {
         "name": "198 tBodyGyroJerk-correlation()-X,Y",
         "rawType": "float64",
         "type": "float"
        },
        {
         "name": "199 tBodyGyroJerk-correlation()-X,Z",
         "rawType": "float64",
         "type": "float"
        },
        {
         "name": "200 tBodyGyroJerk-correlation()-Y,Z",
         "rawType": "float64",
         "type": "float"
        },
        {
         "name": "201 tBodyAccMag-mean()",
         "rawType": "float64",
         "type": "float"
        },
        {
         "name": "202 tBodyAccMag-std()",
         "rawType": "float64",
         "type": "float"
        },
        {
         "name": "203 tBodyAccMag-mad()",
         "rawType": "float64",
         "type": "float"
        },
        {
         "name": "204 tBodyAccMag-max()",
         "rawType": "float64",
         "type": "float"
        },
        {
         "name": "205 tBodyAccMag-min()",
         "rawType": "float64",
         "type": "float"
        },
        {
         "name": "206 tBodyAccMag-sma()",
         "rawType": "float64",
         "type": "float"
        },
        {
         "name": "207 tBodyAccMag-energy()",
         "rawType": "float64",
         "type": "float"
        },
        {
         "name": "208 tBodyAccMag-iqr()",
         "rawType": "float64",
         "type": "float"
        },
        {
         "name": "209 tBodyAccMag-entropy()",
         "rawType": "float64",
         "type": "float"
        },
        {
         "name": "210 tBodyAccMag-arCoeff()1",
         "rawType": "float64",
         "type": "float"
        },
        {
         "name": "211 tBodyAccMag-arCoeff()2",
         "rawType": "float64",
         "type": "float"
        },
        {
         "name": "212 tBodyAccMag-arCoeff()3",
         "rawType": "float64",
         "type": "float"
        },
        {
         "name": "213 tBodyAccMag-arCoeff()4",
         "rawType": "float64",
         "type": "float"
        },
        {
         "name": "214 tGravityAccMag-mean()",
         "rawType": "float64",
         "type": "float"
        },
        {
         "name": "215 tGravityAccMag-std()",
         "rawType": "float64",
         "type": "float"
        },
        {
         "name": "216 tGravityAccMag-mad()",
         "rawType": "float64",
         "type": "float"
        },
        {
         "name": "217 tGravityAccMag-max()",
         "rawType": "float64",
         "type": "float"
        },
        {
         "name": "218 tGravityAccMag-min()",
         "rawType": "float64",
         "type": "float"
        },
        {
         "name": "219 tGravityAccMag-sma()",
         "rawType": "float64",
         "type": "float"
        },
        {
         "name": "220 tGravityAccMag-energy()",
         "rawType": "float64",
         "type": "float"
        },
        {
         "name": "221 tGravityAccMag-iqr()",
         "rawType": "float64",
         "type": "float"
        },
        {
         "name": "222 tGravityAccMag-entropy()",
         "rawType": "float64",
         "type": "float"
        },
        {
         "name": "223 tGravityAccMag-arCoeff()1",
         "rawType": "float64",
         "type": "float"
        },
        {
         "name": "224 tGravityAccMag-arCoeff()2",
         "rawType": "float64",
         "type": "float"
        },
        {
         "name": "225 tGravityAccMag-arCoeff()3",
         "rawType": "float64",
         "type": "float"
        },
        {
         "name": "226 tGravityAccMag-arCoeff()4",
         "rawType": "float64",
         "type": "float"
        },
        {
         "name": "227 tBodyAccJerkMag-mean()",
         "rawType": "float64",
         "type": "float"
        },
        {
         "name": "228 tBodyAccJerkMag-std()",
         "rawType": "float64",
         "type": "float"
        },
        {
         "name": "229 tBodyAccJerkMag-mad()",
         "rawType": "float64",
         "type": "float"
        },
        {
         "name": "230 tBodyAccJerkMag-max()",
         "rawType": "float64",
         "type": "float"
        },
        {
         "name": "231 tBodyAccJerkMag-min()",
         "rawType": "float64",
         "type": "float"
        },
        {
         "name": "232 tBodyAccJerkMag-sma()",
         "rawType": "float64",
         "type": "float"
        },
        {
         "name": "233 tBodyAccJerkMag-energy()",
         "rawType": "float64",
         "type": "float"
        },
        {
         "name": "234 tBodyAccJerkMag-iqr()",
         "rawType": "float64",
         "type": "float"
        },
        {
         "name": "235 tBodyAccJerkMag-entropy()",
         "rawType": "float64",
         "type": "float"
        },
        {
         "name": "236 tBodyAccJerkMag-arCoeff()1",
         "rawType": "float64",
         "type": "float"
        },
        {
         "name": "237 tBodyAccJerkMag-arCoeff()2",
         "rawType": "float64",
         "type": "float"
        },
        {
         "name": "238 tBodyAccJerkMag-arCoeff()3",
         "rawType": "float64",
         "type": "float"
        },
        {
         "name": "239 tBodyAccJerkMag-arCoeff()4",
         "rawType": "float64",
         "type": "float"
        },
        {
         "name": "240 tBodyGyroMag-mean()",
         "rawType": "float64",
         "type": "float"
        },
        {
         "name": "241 tBodyGyroMag-std()",
         "rawType": "float64",
         "type": "float"
        },
        {
         "name": "242 tBodyGyroMag-mad()",
         "rawType": "float64",
         "type": "float"
        },
        {
         "name": "243 tBodyGyroMag-max()",
         "rawType": "float64",
         "type": "float"
        },
        {
         "name": "244 tBodyGyroMag-min()",
         "rawType": "float64",
         "type": "float"
        },
        {
         "name": "245 tBodyGyroMag-sma()",
         "rawType": "float64",
         "type": "float"
        },
        {
         "name": "246 tBodyGyroMag-energy()",
         "rawType": "float64",
         "type": "float"
        },
        {
         "name": "247 tBodyGyroMag-iqr()",
         "rawType": "float64",
         "type": "float"
        },
        {
         "name": "248 tBodyGyroMag-entropy()",
         "rawType": "float64",
         "type": "float"
        },
        {
         "name": "249 tBodyGyroMag-arCoeff()1",
         "rawType": "float64",
         "type": "float"
        },
        {
         "name": "250 tBodyGyroMag-arCoeff()2",
         "rawType": "float64",
         "type": "float"
        },
        {
         "name": "251 tBodyGyroMag-arCoeff()3",
         "rawType": "float64",
         "type": "float"
        },
        {
         "name": "252 tBodyGyroMag-arCoeff()4",
         "rawType": "float64",
         "type": "float"
        },
        {
         "name": "253 tBodyGyroJerkMag-mean()",
         "rawType": "float64",
         "type": "float"
        },
        {
         "name": "254 tBodyGyroJerkMag-std()",
         "rawType": "float64",
         "type": "float"
        },
        {
         "name": "255 tBodyGyroJerkMag-mad()",
         "rawType": "float64",
         "type": "float"
        },
        {
         "name": "256 tBodyGyroJerkMag-max()",
         "rawType": "float64",
         "type": "float"
        },
        {
         "name": "257 tBodyGyroJerkMag-min()",
         "rawType": "float64",
         "type": "float"
        },
        {
         "name": "258 tBodyGyroJerkMag-sma()",
         "rawType": "float64",
         "type": "float"
        },
        {
         "name": "259 tBodyGyroJerkMag-energy()",
         "rawType": "float64",
         "type": "float"
        },
        {
         "name": "260 tBodyGyroJerkMag-iqr()",
         "rawType": "float64",
         "type": "float"
        },
        {
         "name": "261 tBodyGyroJerkMag-entropy()",
         "rawType": "float64",
         "type": "float"
        },
        {
         "name": "262 tBodyGyroJerkMag-arCoeff()1",
         "rawType": "float64",
         "type": "float"
        },
        {
         "name": "263 tBodyGyroJerkMag-arCoeff()2",
         "rawType": "float64",
         "type": "float"
        },
        {
         "name": "264 tBodyGyroJerkMag-arCoeff()3",
         "rawType": "float64",
         "type": "float"
        },
        {
         "name": "265 tBodyGyroJerkMag-arCoeff()4",
         "rawType": "float64",
         "type": "float"
        },
        {
         "name": "266 fBodyAcc-mean()-X",
         "rawType": "float64",
         "type": "float"
        },
        {
         "name": "267 fBodyAcc-mean()-Y",
         "rawType": "float64",
         "type": "float"
        },
        {
         "name": "268 fBodyAcc-mean()-Z",
         "rawType": "float64",
         "type": "float"
        },
        {
         "name": "269 fBodyAcc-std()-X",
         "rawType": "float64",
         "type": "float"
        },
        {
         "name": "270 fBodyAcc-std()-Y",
         "rawType": "float64",
         "type": "float"
        },
        {
         "name": "271 fBodyAcc-std()-Z",
         "rawType": "float64",
         "type": "float"
        },
        {
         "name": "272 fBodyAcc-mad()-X",
         "rawType": "float64",
         "type": "float"
        },
        {
         "name": "273 fBodyAcc-mad()-Y",
         "rawType": "float64",
         "type": "float"
        },
        {
         "name": "274 fBodyAcc-mad()-Z",
         "rawType": "float64",
         "type": "float"
        },
        {
         "name": "275 fBodyAcc-max()-X",
         "rawType": "float64",
         "type": "float"
        },
        {
         "name": "276 fBodyAcc-max()-Y",
         "rawType": "float64",
         "type": "float"
        },
        {
         "name": "277 fBodyAcc-max()-Z",
         "rawType": "float64",
         "type": "float"
        },
        {
         "name": "278 fBodyAcc-min()-X",
         "rawType": "float64",
         "type": "float"
        },
        {
         "name": "279 fBodyAcc-min()-Y",
         "rawType": "float64",
         "type": "float"
        },
        {
         "name": "280 fBodyAcc-min()-Z",
         "rawType": "float64",
         "type": "float"
        },
        {
         "name": "281 fBodyAcc-sma()",
         "rawType": "float64",
         "type": "float"
        },
        {
         "name": "282 fBodyAcc-energy()-X",
         "rawType": "float64",
         "type": "float"
        },
        {
         "name": "283 fBodyAcc-energy()-Y",
         "rawType": "float64",
         "type": "float"
        },
        {
         "name": "284 fBodyAcc-energy()-Z",
         "rawType": "float64",
         "type": "float"
        },
        {
         "name": "285 fBodyAcc-iqr()-X",
         "rawType": "float64",
         "type": "float"
        },
        {
         "name": "286 fBodyAcc-iqr()-Y",
         "rawType": "float64",
         "type": "float"
        },
        {
         "name": "287 fBodyAcc-iqr()-Z",
         "rawType": "float64",
         "type": "float"
        },
        {
         "name": "288 fBodyAcc-entropy()-X",
         "rawType": "float64",
         "type": "float"
        },
        {
         "name": "289 fBodyAcc-entropy()-Y",
         "rawType": "float64",
         "type": "float"
        },
        {
         "name": "290 fBodyAcc-entropy()-Z",
         "rawType": "float64",
         "type": "float"
        },
        {
         "name": "291 fBodyAcc-maxInds-X",
         "rawType": "float64",
         "type": "float"
        },
        {
         "name": "292 fBodyAcc-maxInds-Y",
         "rawType": "float64",
         "type": "float"
        },
        {
         "name": "293 fBodyAcc-maxInds-Z",
         "rawType": "float64",
         "type": "float"
        },
        {
         "name": "294 fBodyAcc-meanFreq()-X",
         "rawType": "float64",
         "type": "float"
        },
        {
         "name": "295 fBodyAcc-meanFreq()-Y",
         "rawType": "float64",
         "type": "float"
        },
        {
         "name": "296 fBodyAcc-meanFreq()-Z",
         "rawType": "float64",
         "type": "float"
        },
        {
         "name": "297 fBodyAcc-skewness()-X",
         "rawType": "float64",
         "type": "float"
        },
        {
         "name": "298 fBodyAcc-kurtosis()-X",
         "rawType": "float64",
         "type": "float"
        },
        {
         "name": "299 fBodyAcc-skewness()-Y",
         "rawType": "float64",
         "type": "float"
        },
        {
         "name": "300 fBodyAcc-kurtosis()-Y",
         "rawType": "float64",
         "type": "float"
        },
        {
         "name": "301 fBodyAcc-skewness()-Z",
         "rawType": "float64",
         "type": "float"
        },
        {
         "name": "302 fBodyAcc-kurtosis()-Z",
         "rawType": "float64",
         "type": "float"
        },
        {
         "name": "303 fBodyAcc-bandsEnergy()-1,8",
         "rawType": "float64",
         "type": "float"
        },
        {
         "name": "304 fBodyAcc-bandsEnergy()-9,16",
         "rawType": "float64",
         "type": "float"
        },
        {
         "name": "305 fBodyAcc-bandsEnergy()-17,24",
         "rawType": "float64",
         "type": "float"
        },
        {
         "name": "306 fBodyAcc-bandsEnergy()-25,32",
         "rawType": "float64",
         "type": "float"
        },
        {
         "name": "307 fBodyAcc-bandsEnergy()-33,40",
         "rawType": "float64",
         "type": "float"
        },
        {
         "name": "308 fBodyAcc-bandsEnergy()-41,48",
         "rawType": "float64",
         "type": "float"
        },
        {
         "name": "309 fBodyAcc-bandsEnergy()-49,56",
         "rawType": "float64",
         "type": "float"
        },
        {
         "name": "310 fBodyAcc-bandsEnergy()-57,64",
         "rawType": "float64",
         "type": "float"
        },
        {
         "name": "311 fBodyAcc-bandsEnergy()-1,16",
         "rawType": "float64",
         "type": "float"
        },
        {
         "name": "312 fBodyAcc-bandsEnergy()-17,32",
         "rawType": "float64",
         "type": "float"
        },
        {
         "name": "313 fBodyAcc-bandsEnergy()-33,48",
         "rawType": "float64",
         "type": "float"
        },
        {
         "name": "314 fBodyAcc-bandsEnergy()-49,64",
         "rawType": "float64",
         "type": "float"
        },
        {
         "name": "315 fBodyAcc-bandsEnergy()-1,24",
         "rawType": "float64",
         "type": "float"
        },
        {
         "name": "316 fBodyAcc-bandsEnergy()-25,48",
         "rawType": "float64",
         "type": "float"
        },
        {
         "name": "317 fBodyAcc-bandsEnergy()-1,8",
         "rawType": "float64",
         "type": "float"
        },
        {
         "name": "318 fBodyAcc-bandsEnergy()-9,16",
         "rawType": "float64",
         "type": "float"
        },
        {
         "name": "319 fBodyAcc-bandsEnergy()-17,24",
         "rawType": "float64",
         "type": "float"
        },
        {
         "name": "320 fBodyAcc-bandsEnergy()-25,32",
         "rawType": "float64",
         "type": "float"
        },
        {
         "name": "321 fBodyAcc-bandsEnergy()-33,40",
         "rawType": "float64",
         "type": "float"
        },
        {
         "name": "322 fBodyAcc-bandsEnergy()-41,48",
         "rawType": "float64",
         "type": "float"
        },
        {
         "name": "323 fBodyAcc-bandsEnergy()-49,56",
         "rawType": "float64",
         "type": "float"
        },
        {
         "name": "324 fBodyAcc-bandsEnergy()-57,64",
         "rawType": "float64",
         "type": "float"
        },
        {
         "name": "325 fBodyAcc-bandsEnergy()-1,16",
         "rawType": "float64",
         "type": "float"
        },
        {
         "name": "326 fBodyAcc-bandsEnergy()-17,32",
         "rawType": "float64",
         "type": "float"
        },
        {
         "name": "327 fBodyAcc-bandsEnergy()-33,48",
         "rawType": "float64",
         "type": "float"
        },
        {
         "name": "328 fBodyAcc-bandsEnergy()-49,64",
         "rawType": "float64",
         "type": "float"
        },
        {
         "name": "329 fBodyAcc-bandsEnergy()-1,24",
         "rawType": "float64",
         "type": "float"
        },
        {
         "name": "330 fBodyAcc-bandsEnergy()-25,48",
         "rawType": "float64",
         "type": "float"
        },
        {
         "name": "331 fBodyAcc-bandsEnergy()-1,8",
         "rawType": "float64",
         "type": "float"
        },
        {
         "name": "332 fBodyAcc-bandsEnergy()-9,16",
         "rawType": "float64",
         "type": "float"
        },
        {
         "name": "333 fBodyAcc-bandsEnergy()-17,24",
         "rawType": "float64",
         "type": "float"
        },
        {
         "name": "334 fBodyAcc-bandsEnergy()-25,32",
         "rawType": "float64",
         "type": "float"
        },
        {
         "name": "335 fBodyAcc-bandsEnergy()-33,40",
         "rawType": "float64",
         "type": "float"
        },
        {
         "name": "336 fBodyAcc-bandsEnergy()-41,48",
         "rawType": "float64",
         "type": "float"
        },
        {
         "name": "337 fBodyAcc-bandsEnergy()-49,56",
         "rawType": "float64",
         "type": "float"
        },
        {
         "name": "338 fBodyAcc-bandsEnergy()-57,64",
         "rawType": "float64",
         "type": "float"
        },
        {
         "name": "339 fBodyAcc-bandsEnergy()-1,16",
         "rawType": "float64",
         "type": "float"
        },
        {
         "name": "340 fBodyAcc-bandsEnergy()-17,32",
         "rawType": "float64",
         "type": "float"
        },
        {
         "name": "341 fBodyAcc-bandsEnergy()-33,48",
         "rawType": "float64",
         "type": "float"
        },
        {
         "name": "342 fBodyAcc-bandsEnergy()-49,64",
         "rawType": "float64",
         "type": "float"
        },
        {
         "name": "343 fBodyAcc-bandsEnergy()-1,24",
         "rawType": "float64",
         "type": "float"
        },
        {
         "name": "344 fBodyAcc-bandsEnergy()-25,48",
         "rawType": "float64",
         "type": "float"
        },
        {
         "name": "345 fBodyAccJerk-mean()-X",
         "rawType": "float64",
         "type": "float"
        },
        {
         "name": "346 fBodyAccJerk-mean()-Y",
         "rawType": "float64",
         "type": "float"
        },
        {
         "name": "347 fBodyAccJerk-mean()-Z",
         "rawType": "float64",
         "type": "float"
        },
        {
         "name": "348 fBodyAccJerk-std()-X",
         "rawType": "float64",
         "type": "float"
        },
        {
         "name": "349 fBodyAccJerk-std()-Y",
         "rawType": "float64",
         "type": "float"
        },
        {
         "name": "350 fBodyAccJerk-std()-Z",
         "rawType": "float64",
         "type": "float"
        },
        {
         "name": "351 fBodyAccJerk-mad()-X",
         "rawType": "float64",
         "type": "float"
        },
        {
         "name": "352 fBodyAccJerk-mad()-Y",
         "rawType": "float64",
         "type": "float"
        },
        {
         "name": "353 fBodyAccJerk-mad()-Z",
         "rawType": "float64",
         "type": "float"
        },
        {
         "name": "354 fBodyAccJerk-max()-X",
         "rawType": "float64",
         "type": "float"
        },
        {
         "name": "355 fBodyAccJerk-max()-Y",
         "rawType": "float64",
         "type": "float"
        },
        {
         "name": "356 fBodyAccJerk-max()-Z",
         "rawType": "float64",
         "type": "float"
        },
        {
         "name": "357 fBodyAccJerk-min()-X",
         "rawType": "float64",
         "type": "float"
        },
        {
         "name": "358 fBodyAccJerk-min()-Y",
         "rawType": "float64",
         "type": "float"
        },
        {
         "name": "359 fBodyAccJerk-min()-Z",
         "rawType": "float64",
         "type": "float"
        },
        {
         "name": "360 fBodyAccJerk-sma()",
         "rawType": "float64",
         "type": "float"
        },
        {
         "name": "361 fBodyAccJerk-energy()-X",
         "rawType": "float64",
         "type": "float"
        },
        {
         "name": "362 fBodyAccJerk-energy()-Y",
         "rawType": "float64",
         "type": "float"
        },
        {
         "name": "363 fBodyAccJerk-energy()-Z",
         "rawType": "float64",
         "type": "float"
        },
        {
         "name": "364 fBodyAccJerk-iqr()-X",
         "rawType": "float64",
         "type": "float"
        },
        {
         "name": "365 fBodyAccJerk-iqr()-Y",
         "rawType": "float64",
         "type": "float"
        },
        {
         "name": "366 fBodyAccJerk-iqr()-Z",
         "rawType": "float64",
         "type": "float"
        },
        {
         "name": "367 fBodyAccJerk-entropy()-X",
         "rawType": "float64",
         "type": "float"
        },
        {
         "name": "368 fBodyAccJerk-entropy()-Y",
         "rawType": "float64",
         "type": "float"
        },
        {
         "name": "369 fBodyAccJerk-entropy()-Z",
         "rawType": "float64",
         "type": "float"
        },
        {
         "name": "370 fBodyAccJerk-maxInds-X",
         "rawType": "float64",
         "type": "float"
        },
        {
         "name": "371 fBodyAccJerk-maxInds-Y",
         "rawType": "float64",
         "type": "float"
        },
        {
         "name": "372 fBodyAccJerk-maxInds-Z",
         "rawType": "float64",
         "type": "float"
        },
        {
         "name": "373 fBodyAccJerk-meanFreq()-X",
         "rawType": "float64",
         "type": "float"
        },
        {
         "name": "374 fBodyAccJerk-meanFreq()-Y",
         "rawType": "float64",
         "type": "float"
        },
        {
         "name": "375 fBodyAccJerk-meanFreq()-Z",
         "rawType": "float64",
         "type": "float"
        },
        {
         "name": "376 fBodyAccJerk-skewness()-X",
         "rawType": "float64",
         "type": "float"
        },
        {
         "name": "377 fBodyAccJerk-kurtosis()-X",
         "rawType": "float64",
         "type": "float"
        },
        {
         "name": "378 fBodyAccJerk-skewness()-Y",
         "rawType": "float64",
         "type": "float"
        },
        {
         "name": "379 fBodyAccJerk-kurtosis()-Y",
         "rawType": "float64",
         "type": "float"
        },
        {
         "name": "380 fBodyAccJerk-skewness()-Z",
         "rawType": "float64",
         "type": "float"
        },
        {
         "name": "381 fBodyAccJerk-kurtosis()-Z",
         "rawType": "float64",
         "type": "float"
        },
        {
         "name": "382 fBodyAccJerk-bandsEnergy()-1,8",
         "rawType": "float64",
         "type": "float"
        },
        {
         "name": "383 fBodyAccJerk-bandsEnergy()-9,16",
         "rawType": "float64",
         "type": "float"
        },
        {
         "name": "384 fBodyAccJerk-bandsEnergy()-17,24",
         "rawType": "float64",
         "type": "float"
        },
        {
         "name": "385 fBodyAccJerk-bandsEnergy()-25,32",
         "rawType": "float64",
         "type": "float"
        },
        {
         "name": "386 fBodyAccJerk-bandsEnergy()-33,40",
         "rawType": "float64",
         "type": "float"
        },
        {
         "name": "387 fBodyAccJerk-bandsEnergy()-41,48",
         "rawType": "float64",
         "type": "float"
        },
        {
         "name": "388 fBodyAccJerk-bandsEnergy()-49,56",
         "rawType": "float64",
         "type": "float"
        },
        {
         "name": "389 fBodyAccJerk-bandsEnergy()-57,64",
         "rawType": "float64",
         "type": "float"
        },
        {
         "name": "390 fBodyAccJerk-bandsEnergy()-1,16",
         "rawType": "float64",
         "type": "float"
        },
        {
         "name": "391 fBodyAccJerk-bandsEnergy()-17,32",
         "rawType": "float64",
         "type": "float"
        },
        {
         "name": "392 fBodyAccJerk-bandsEnergy()-33,48",
         "rawType": "float64",
         "type": "float"
        },
        {
         "name": "393 fBodyAccJerk-bandsEnergy()-49,64",
         "rawType": "float64",
         "type": "float"
        },
        {
         "name": "394 fBodyAccJerk-bandsEnergy()-1,24",
         "rawType": "float64",
         "type": "float"
        },
        {
         "name": "395 fBodyAccJerk-bandsEnergy()-25,48",
         "rawType": "float64",
         "type": "float"
        },
        {
         "name": "396 fBodyAccJerk-bandsEnergy()-1,8",
         "rawType": "float64",
         "type": "float"
        },
        {
         "name": "397 fBodyAccJerk-bandsEnergy()-9,16",
         "rawType": "float64",
         "type": "float"
        },
        {
         "name": "398 fBodyAccJerk-bandsEnergy()-17,24",
         "rawType": "float64",
         "type": "float"
        },
        {
         "name": "399 fBodyAccJerk-bandsEnergy()-25,32",
         "rawType": "float64",
         "type": "float"
        },
        {
         "name": "400 fBodyAccJerk-bandsEnergy()-33,40",
         "rawType": "float64",
         "type": "float"
        },
        {
         "name": "401 fBodyAccJerk-bandsEnergy()-41,48",
         "rawType": "float64",
         "type": "float"
        },
        {
         "name": "402 fBodyAccJerk-bandsEnergy()-49,56",
         "rawType": "float64",
         "type": "float"
        },
        {
         "name": "403 fBodyAccJerk-bandsEnergy()-57,64",
         "rawType": "float64",
         "type": "float"
        },
        {
         "name": "404 fBodyAccJerk-bandsEnergy()-1,16",
         "rawType": "float64",
         "type": "float"
        },
        {
         "name": "405 fBodyAccJerk-bandsEnergy()-17,32",
         "rawType": "float64",
         "type": "float"
        },
        {
         "name": "406 fBodyAccJerk-bandsEnergy()-33,48",
         "rawType": "float64",
         "type": "float"
        },
        {
         "name": "407 fBodyAccJerk-bandsEnergy()-49,64",
         "rawType": "float64",
         "type": "float"
        },
        {
         "name": "408 fBodyAccJerk-bandsEnergy()-1,24",
         "rawType": "float64",
         "type": "float"
        },
        {
         "name": "409 fBodyAccJerk-bandsEnergy()-25,48",
         "rawType": "float64",
         "type": "float"
        },
        {
         "name": "410 fBodyAccJerk-bandsEnergy()-1,8",
         "rawType": "float64",
         "type": "float"
        },
        {
         "name": "411 fBodyAccJerk-bandsEnergy()-9,16",
         "rawType": "float64",
         "type": "float"
        },
        {
         "name": "412 fBodyAccJerk-bandsEnergy()-17,24",
         "rawType": "float64",
         "type": "float"
        },
        {
         "name": "413 fBodyAccJerk-bandsEnergy()-25,32",
         "rawType": "float64",
         "type": "float"
        },
        {
         "name": "414 fBodyAccJerk-bandsEnergy()-33,40",
         "rawType": "float64",
         "type": "float"
        },
        {
         "name": "415 fBodyAccJerk-bandsEnergy()-41,48",
         "rawType": "float64",
         "type": "float"
        },
        {
         "name": "416 fBodyAccJerk-bandsEnergy()-49,56",
         "rawType": "float64",
         "type": "float"
        },
        {
         "name": "417 fBodyAccJerk-bandsEnergy()-57,64",
         "rawType": "float64",
         "type": "float"
        },
        {
         "name": "418 fBodyAccJerk-bandsEnergy()-1,16",
         "rawType": "float64",
         "type": "float"
        },
        {
         "name": "419 fBodyAccJerk-bandsEnergy()-17,32",
         "rawType": "float64",
         "type": "float"
        },
        {
         "name": "420 fBodyAccJerk-bandsEnergy()-33,48",
         "rawType": "float64",
         "type": "float"
        },
        {
         "name": "421 fBodyAccJerk-bandsEnergy()-49,64",
         "rawType": "float64",
         "type": "float"
        },
        {
         "name": "422 fBodyAccJerk-bandsEnergy()-1,24",
         "rawType": "float64",
         "type": "float"
        },
        {
         "name": "423 fBodyAccJerk-bandsEnergy()-25,48",
         "rawType": "float64",
         "type": "float"
        },
        {
         "name": "424 fBodyGyro-mean()-X",
         "rawType": "float64",
         "type": "float"
        },
        {
         "name": "425 fBodyGyro-mean()-Y",
         "rawType": "float64",
         "type": "float"
        },
        {
         "name": "426 fBodyGyro-mean()-Z",
         "rawType": "float64",
         "type": "float"
        },
        {
         "name": "427 fBodyGyro-std()-X",
         "rawType": "float64",
         "type": "float"
        },
        {
         "name": "428 fBodyGyro-std()-Y",
         "rawType": "float64",
         "type": "float"
        },
        {
         "name": "429 fBodyGyro-std()-Z",
         "rawType": "float64",
         "type": "float"
        },
        {
         "name": "430 fBodyGyro-mad()-X",
         "rawType": "float64",
         "type": "float"
        },
        {
         "name": "431 fBodyGyro-mad()-Y",
         "rawType": "float64",
         "type": "float"
        },
        {
         "name": "432 fBodyGyro-mad()-Z",
         "rawType": "float64",
         "type": "float"
        },
        {
         "name": "433 fBodyGyro-max()-X",
         "rawType": "float64",
         "type": "float"
        },
        {
         "name": "434 fBodyGyro-max()-Y",
         "rawType": "float64",
         "type": "float"
        },
        {
         "name": "435 fBodyGyro-max()-Z",
         "rawType": "float64",
         "type": "float"
        },
        {
         "name": "436 fBodyGyro-min()-X",
         "rawType": "float64",
         "type": "float"
        },
        {
         "name": "437 fBodyGyro-min()-Y",
         "rawType": "float64",
         "type": "float"
        },
        {
         "name": "438 fBodyGyro-min()-Z",
         "rawType": "float64",
         "type": "float"
        },
        {
         "name": "439 fBodyGyro-sma()",
         "rawType": "float64",
         "type": "float"
        },
        {
         "name": "440 fBodyGyro-energy()-X",
         "rawType": "float64",
         "type": "float"
        },
        {
         "name": "441 fBodyGyro-energy()-Y",
         "rawType": "float64",
         "type": "float"
        },
        {
         "name": "442 fBodyGyro-energy()-Z",
         "rawType": "float64",
         "type": "float"
        },
        {
         "name": "443 fBodyGyro-iqr()-X",
         "rawType": "float64",
         "type": "float"
        },
        {
         "name": "444 fBodyGyro-iqr()-Y",
         "rawType": "float64",
         "type": "float"
        },
        {
         "name": "445 fBodyGyro-iqr()-Z",
         "rawType": "float64",
         "type": "float"
        },
        {
         "name": "446 fBodyGyro-entropy()-X",
         "rawType": "float64",
         "type": "float"
        },
        {
         "name": "447 fBodyGyro-entropy()-Y",
         "rawType": "float64",
         "type": "float"
        },
        {
         "name": "448 fBodyGyro-entropy()-Z",
         "rawType": "float64",
         "type": "float"
        },
        {
         "name": "449 fBodyGyro-maxInds-X",
         "rawType": "float64",
         "type": "float"
        },
        {
         "name": "450 fBodyGyro-maxInds-Y",
         "rawType": "float64",
         "type": "float"
        },
        {
         "name": "451 fBodyGyro-maxInds-Z",
         "rawType": "float64",
         "type": "float"
        },
        {
         "name": "452 fBodyGyro-meanFreq()-X",
         "rawType": "float64",
         "type": "float"
        },
        {
         "name": "453 fBodyGyro-meanFreq()-Y",
         "rawType": "float64",
         "type": "float"
        },
        {
         "name": "454 fBodyGyro-meanFreq()-Z",
         "rawType": "float64",
         "type": "float"
        },
        {
         "name": "455 fBodyGyro-skewness()-X",
         "rawType": "float64",
         "type": "float"
        },
        {
         "name": "456 fBodyGyro-kurtosis()-X",
         "rawType": "float64",
         "type": "float"
        },
        {
         "name": "457 fBodyGyro-skewness()-Y",
         "rawType": "float64",
         "type": "float"
        },
        {
         "name": "458 fBodyGyro-kurtosis()-Y",
         "rawType": "float64",
         "type": "float"
        },
        {
         "name": "459 fBodyGyro-skewness()-Z",
         "rawType": "float64",
         "type": "float"
        },
        {
         "name": "460 fBodyGyro-kurtosis()-Z",
         "rawType": "float64",
         "type": "float"
        },
        {
         "name": "461 fBodyGyro-bandsEnergy()-1,8",
         "rawType": "float64",
         "type": "float"
        },
        {
         "name": "462 fBodyGyro-bandsEnergy()-9,16",
         "rawType": "float64",
         "type": "float"
        },
        {
         "name": "463 fBodyGyro-bandsEnergy()-17,24",
         "rawType": "float64",
         "type": "float"
        },
        {
         "name": "464 fBodyGyro-bandsEnergy()-25,32",
         "rawType": "float64",
         "type": "float"
        },
        {
         "name": "465 fBodyGyro-bandsEnergy()-33,40",
         "rawType": "float64",
         "type": "float"
        },
        {
         "name": "466 fBodyGyro-bandsEnergy()-41,48",
         "rawType": "float64",
         "type": "float"
        },
        {
         "name": "467 fBodyGyro-bandsEnergy()-49,56",
         "rawType": "float64",
         "type": "float"
        },
        {
         "name": "468 fBodyGyro-bandsEnergy()-57,64",
         "rawType": "float64",
         "type": "float"
        },
        {
         "name": "469 fBodyGyro-bandsEnergy()-1,16",
         "rawType": "float64",
         "type": "float"
        },
        {
         "name": "470 fBodyGyro-bandsEnergy()-17,32",
         "rawType": "float64",
         "type": "float"
        },
        {
         "name": "471 fBodyGyro-bandsEnergy()-33,48",
         "rawType": "float64",
         "type": "float"
        },
        {
         "name": "472 fBodyGyro-bandsEnergy()-49,64",
         "rawType": "float64",
         "type": "float"
        },
        {
         "name": "473 fBodyGyro-bandsEnergy()-1,24",
         "rawType": "float64",
         "type": "float"
        },
        {
         "name": "474 fBodyGyro-bandsEnergy()-25,48",
         "rawType": "float64",
         "type": "float"
        },
        {
         "name": "475 fBodyGyro-bandsEnergy()-1,8",
         "rawType": "float64",
         "type": "float"
        },
        {
         "name": "476 fBodyGyro-bandsEnergy()-9,16",
         "rawType": "float64",
         "type": "float"
        },
        {
         "name": "477 fBodyGyro-bandsEnergy()-17,24",
         "rawType": "float64",
         "type": "float"
        },
        {
         "name": "478 fBodyGyro-bandsEnergy()-25,32",
         "rawType": "float64",
         "type": "float"
        },
        {
         "name": "479 fBodyGyro-bandsEnergy()-33,40",
         "rawType": "float64",
         "type": "float"
        },
        {
         "name": "480 fBodyGyro-bandsEnergy()-41,48",
         "rawType": "float64",
         "type": "float"
        },
        {
         "name": "481 fBodyGyro-bandsEnergy()-49,56",
         "rawType": "float64",
         "type": "float"
        },
        {
         "name": "482 fBodyGyro-bandsEnergy()-57,64",
         "rawType": "float64",
         "type": "float"
        },
        {
         "name": "483 fBodyGyro-bandsEnergy()-1,16",
         "rawType": "float64",
         "type": "float"
        },
        {
         "name": "484 fBodyGyro-bandsEnergy()-17,32",
         "rawType": "float64",
         "type": "float"
        },
        {
         "name": "485 fBodyGyro-bandsEnergy()-33,48",
         "rawType": "float64",
         "type": "float"
        },
        {
         "name": "486 fBodyGyro-bandsEnergy()-49,64",
         "rawType": "float64",
         "type": "float"
        },
        {
         "name": "487 fBodyGyro-bandsEnergy()-1,24",
         "rawType": "float64",
         "type": "float"
        },
        {
         "name": "488 fBodyGyro-bandsEnergy()-25,48",
         "rawType": "float64",
         "type": "float"
        },
        {
         "name": "489 fBodyGyro-bandsEnergy()-1,8",
         "rawType": "float64",
         "type": "float"
        },
        {
         "name": "490 fBodyGyro-bandsEnergy()-9,16",
         "rawType": "float64",
         "type": "float"
        },
        {
         "name": "491 fBodyGyro-bandsEnergy()-17,24",
         "rawType": "float64",
         "type": "float"
        },
        {
         "name": "492 fBodyGyro-bandsEnergy()-25,32",
         "rawType": "float64",
         "type": "float"
        },
        {
         "name": "493 fBodyGyro-bandsEnergy()-33,40",
         "rawType": "float64",
         "type": "float"
        },
        {
         "name": "494 fBodyGyro-bandsEnergy()-41,48",
         "rawType": "float64",
         "type": "float"
        },
        {
         "name": "495 fBodyGyro-bandsEnergy()-49,56",
         "rawType": "float64",
         "type": "float"
        },
        {
         "name": "496 fBodyGyro-bandsEnergy()-57,64",
         "rawType": "float64",
         "type": "float"
        },
        {
         "name": "497 fBodyGyro-bandsEnergy()-1,16",
         "rawType": "float64",
         "type": "float"
        },
        {
         "name": "498 fBodyGyro-bandsEnergy()-17,32",
         "rawType": "float64",
         "type": "float"
        },
        {
         "name": "499 fBodyGyro-bandsEnergy()-33,48",
         "rawType": "float64",
         "type": "float"
        },
        {
         "name": "500 fBodyGyro-bandsEnergy()-49,64",
         "rawType": "float64",
         "type": "float"
        },
        {
         "name": "501 fBodyGyro-bandsEnergy()-1,24",
         "rawType": "float64",
         "type": "float"
        },
        {
         "name": "502 fBodyGyro-bandsEnergy()-25,48",
         "rawType": "float64",
         "type": "float"
        },
        {
         "name": "503 fBodyAccMag-mean()",
         "rawType": "float64",
         "type": "float"
        },
        {
         "name": "504 fBodyAccMag-std()",
         "rawType": "float64",
         "type": "float"
        },
        {
         "name": "505 fBodyAccMag-mad()",
         "rawType": "float64",
         "type": "float"
        },
        {
         "name": "506 fBodyAccMag-max()",
         "rawType": "float64",
         "type": "float"
        },
        {
         "name": "507 fBodyAccMag-min()",
         "rawType": "float64",
         "type": "float"
        },
        {
         "name": "508 fBodyAccMag-sma()",
         "rawType": "float64",
         "type": "float"
        },
        {
         "name": "509 fBodyAccMag-energy()",
         "rawType": "float64",
         "type": "float"
        },
        {
         "name": "510 fBodyAccMag-iqr()",
         "rawType": "float64",
         "type": "float"
        },
        {
         "name": "511 fBodyAccMag-entropy()",
         "rawType": "float64",
         "type": "float"
        },
        {
         "name": "512 fBodyAccMag-maxInds",
         "rawType": "float64",
         "type": "float"
        },
        {
         "name": "513 fBodyAccMag-meanFreq()",
         "rawType": "float64",
         "type": "float"
        },
        {
         "name": "514 fBodyAccMag-skewness()",
         "rawType": "float64",
         "type": "float"
        },
        {
         "name": "515 fBodyAccMag-kurtosis()",
         "rawType": "float64",
         "type": "float"
        },
        {
         "name": "516 fBodyBodyAccJerkMag-mean()",
         "rawType": "float64",
         "type": "float"
        },
        {
         "name": "517 fBodyBodyAccJerkMag-std()",
         "rawType": "float64",
         "type": "float"
        },
        {
         "name": "518 fBodyBodyAccJerkMag-mad()",
         "rawType": "float64",
         "type": "float"
        },
        {
         "name": "519 fBodyBodyAccJerkMag-max()",
         "rawType": "float64",
         "type": "float"
        },
        {
         "name": "520 fBodyBodyAccJerkMag-min()",
         "rawType": "float64",
         "type": "float"
        },
        {
         "name": "521 fBodyBodyAccJerkMag-sma()",
         "rawType": "float64",
         "type": "float"
        },
        {
         "name": "522 fBodyBodyAccJerkMag-energy()",
         "rawType": "float64",
         "type": "float"
        },
        {
         "name": "523 fBodyBodyAccJerkMag-iqr()",
         "rawType": "float64",
         "type": "float"
        },
        {
         "name": "524 fBodyBodyAccJerkMag-entropy()",
         "rawType": "float64",
         "type": "float"
        },
        {
         "name": "525 fBodyBodyAccJerkMag-maxInds",
         "rawType": "float64",
         "type": "float"
        },
        {
         "name": "526 fBodyBodyAccJerkMag-meanFreq()",
         "rawType": "float64",
         "type": "float"
        },
        {
         "name": "527 fBodyBodyAccJerkMag-skewness()",
         "rawType": "float64",
         "type": "float"
        },
        {
         "name": "528 fBodyBodyAccJerkMag-kurtosis()",
         "rawType": "float64",
         "type": "float"
        },
        {
         "name": "529 fBodyBodyGyroMag-mean()",
         "rawType": "float64",
         "type": "float"
        },
        {
         "name": "530 fBodyBodyGyroMag-std()",
         "rawType": "float64",
         "type": "float"
        },
        {
         "name": "531 fBodyBodyGyroMag-mad()",
         "rawType": "float64",
         "type": "float"
        },
        {
         "name": "532 fBodyBodyGyroMag-max()",
         "rawType": "float64",
         "type": "float"
        },
        {
         "name": "533 fBodyBodyGyroMag-min()",
         "rawType": "float64",
         "type": "float"
        },
        {
         "name": "534 fBodyBodyGyroMag-sma()",
         "rawType": "float64",
         "type": "float"
        },
        {
         "name": "535 fBodyBodyGyroMag-energy()",
         "rawType": "float64",
         "type": "float"
        },
        {
         "name": "536 fBodyBodyGyroMag-iqr()",
         "rawType": "float64",
         "type": "float"
        },
        {
         "name": "537 fBodyBodyGyroMag-entropy()",
         "rawType": "float64",
         "type": "float"
        },
        {
         "name": "538 fBodyBodyGyroMag-maxInds",
         "rawType": "float64",
         "type": "float"
        },
        {
         "name": "539 fBodyBodyGyroMag-meanFreq()",
         "rawType": "float64",
         "type": "float"
        },
        {
         "name": "540 fBodyBodyGyroMag-skewness()",
         "rawType": "float64",
         "type": "float"
        },
        {
         "name": "541 fBodyBodyGyroMag-kurtosis()",
         "rawType": "float64",
         "type": "float"
        },
        {
         "name": "542 fBodyBodyGyroJerkMag-mean()",
         "rawType": "float64",
         "type": "float"
        },
        {
         "name": "543 fBodyBodyGyroJerkMag-std()",
         "rawType": "float64",
         "type": "float"
        },
        {
         "name": "544 fBodyBodyGyroJerkMag-mad()",
         "rawType": "float64",
         "type": "float"
        },
        {
         "name": "545 fBodyBodyGyroJerkMag-max()",
         "rawType": "float64",
         "type": "float"
        },
        {
         "name": "546 fBodyBodyGyroJerkMag-min()",
         "rawType": "float64",
         "type": "float"
        },
        {
         "name": "547 fBodyBodyGyroJerkMag-sma()",
         "rawType": "float64",
         "type": "float"
        },
        {
         "name": "548 fBodyBodyGyroJerkMag-energy()",
         "rawType": "float64",
         "type": "float"
        },
        {
         "name": "549 fBodyBodyGyroJerkMag-iqr()",
         "rawType": "float64",
         "type": "float"
        },
        {
         "name": "550 fBodyBodyGyroJerkMag-entropy()",
         "rawType": "float64",
         "type": "float"
        },
        {
         "name": "551 fBodyBodyGyroJerkMag-maxInds",
         "rawType": "float64",
         "type": "float"
        },
        {
         "name": "552 fBodyBodyGyroJerkMag-meanFreq()",
         "rawType": "float64",
         "type": "float"
        },
        {
         "name": "553 fBodyBodyGyroJerkMag-skewness()",
         "rawType": "float64",
         "type": "float"
        },
        {
         "name": "554 fBodyBodyGyroJerkMag-kurtosis()",
         "rawType": "float64",
         "type": "float"
        },
        {
         "name": "555 angle(tBodyAccMean,gravity)",
         "rawType": "float64",
         "type": "float"
        },
        {
         "name": "556 angle(tBodyAccJerkMean),gravityMean)",
         "rawType": "float64",
         "type": "float"
        },
        {
         "name": "557 angle(tBodyGyroMean,gravityMean)",
         "rawType": "float64",
         "type": "float"
        },
        {
         "name": "558 angle(tBodyGyroJerkMean,gravityMean)",
         "rawType": "float64",
         "type": "float"
        },
        {
         "name": "559 angle(X,gravityMean)",
         "rawType": "float64",
         "type": "float"
        },
        {
         "name": "560 angle(Y,gravityMean)",
         "rawType": "float64",
         "type": "float"
        },
        {
         "name": "561 angle(Z,gravityMean)",
         "rawType": "float64",
         "type": "float"
        }
       ],
       "conversionMethod": "pd.DataFrame",
       "ref": "40ec397a-b33c-4ec2-b8fa-d987242ef8ec",
       "rows": [
        [
         "0",
         "0.20062792010307542",
         "-0.06367827097004473",
         "-0.419599910451557",
         "-0.8687547965015604",
         "-0.9393774400789554",
         "-0.7374792459113823",
         "-0.8597582025614601",
         "-0.9389546502044467",
         "-0.76638452484722",
         "-0.8559777751107961",
         "-0.9259215584094188",
         "-0.6373354582931631",
         "0.9059470727836364",
         "0.8685965802704334",
         "0.7383328301304554",
         "-0.8858557520136112",
         "-0.6929835987751122",
         "-0.7756435822745577",
         "-0.6704499674375534",
         "-0.8339056835194814",
         "-0.9253538431335382",
         "-0.8074925739183069",
         "-0.6498537418274916",
         "-1.2381422082375408",
         "-1.1799147705872988",
         "3.412293069390314",
         "-3.8759114069731093",
         "1.6323434532344656",
         "-0.8215140910960785",
         "1.0999969437381405",
         "-1.168222771758595",
         "0.49866841225100655",
         "-0.34173351629034665",
         "0.941801243739796",
         "-2.3042145449134184",
         "1.9276014357142746",
         "-0.4822349877586314",
         "1.380801036824557",
         "1.8993939559057222",
         "1.4421793829560319",
         "0.5791323538037432",
         "-0.40792730294865187",
         "0.06168812623104708",
         "-0.2657345741494566",
         "-0.3063977277152358",
         "0.5532044985346527",
         "-0.25630122487990586",
         "-0.32874472454769127",
         "0.4106822588909631",
         "0.5644090369909303",
         "-0.43822460602299906",
         "0.0748551460414944",
         "0.5876889894411499",
         "-0.39612360845546846",
         "-0.06893866428955989",
         "-0.7408396325651206",
         "0.6630685580440471",
         "-0.5503543903959351",
         "-0.5294342436819415",
         "-0.2285278121475185",
         "-0.3541220370988307",
         "0.24874448886141376",
         "-0.9106678392673268",
         "-0.46500497960222154",
         "2.0141079551173986",
         "-0.34947397889796195",
         "0.18276766695197422",
         "-0.00904004172128384",
         "-0.1601285872228621",
         "-1.3669599167485527",
         "1.3035053995995294",
         "-1.2062118449877657",
         "1.07246053357237",
         "-2.089433854580066",
         "2.0723060399469295",
         "-2.0315549554416834",
         "1.9651131708578145",
         "0.5503769317583691",
         "0.7690910149298679",
         "1.2756199706047608",
         "-0.006243284022338713",
         "-0.021713524752882084",
         "-0.3948334687380387",
         "-0.8497343348951896",
         "-0.8709606378232739",
         "-0.8111290525444087",
         "-0.8488509296642768",
         "-0.8690575858868833",
         "-0.8129657391150975",
         "-0.7773932953829852",
         "-0.8283723939157701",
         "-0.7635556522252507",
         "0.8456474082613136",
         "0.8488072776155071",
         "0.8007442172135457",
         "-0.8658496881153794",
         "-0.6817019977456371",
         "-0.716306896873632",
         "-0.5673551327103793",
         "-0.8385757352285054",
         "-0.856091673489212",
         "-0.7991406110781323",
         "-1.1029440699101163",
         "-1.0881017231069225",
         "-1.2294308557241296",
         "3.6653963266867136",
         "-1.9894631284862008",
         "2.3804208070325226",
         "1.3738848146323768",
         "1.1438226652863488",
         "-0.5340563930108223",
         "0.3778613562071055",
         "0.25342560334764436",
         "1.3571535110264772",
         "-3.320788502600897",
         "1.1937996229437662",
         "-2.591680901686462",
         "-0.9398675177255965",
         "0.08700290094301491",
         "-0.7890272171264804",
         "0.11574097659411677",
         "0.3384198400803392",
         "0.1517343926433049",
         "-0.8620868935453551",
         "-0.8098941957754786",
         "-0.8950493286138334",
         "-0.8521215394911235",
         "-0.8058970240668181",
         "-0.8836674906040661",
         "-0.7923015333416629",
         "-0.7236627081864644",
         "-0.859363401545639",
         "0.8350020011544418",
         "0.8395151830912303",
         "0.8736475375370188",
         "-0.8939672103094659",
         "-0.6749636403659353",
         "-0.5988135915399477",
         "-0.6488916521982656",
         "-0.8268863459519256",
         "-0.7935808161253216",
         "-0.8457095696874092",
         "0.5021061336135713",
         "0.8352506861291538",
         "-0.2019806483283643",
         "1.1120095650110493",
         "-1.7981731592987755",
         "1.5833272147243191",
         "-0.5537800676699315",
         "5.670795298370052",
         "-5.851816055208667",
         "1.5625863029106795",
         "1.1366298258292225",
         "2.5302607304026186",
         "-2.8999272452526705",
         "2.575849015606478",
         "-1.8358496814242644",
         "2.265230791622894",
         "0.3406371009232002",
         "0.9762849591020463",
         "-0.010058293457091867",
         "-0.11166071856897981",
         "-0.058839862534887724",
         "-0.8409217050859562",
         "-0.738290367010629",
         "-0.8211538611005886",
         "-0.8372492765252371",
         "-0.7507105645433261",
         "-0.8252966400481927",
         "-0.8183011343937311",
         "-0.6800821832943617",
         "-0.811449955693085",
         "0.8229557608717345",
         "0.6969395244928079",
         "0.7500459361252735",
         "-0.8273585223550559",
         "-0.6068518489771868",
         "-0.43999406788011614",
         "-0.5862451340258782",
         "-0.8256348973170967",
         "-0.759391846940678",
         "-0.8176686503505636",
         "-0.9802516850983244",
         "-1.2418090683418803",
         "-0.9243598212956172",
         "1.4124483645860282",
         "-2.113112335516358",
         "1.1462492280811727",
         "-1.0320864254615483",
         "5.300433301925835",
         "-3.642528869768244",
         "1.5912307476472334",
         "0.8219008295376067",
         "2.7336881964890467",
         "-2.6442021353084293",
         "2.3988423811340205",
         "1.7505834118633419",
         "-0.6271338601696108",
         "-0.5155514603881672",
         "1.8016413127395892",
         "-0.8699823291720536",
         "-0.826722665439776",
         "-0.8314853048564259",
         "-0.8300098997539637",
         "-0.8035125618085616",
         "-0.8699823291720536",
         "-0.7794731302849994",
         "-0.803657423734828",
         "-0.527384425985232",
         "-0.3413546853903835",
         "-0.20068819736840035",
         "0.13406551078956852",
         "0.9448112515457533",
         "-0.8699823291720536",
         "-0.826722665439776",
         "-0.8314853048564259",
         "-0.8300098997539637",
         "-0.8035125618085616",
         "-0.8699823291720536",
         "-0.7794731302849994",
         "-0.803657423734828",
         "-0.527384425985232",
         "-0.3413546853903835",
         "-0.20068819736840035",
         "0.13406551078956852",
         "0.9448112515457533",
         "-0.8665882022684285",
         "-0.8634958737625512",
         "-0.8593979910972477",
         "-0.8619157204092618",
         "-0.7828636502150886",
         "-0.8665882022684285",
         "-0.7060458766920406",
         "-0.842373928253071",
         "-1.0852807444529655",
         "0.8358689849307677",
         "-0.8410715897775525",
         "-0.08931700256242953",
         "0.04364660515590885",
         "-0.8977188750566758",
         "-0.8513126295397276",
         "-0.8473778768152916",
         "-0.8610797327138139",
         "-0.8279657746986294",
         "-0.8977188750566758",
         "-0.7363532276144745",
         "-0.8143475556375257",
         "-0.28259825182537796",
         "1.978392940754445",
         "-2.4613326727339455",
         "0.40393559227613",
         "2.003557714763809",
         "-0.8207224014637371",
         "-0.7650655536851223",
         "-0.7791879604632918",
         "-0.7428399866253049",
         "-0.7556800101292034",
         "-0.8207224014637371",
         "-0.5415751593811243",
         "-0.7927079928058368",
         "-1.0376585321605007",
         "0.05426510256593661",
         "0.21563756895306876",
         "-0.43049665144789623",
         "-0.0309393940719402",
         "-0.8691786288946631",
         "-0.9178273438830866",
         "-0.7534236878195345",
         "-0.8633250633163586",
         "-0.942356669879015",
         "-0.7171096808834226",
         "-0.8736138495560405",
         "-0.9250613533479457",
         "-0.7605476056298512",
         "-0.8310375030908077",
         "-0.9166859180080315",
         "-0.6379040555262968",
         "-0.6020676513748894",
         "-0.6279902949013124",
         "-0.0813590672096237",
         "-0.8761639573527349",
         "-0.6912682091901804",
         "-0.8027089374678479",
         "-0.6749773611299802",
         "-0.8475427179295117",
         "-0.8600171287725841",
         "-0.8137416432502655",
         "-1.0145152642188158",
         "-1.0625601702179799",
         "-0.6176319243316928",
         "-0.9013884635362068",
         "-0.8266548883218195",
         "-0.6432733493961112",
         "1.8124593511185898",
         "0.49312342784770885",
         "-0.3367090473068692",
         "0.6703545591769448",
         "0.687692260305513",
         "0.12073934870721294",
         "0.049832265597809934",
         "1.1987522734195797",
         "1.1327636900406908",
         "-0.6699396494805165",
         "-0.6237091701803088",
         "-0.6189815172842521",
         "-0.573256186794449",
         "-0.5940400552749135",
         "-0.5695468793226163",
         "-0.5169385039829084",
         "-0.37662734459171865",
         "-0.6811205765052101",
         "-0.6324893590968697",
         "-0.6049022468070888",
         "-0.4805737559190717",
         "-0.6900333181108816",
         "-0.6084181590322569",
         "-0.7826105685053397",
         "-0.6383951188557911",
         "-0.6394161369779562",
         "-0.597489512842137",
         "-0.5885004828850717",
         "-0.6174242631248744",
         "-0.5773331680375364",
         "-0.3769438215237158",
         "-0.7957231027845386",
         "-0.6551988057392052",
         "-0.6251213804670483",
         "-0.5341990848661137",
         "-0.8021029810690097",
         "-0.6297395097963309",
         "-0.6233238084102043",
         "-0.5644133900768084",
         "-0.49690913192953845",
         "-0.4511782217636002",
         "-0.4455459186968673",
         "-0.49849341331929825",
         "-0.48174243649350035",
         "-0.31987289192833057",
         "-0.6565599267099974",
         "-0.506924780060792",
         "-0.4802765792376955",
         "-0.45751681375240866",
         "-0.6717356898967217",
         "-0.4740040794532941",
         "-0.8451479072164418",
         "-0.8714622653881987",
         "-0.8072408521079878",
         "-0.8509521922254599",
         "-0.8659814443621838",
         "-0.8136498661616696",
         "-0.8524550523597025",
         "-0.8704589670697633",
         "-0.8214615911743133",
         "-0.8270947309351836",
         "-0.839185631686437",
         "-0.7709090607442368",
         "-0.6094067610777992",
         "-0.6059405504843318",
         "-0.417216528598003",
         "-0.8627782731955265",
         "-0.6816316212920928",
         "-0.7162262556732636",
         "-0.5672890145368159",
         "-0.8369946477281326",
         "-0.8623205534983504",
         "-0.8217728532084243",
         "-0.9595105217218217",
         "-0.9853186695718559",
         "-0.9766846625250729",
         "4.353070176612834",
         "0.5927023975953029",
         "-2.2487497070145532",
         "3.1144912726617604",
         "1.528079250606769",
         "1.4024791530164435",
         "-1.499588661999931",
         "-0.8944799642813857",
         "-0.9784928944915724",
         "-0.8127195999810849",
         "-0.10191211412860837",
         "0.04956953525064083",
         "-0.6201512665845668",
         "-0.6397234485229951",
         "-0.6109690455531852",
         "-0.5637956492756981",
         "-0.5887440149572016",
         "-0.5772450871203778",
         "-0.5287982888074405",
         "-0.2740415211890095",
         "-0.6643472077001334",
         "-0.6240114176057813",
         "-0.6079562293621672",
         "-0.5287714434323859",
         "-0.6859776583315399",
         "-0.6088431666392425",
         "-0.725034869461949",
         "-0.6319417639573411",
         "-0.641083053607003",
         "-0.5874596542693837",
         "-0.574849506482169",
         "-0.6119582434088522",
         "-0.5860224037438349",
         "-0.30477242448826175",
         "-0.6851541129654809",
         "-0.6558914069830376",
         "-0.6188913302532012",
         "-0.5854366341972352",
         "-0.7117641167077187",
         "-0.6259980379262189",
         "-0.5825508082492078",
         "-0.5564209554423353",
         "-0.5015757569300054",
         "-0.44645463210623815",
         "-0.42950459448438655",
         "-0.49652694905222494",
         "-0.4970228378771533",
         "-0.2749792218787989",
         "-0.5974642850338057",
         "-0.5039896822920407",
         "-0.47212160654142227",
         "-0.4971003247259883",
         "-0.5829792302908106",
         "-0.470703745856891",
         "-0.8773390205255189",
         "-0.8056948415299078",
         "-0.8909364165557411",
         "-0.8478290585810774",
         "-0.7975311789841594",
         "-0.8867857838568396",
         "-0.8774008973134332",
         "-0.8170259901356818",
         "-0.9002366241563214",
         "-0.7937668894351823",
         "-0.7232656580799197",
         "-0.8290131780975808",
         "-0.5856746005557224",
         "-0.5255720169269757",
         "-0.6071804205606087",
         "-0.8830327763285106",
         "-0.6369708209183498",
         "-0.5911315909260705",
         "-0.639854729435498",
         "-0.8225870180453759",
         "-0.7716604481484778",
         "-0.8329562822177055",
         "-0.9832676247442219",
         "-0.9466027609859564",
         "-1.1125664802081474",
         "-0.6330197687937592",
         "-0.6698344678765424",
         "-0.8122687443720266",
         "-0.6030323048374138",
         "0.9968133617127477",
         "2.2392133142687083",
         "1.7052204306973673",
         "1.8353892589144227",
         "1.2867332920351495",
         "1.15923618046282",
         "-0.8098926266519898",
         "-0.7183603632511926",
         "-0.5877444927783845",
         "-0.5788670852235525",
         "-0.5675481960120151",
         "-0.4637350892823145",
         "-0.4564440018746387",
         "-0.4968528650033334",
         "-0.4273560407685654",
         "-0.3308516541498859",
         "-0.6254825593393459",
         "-0.5692167139364288",
         "-0.48705684721660614",
         "-0.3969484352021629",
         "-0.6348037630488512",
         "-0.4846393133450413",
         "-0.5528744826556873",
         "-0.40454296926439576",
         "-0.3452673866946407",
         "-0.3637185815544089",
         "-0.36090287682423455",
         "-0.4235448677637847",
         "-0.4016529809966895",
         "-0.30203334109653435",
         "-0.5832215837641381",
         "-0.36838701545891456",
         "-0.38878078325817583",
         "-0.39536641132329337",
         "-0.5906649388595244",
         "-0.37913087700710574",
         "-0.5708904556113228",
         "-0.4929753616846576",
         "-0.4905374871260258",
         "-0.43199220913974334",
         "-0.4324263574446322",
         "-0.4790390504647445",
         "-0.45497639108946825",
         "-0.3307476351771858",
         "-0.614495763090591",
         "-0.5010959957933574",
         "-0.4585209290113815",
         "-0.41575594678600747",
         "-0.6352612215894704",
         "-0.4519945515341933",
         "-0.809879335411313",
         "-0.8262889192639956",
         "-0.8129048204203408",
         "-0.8340201098668261",
         "-0.21606875610965662",
         "-0.809879335411313",
         "-0.7060994593240494",
         "-0.7942988492454683",
         "-0.656867017683023",
         "-0.15609995094883794",
         "-0.6045812885191022",
         "-0.27145699513024024",
         "-0.5198815944537203",
         "-0.8615341088765673",
         "-0.8569615035483689",
         "-0.8605868618035223",
         "-0.825525459057606",
         "-0.6748606705979042",
         "-0.8615341088765673",
         "-0.6840599292468474",
         "-0.8438621810964969",
         "-0.9734848102751821",
         "-0.31019164991277903",
         "0.6651811469582191",
         "-0.5663560664879181",
         "-0.5424352472026146",
         "-0.8564275935731395",
         "-0.8314489115390348",
         "-0.8700556010174006",
         "-0.7697702437502468",
         "-0.601445318216574",
         "-0.8564275935731395",
         "-0.6484601026992611",
         "-0.8561500308758301",
         "-1.0026491338592292",
         "-0.7012741098526252",
         "-0.2917690488367961",
         "2.571167807795162",
         "2.878050463914897",
         "-0.7710878383327778",
         "-0.7471012444998691",
         "-0.7548496543416437",
         "-0.7339001897244449",
         "-0.616110978405261",
         "-0.7710878383327778",
         "-0.46258035340432824",
         "-0.7613975512818504",
         "-0.9299142408704837",
         "-0.7066126662145502",
         "-0.7953046067093047",
         "0.025958079778800405",
         "-0.27638036006987615",
         "-0.3605785074780277",
         "0.06293526535810037",
         "-0.7783740926075571",
         "-0.026078647555303446",
         "-0.6871724728078896",
         "0.4079183906396553",
         "-0.007567370668038177"
        ],
        [
         "1",
         "0.055944071757887154",
         "0.031483529585302546",
         "-0.25389109377102254",
         "-0.87536601263002",
         "-0.9238388484987113",
         "-0.8492466816375994",
         "-0.8684715913116567",
         "-0.9219357332091469",
         "-0.8488704032092452",
         "-0.8713001191295323",
         "-0.8921676342257007",
         "-0.8891369169412301",
         "0.8959372457434267",
         "0.8685965802704334",
         "0.7664508169424891",
         "-0.920631163220053",
         "-0.6931632931420725",
         "-0.7750526843813145",
         "-0.6875377458028702",
         "-0.8471442363503009",
         "-0.8991188930261309",
         "-0.8204392764039242",
         "-1.3048040505512206",
         "-0.830137448137196",
         "-1.0960538599112555",
         "2.375885370869947",
         "-1.7531331386466964",
         "1.3216463454601484",
         "0.6698817965679856",
         "0.5514525560728348",
         "-0.5455053114763805",
         "0.643301583534008",
         "-1.181562095182964",
         "0.2676470770314269",
         "-0.2563394003665993",
         "-0.22539066284790613",
         "-0.6100935740544579",
         "0.3075876537479344",
         "0.3657575048295586",
         "1.2309361674863768",
         "0.5852569973380868",
         "-0.40983896031130757",
         "0.04444758674568085",
         "-0.4216545505160977",
         "-0.3910089791936996",
         "0.04934864003211607",
         "-0.42419902273809357",
         "-0.3862109194218527",
         "0.04738753929689941",
         "0.5644204079178679",
         "-0.4384383883020446",
         "0.06881433046194174",
         "0.6016155503589902",
         "-0.37362091979187556",
         "0.06327873054723888",
         "-0.7607977306201781",
         "0.6750476586495981",
         "-0.5496165598232011",
         "-0.5362930561255356",
         "-0.4312069914845125",
         "-0.3676772601695442",
         "0.012964868639601175",
         "-0.9106678392673268",
         "-0.46500497960222154",
         "1.1961275913378449",
         "0.4948764358814845",
         "-0.6706340922047945",
         "0.8349562331653128",
         "-0.9769893513877238",
         "0.5089337387557527",
         "-0.6873237075151817",
         "0.8731865122371565",
         "-1.0524083454567248",
         "-1.4920915364688412",
         "1.4521950569842763",
         "-1.3943409330487342",
         "1.318056346566487",
         "-1.461441623048126",
         "-1.0744785278232467",
         "1.257829308289597",
         "-0.028295200775230536",
         "-0.017008154590610274",
         "0.21305637769178767",
         "-0.8546610531375817",
         "-0.8541357325554011",
         "-0.805111723979603",
         "-0.8515910058348223",
         "-0.8529047256304131",
         "-0.8077117394186786",
         "-0.8029497911538352",
         "-0.7839889885793803",
         "-0.7597928599646309",
         "0.8519798396163027",
         "0.8483923412179494",
         "0.7945056631816196",
         "-0.8605195123670297",
         "-0.6818153937726363",
         "-0.715552829818873",
         "-0.5670958840719379",
         "-0.8374257741673232",
         "-0.8389060925406655",
         "-0.8142028287141985",
         "-1.187362531223827",
         "-0.8720160563358612",
         "-1.0316780278632856",
         "1.9751930077552111",
         "-0.4731609945085992",
         "1.2420611367128875",
         "2.092736034309887",
         "0.8050902483489939",
         "-0.006718424143634032",
         "0.8185011250914316",
         "0.451093630073523",
         "0.5556869781502318",
         "0.49313468768085983",
         "0.22649033438169874",
         "0.11383897465535019",
         "-0.2500145229543918",
         "0.2623206614787142",
         "-1.3107684871232834",
         "0.06078397294830498",
         "-0.05839215983245891",
         "0.10047209839307471",
         "-0.8549459019061141",
         "-0.8433472323750082",
         "-0.8868749506246022",
         "-0.8597266040292944",
         "-0.8414237157892446",
         "-0.8750323614539515",
         "-0.7847412208366041",
         "-0.7950635579338629",
         "-0.8537955362781962",
         "0.7817406994815201",
         "0.8083518926308791",
         "0.8674750946368528",
         "-0.9266962745656547",
         "-0.6761694077008721",
         "-0.6014714078275867",
         "-0.6491895626092118",
         "-0.8574941942356437",
         "-0.8256685839630277",
         "-0.83730748316852",
         "0.33762473808574156",
         "-1.1256562777701384",
         "-0.22084022093012207",
         "-0.5901479750403522",
         "0.1617194260024057",
         "0.3156377688547475",
         "-0.22526905841468134",
         "0.7357488403692133",
         "-1.1805197008083432",
         "0.6797231037748388",
         "-0.2705964928799228",
         "0.3869024488323204",
         "-0.7381387440574029",
         "1.1008511230113218",
         "-1.1383004459551471",
         "0.5641928575759894",
         "-0.6563434209105838",
         "0.6691429802728149",
         "-0.09895205060320289",
         "-0.02024050485486902",
         "-0.03777228594554086",
         "-0.8337400793013419",
         "-0.7551855345928478",
         "-0.8270538318375158",
         "-0.8300031781629406",
         "-0.7602414524844655",
         "-0.829210463507672",
         "-0.8244291725368965",
         "-0.7219331876157468",
         "-0.8209907087759647",
         "0.8091401490542144",
         "0.7201231962638714",
         "0.7705309984333673",
         "-0.8304095116891881",
         "-0.6066409670939097",
         "-0.440244698235527",
         "-0.586412298519934",
         "-0.8206549240105626",
         "-0.7608309465151452",
         "-0.8233393324983893",
         "-0.9995897209643474",
         "-1.34941249398833",
         "-0.9870506393328549",
         "-0.47637860056122877",
         "-0.5422529862346027",
         "0.11537575695481508",
         "-0.6411231055767492",
         "1.0718220020863534",
         "-1.3728203377875292",
         "0.48012977455234",
         "-0.22769677899488516",
         "0.5983703441258977",
         "-0.9221798048226286",
         "0.6588795987208883",
         "0.37820658940946844",
         "0.9170523192178196",
         "-0.2541584356951862",
         "-0.8323116144868762",
         "-0.9115507175621543",
         "-0.8850248965054717",
         "-0.8843420561849756",
         "-0.8991184631747847",
         "-0.8180089132429338",
         "-0.9115507175621543",
         "-0.7828769403619419",
         "-0.8762883160808329",
         "-0.8366500682643734",
         "0.5222127500875967",
         "-0.5632676172955129",
         "0.9859201520839473",
         "-1.3314525177269783",
         "-0.9115507175621543",
         "-0.8850248965054717",
         "-0.8843420561849756",
         "-0.8991184631747847",
         "-0.8180089132429338",
         "-0.9115507175621543",
         "-0.7828769403619419",
         "-0.8762883160808329",
         "-0.8366500682643734",
         "0.5222127500875967",
         "-0.5632676172955129",
         "0.9859201520839473",
         "-1.3314525177269783",
         "-0.8614006793361576",
         "-0.8571878740176694",
         "-0.8549283512929795",
         "-0.8517674090704982",
         "-0.7828636502150886",
         "-0.8614006793361576",
         "-0.7058269148495077",
         "-0.8439705387992134",
         "-1.0254861913577749",
         "1.556940698973771",
         "-0.8719973043571766",
         "0.594968778281423",
         "-1.59773135489563",
         "-0.9264710285157435",
         "-0.9048890353472626",
         "-0.9100736727566775",
         "-0.8904673740069614",
         "-0.8279657746986294",
         "-0.9264710285157435",
         "-0.7382536888389257",
         "-0.9032855651884548",
         "-0.828328036117174",
         "-0.6413701210215236",
         "0.18154416748478247",
         "0.17684871594988266",
         "0.5752194344032866",
         "-0.8237936060789235",
         "-0.7820254769914115",
         "-0.7896325931965884",
         "-0.7705287163068173",
         "-0.7498305826500027",
         "-0.8237936060789235",
         "-0.541734814352138",
         "-0.7938467454025581",
         "-1.1953360952603884",
         "-0.2897342572252336",
         "0.20983789821930815",
         "-0.24137619788855533",
         "0.2964314225368012",
         "-0.8754081004346571",
         "-0.9051498429583821",
         "-0.8459807421501063",
         "-0.870442986826299",
         "-0.9253473885359219",
         "-0.8358401830877439",
         "-0.8757644245883675",
         "-0.9098452101761223",
         "-0.8509204854622585",
         "-0.8445074166301657",
         "-0.8900842640778245",
         "-0.7945245638891743",
         "-0.6204834185035488",
         "-0.6239728196695461",
         "-0.5766436796504681",
         "-0.8992383088671533",
         "-0.691354754024934",
         "-0.8019347402017691",
         "-0.690072825520498",
         "-0.8448984403990324",
         "-0.8372155355303194",
         "-0.8062651168335961",
         "-1.0884992323264095",
         "-1.0625601702179799",
         "-0.8885987157212448",
         "3.3286695515075206",
         "-0.8266548883218195",
         "-0.6432733493961112",
         "1.8835726647572135",
         "0.1220442864753128",
         "-0.2061958999096256",
         "-1.3970722841881542",
         "-1.1128891035491033",
         "0.5972812494001858",
         "0.6330804837624329",
         "0.7289415834990712",
         "0.4534341126406337",
         "-0.6700575626316547",
         "-0.6236826203792892",
         "-0.6188281452828528",
         "-0.5732973498021515",
         "-0.5939481863958332",
         "-0.5704442336563113",
         "-0.5196829439615365",
         "-0.3767372644599562",
         "-0.6812139307697964",
         "-0.6323736354938888",
         "-0.6052088461022898",
         "-0.48240699904300083",
         "-0.6901131564860927",
         "-0.6085578743848562",
         "-0.781725375205225",
         "-0.6382001559901517",
         "-0.638036913967766",
         "-0.5975577415817037",
         "-0.5874153222431868",
         "-0.6174500845779752",
         "-0.5777650196648755",
         "-0.377662229099792",
         "-0.7950386700543358",
         "-0.6540357145352985",
         "-0.6244131100883271",
         "-0.5347555798712333",
         "-0.8013097694859097",
         "-0.6295357355876658",
         "-0.6431937070231687",
         "-0.5660032149666822",
         "-0.4971020035581826",
         "-0.4538149669900652",
         "-0.4499454065740541",
         "-0.5105703472805594",
         "-0.5070184730248194",
         "-0.3492722547237234",
         "-0.6732180456427347",
         "-0.5077442987583674",
         "-0.487455207747832",
         "-0.48558604707495007",
         "-0.6870920978425732",
         "-0.4781614100386993",
         "-0.8520050244962275",
         "-0.8570924598422828",
         "-0.8073826316954174",
         "-0.8530553161017087",
         "-0.8456172591417075",
         "-0.7971574936597603",
         "-0.8549904467311181",
         "-0.8522689435952002",
         "-0.8027158667358988",
         "-0.8291113816305259",
         "-0.8201488744950943",
         "-0.7706931388625226",
         "-0.6071435419965527",
         "-0.5657904821120882",
         "-0.5631784511235349",
         "-0.8612252794019168",
         "-0.6817450075925016",
         "-0.7154720334015305",
         "-0.5669923225590912",
         "-0.8365646804336003",
         "-0.842569111723911",
         "-0.8029683676357652",
         "-0.9595105217218217",
         "-0.9853186695718559",
         "-0.9766846625250729",
         "0.3125454524758421",
         "1.040518377362431",
         "0.03512129606931437",
         "2.224954362453552",
         "0.5715106169167973",
         "0.674314415384936",
         "-1.2120453313037762",
         "-0.9260999290402803",
         "-0.09602963206512322",
         "-0.2154410214726362",
         "-0.8329813093891489",
         "-0.6591212027805167",
         "-0.620195667371353",
         "-0.639723853230735",
         "-0.6108431219980074",
         "-0.5638706653406399",
         "-0.5886805969690441",
         "-0.5782643160140339",
         "-0.5329712653936307",
         "-0.27403876387326737",
         "-0.6643695258973117",
         "-0.6239472889785626",
         "-0.6083835098144212",
         "-0.5327207611755751",
         "-0.6859491724645888",
         "-0.6090843407815634",
         "-0.7247144134289293",
         "-0.6315960335730747",
         "-0.6396203599462267",
         "-0.5872635765050604",
         "-0.5740432662683768",
         "-0.6117443305314924",
         "-0.5860911678049672",
         "-0.3065897210441835",
         "-0.6847966129276699",
         "-0.6547292225610186",
         "-0.6183071789634984",
         "-0.5856797555874733",
         "-0.7109157082550526",
         "-0.6256142885785148",
         "-0.5851580460933634",
         "-0.5568559304305619",
         "-0.500435382396891",
         "-0.4447373189471378",
         "-0.42926695659307573",
         "-0.4961671145595244",
         "-0.5031235675579462",
         "-0.28799525732455006",
         "-0.5985744357291755",
         "-0.5025747974611964",
         "-0.4718271578129167",
         "-0.5040367903186138",
         "-0.5829282922608181",
         "-0.46954528685330643",
         "-0.8516311719598193",
         "-0.836699368752176",
         "-0.8911723788494782",
         "-0.847388751185395",
         "-0.8319678568449618",
         "-0.8743526827362327",
         "-0.856377202740171",
         "-0.8412873667379118",
         "-0.8889701279670108",
         "-0.8158987593441155",
         "-0.7599508730936005",
         "-0.8117519112398378",
         "-0.4901025023733381",
         "-0.617619589123559",
         "-0.6077301266897269",
         "-0.8873436586522488",
         "-0.636684203849542",
         "-0.5923238438656239",
         "-0.6396479793201512",
         "-0.813087519530797",
         "-0.7739728391642529",
         "-0.8127561260601669",
         "-0.8185489000939246",
         "-1.1401385120782566",
         "-0.9681013929629856",
         "-0.6330197687937592",
         "-0.6698344678765424",
         "-0.8122687443720266",
         "0.20460549245625245",
         "-0.8133664821331836",
         "-0.07413860696233202",
         "-0.8768710202003906",
         "-0.8969444452862331",
         "1.6160700275450262",
         "1.7957678373294073",
         "0.1810083009556012",
         "0.24523850836941533",
         "-0.5876282332047231",
         "-0.5780601306317567",
         "-0.567134455612933",
         "-0.4631391986225742",
         "-0.4561355586387759",
         "-0.4960980061760991",
         "-0.42565554163209623",
         "-0.328109845268604",
         "-0.6252269703394605",
         "-0.568738461967236",
         "-0.48657899925015413",
         "-0.3947747583808727",
         "-0.6345335773039577",
         "-0.48406783936451075",
         "-0.5545928338237722",
         "-0.40463678825187605",
         "-0.34530084635387803",
         "-0.36376188059569253",
         "-0.36117330999713265",
         "-0.4252632755120116",
         "-0.4152122690529629",
         "-0.31489273096778303",
         "-0.5846155256305782",
         "-0.36842437836133496",
         "-0.38948855558905277",
         "-0.4095340476259336",
         "-0.5918588160694701",
         "-0.3793378998708267",
         "-0.5706298180767698",
         "-0.4928528588822517",
         "-0.4906928483856183",
         "-0.4317411880601212",
         "-0.4331643739634842",
         "-0.48118540401479926",
         "-0.46349241453184475",
         "-0.33133680918133285",
         "-0.6142395328912854",
         "-0.5011679524221888",
         "-0.4597315685872227",
         "-0.4211745932725342",
         "-0.6350305492282884",
         "-0.4521675036960943",
         "-0.8732832247455761",
         "-0.8807016556757058",
         "-0.874537792750006",
         "-0.8487521725616435",
         "-0.5949393403803634",
         "-0.8732832247455761",
         "-0.7107332239904554",
         "-0.8262831662042683",
         "-0.9063097851102836",
         "-0.9259882149717388",
         "-0.43886894030315754",
         "0.6852797319373716",
         "0.54099966105921",
         "-0.8536287235734865",
         "-0.8525271547979182",
         "-0.8554132793424938",
         "-0.8285964172051069",
         "-0.6799560681043668",
         "-0.8536287235734865",
         "-0.6838363196642265",
         "-0.8432422064861366",
         "-0.9734848102751821",
         "0.19468524507598714",
         "1.394514150713196",
         "-0.8697067888541774",
         "-0.8244846420255305",
         "-0.8807860216118176",
         "-0.8996305860841153",
         "-0.8962770213813321",
         "-0.8859665089975431",
         "-0.6148727334126358",
         "-0.8807860216118176",
         "-0.651422722297931",
         "-0.8603011282048224",
         "-1.0343454835174792",
         "-0.3759891162258539",
         "-0.7975614076382312",
         "-0.2530793856855192",
         "-0.47330162059526365",
         "-0.7850992914000007",
         "-0.7685830896625266",
         "-0.7739768877289865",
         "-0.7518107724643892",
         "-0.6336544664019318",
         "-0.7850992914000007",
         "-0.46289682970161383",
         "-0.7756052380213884",
         "-1.1339006206056392",
         "-0.7066126662145502",
         "0.13060525851350013",
         "-0.8972955707601297",
         "-0.7679377086276777",
         "0.13300201924064772",
         "-0.021460021626785224",
         "-1.2187218231652905",
         "1.484369265477553",
         "-0.6940907862388074",
         "0.40908915828538794",
         "0.007874635068325227"
        ],
        [
         "2",
         "0.07351034830240577",
         "-0.04341352287754389",
         "-0.07628949412678847",
         "-0.868979784832061",
         "-0.9076978034811443",
         "-0.8937237799907874",
         "-0.8630780581235008",
         "-0.8987930352660329",
         "-0.8966398523044398",
         "-0.8632641490619213",
         "-0.8921676342257007",
         "-0.8891369169412301",
         "0.880263376591813",
         "0.8585746568729375",
         "0.8225501297158966",
         "-0.9239114376894828",
         "-0.6930777023846477",
         "-0.774035453460206",
         "-0.6923314992378117",
         "-0.841707644891113",
         "-0.8639836324432086",
         "-0.8888623529004656",
         "-1.0432532101441725",
         "-0.7955835067589742",
         "-1.0960538599112555",
         "1.271172670941684",
         "-0.7667312460890175",
         "1.5391372556255103",
         "-1.2831723699359443",
         "0.16853990323719495",
         "-0.4689681398866143",
         "0.8728873719336788",
         "-1.4134793654806845",
         "0.8034808447239131",
         "-0.7836484692937006",
         "0.5811242681585347",
         "-0.9488562688463085",
         "0.001190112015604736",
         "0.038346962504543274",
         "1.3075321196319998",
         "0.5858703731342443",
         "-0.41107088981677137",
         "0.022897695902173987",
         "-0.44938056631907436",
         "-0.4283828899889842",
         "-0.5222757941724686",
         "-0.4470294488997467",
         "-0.41928429876653756",
         "-0.5149762812563848",
         "0.5650874696231353",
         "-0.44500874684731817",
         "-0.012795942207295642",
         "0.6060388926756047",
         "-0.37362091979187556",
         "0.06327873054723888",
         "-0.8061123401593234",
         "0.676249729742006",
         "-0.5491254583661956",
         "-0.5435688456821154",
         "-0.43789774074436555",
         "-0.39153694001307066",
         "-0.48860721343725444",
         "-0.9106678392673268",
         "-0.46500497960222154",
         "-0.6105501585401085",
         "2.424897736725555",
         "-2.5304893370564785",
         "2.5831522950403616",
         "-2.579701910799866",
         "0.0557050911988503",
         "-0.2020646823467642",
         "0.36285896404627366",
         "-0.5284066870630283",
         "-1.0147388308406953",
         "0.9916213782236681",
         "-0.9567857556623421",
         "0.9097700745797023",
         "-0.52810794352459",
         "0.6262507572394159",
         "0.7878112573422857",
         "-0.030344430825386615",
         "-0.033299889685417215",
         "-0.02721847987665994",
         "-0.8429934466500534",
         "-0.8538866458509299",
         "-0.7975988581974341",
         "-0.8403395929011725",
         "-0.8537096763628205",
         "-0.7939487827446107",
         "-0.7825699446651085",
         "-0.7839889885793803",
         "-0.7597928599646309",
         "0.8423119014892659",
         "0.8483923412179494",
         "0.7945056631816196",
         "-0.8523898466801355",
         "-0.681516697603407",
         "-0.715539573512642",
         "-0.566701054978689",
         "-0.8236231905300803",
         "-0.8407561525011039",
         "-0.7725640911343749",
         "-1.0014214832119308",
         "-0.9001269120935408",
         "-0.9986724191075834",
         "1.2318722447388584",
         "0.13699813051305745",
         "1.6651061613015579",
         "1.2919128400636373",
         "0.5594114625890994",
         "-0.3159788250350327",
         "0.6401865544500144",
         "0.5697428223923529",
         "1.0509420922749169",
         "-0.0689045131378824",
         "0.8457684445069246",
         "0.4506478930424225",
         "0.09648826034369715",
         "-0.41216276840570787",
         "-0.4710890292384309",
         "-0.024783551399952253",
         "-0.1977031535856574",
         "0.06847465428941348",
         "-0.8326852996333806",
         "-0.8554818068019459",
         "-0.8796058093580774",
         "-0.8202227397419711",
         "-0.8556624377880695",
         "-0.8657956385391343",
         "-0.7847412208366041",
         "-0.8148816792766378",
         "-0.8452841059748363",
         "0.7817406994815201",
         "0.7975281177088259",
         "0.8674750946368528",
         "-0.9161362389929196",
         "-0.6757452896063902",
         "-0.6011336680462886",
         "-0.6491854747313047",
         "-0.7907730349738661",
         "-0.8430109796061456",
         "-0.8267975608555997",
         "-0.24975443127274932",
         "-2.3791713070079106",
         "-0.37480634387699907",
         "-0.764143133587123",
         "0.41999167703016027",
         "0.026955625787093682",
         "-0.117174417665811",
         "1.1097233451678643",
         "-1.5042623768956747",
         "0.6674659650196281",
         "-0.06141860859873254",
         "0.6063508982859448",
         "-0.7928342679300701",
         "0.5144624608898374",
         "0.13815055023715025",
         "0.41830230402955654",
         "0.10764918828953719",
         "-0.5436187857661279",
         "-0.08313324786128233",
         "0.0003395660115727888",
         "-0.011550917175138653",
         "-0.8292134066576319",
         "-0.7493083482337294",
         "-0.8194340603061793",
         "-0.8236447984862038",
         "-0.7536386892850498",
         "-0.8218438840264224",
         "-0.8292610844215397",
         "-0.7069959259919343",
         "-0.8012492726327847",
         "0.804950911452967",
         "0.7201231962638714",
         "0.769097330002178",
         "-0.8236094904600669",
         "-0.606495189684664",
         "-0.4401763319210193",
         "-0.586193463677258",
         "-0.8091113078477726",
         "-0.753391323479083",
         "-0.8195984862247501",
         "-0.8996887698410237",
         "-1.213909943524553",
         "-0.9521148049559012",
         "-0.6624418426245615",
         "-0.2434869496795787",
         "-0.21033139867286263",
         "-0.40756071728964666",
         "1.180812497204076",
         "-1.1035678529564348",
         "0.051879772895862056",
         "0.7009200049513354",
         "0.5953479874241004",
         "-0.9300516982005173",
         "0.17764822768760963",
         "-0.12888998057458337",
         "0.5517421922399927",
         "0.09315605893777255",
         "-0.7219317800664306",
         "-0.9207916916202323",
         "-0.9123696433288101",
         "-0.9106461600403868",
         "-0.9157197978354202",
         "-0.8180089132429338",
         "-0.9207916916202323",
         "-0.7835407171878753",
         "-0.8901883966111631",
         "-1.0702134307428603",
         "0.37468600826560666",
         "-0.4158624031520112",
         "0.7594078449603419",
         "-0.8956369017978091",
         "-0.9207916916202323",
         "-0.9123696433288101",
         "-0.9106461600403868",
         "-0.9157197978354202",
         "-0.8180089132429338",
         "-0.9207916916202323",
         "-0.7835407171878753",
         "-0.8901883966111631",
         "-1.0702134307428603",
         "0.37468600826560666",
         "-0.4158624031520112",
         "0.7594078449603419",
         "-0.8956369017978091",
         "-0.8545200590402624",
         "-0.8540899585184332",
         "-0.8497543262745932",
         "-0.8517674090704982",
         "-0.7897335668304573",
         "-0.8545200590402624",
         "-0.7055656492775007",
         "-0.8338318678218029",
         "-0.9910501401578766",
         "2.3402396486513384",
         "-0.9333680319543557",
         "-0.18665771169645434",
         "-1.8407166363567615",
         "-0.9157636528580761",
         "-0.91122712723606",
         "-0.9162907997418404",
         "-0.8904673740069614",
         "-0.7461271354727678",
         "-0.9157636528580761",
         "-0.7378890362151195",
         "-0.904891857457381",
         "-0.8898540222434881",
         "-0.6463400373521335",
         "0.46263019919765375",
         "-0.2001642732078692",
         "0.40881225545631295",
         "-0.81775918615383",
         "-0.7784049468102898",
         "-0.7858389128185918",
         "-0.7662154543902628",
         "-0.7721447183279946",
         "-0.81775918615383",
         "-0.5416207969651645",
         "-0.7903686166298576",
         "-1.0989736535347767",
         "0.19923215837378494",
         "0.3214951658596043",
         "-0.7618643908355315",
         "0.03660916762705968",
         "-0.8664017286880273",
         "-0.8961771656837774",
         "-0.8724105565179695",
         "-0.8652715041505951",
         "-0.9058069399449459",
         "-0.8879154179377128",
         "-0.8676173409296942",
         "-0.899353327892676",
         "-0.8852630697137663",
         "-0.8415971578765455",
         "-0.859784272230691",
         "-0.8432370415754921",
         "-0.6154224970714034",
         "-0.6084763372850275",
         "-0.5869270485599034",
         "-0.8992584904974918",
         "-0.6912717156817043",
         "-0.8009235232986567",
         "-0.6936210173726357",
         "-0.8292102000235994",
         "-0.8281688012626007",
         "-0.7911777456492104",
         "-1.0884992323264095",
         "-0.929703749027156",
         "-0.9779526203379653",
         "-0.652561517844865",
         "-0.8266548883218195",
         "-0.6432733493961112",
         "1.3291258923449178",
         "-0.3262021783833698",
         "0.12920076102341307",
         "-1.4829965228668438",
         "-1.1383774423727233",
         "1.1907959633476113",
         "1.2499103218146939",
         "0.47780982880843764",
         "0.4549673608958759",
         "-0.670033768181395",
         "-0.6235701051172838",
         "-0.6182655626121925",
         "-0.5726190454010295",
         "-0.5940873296120913",
         "-0.5708013629395311",
         "-0.5192927171558332",
         "-0.3767146030637896",
         "-0.6811721485484877",
         "-0.6317635961133253",
         "-0.6054413361653699",
         "-0.4821436440850537",
         "-0.6900384174160666",
         "-0.6081838671332827",
         "-0.7802119445417266",
         "-0.6377950614287499",
         "-0.6384489196885095",
         "-0.5971979261013459",
         "-0.5879151360563801",
         "-0.6171454018854187",
         "-0.5780601832258632",
         "-0.37746052959054033",
         "-0.7938391220139371",
         "-0.6543205948084386",
         "-0.6246275672867004",
         "-0.534886873424584",
         "-0.8002719905880814",
         "-0.6293654212577652",
         "-0.6481311987284957",
         "-0.5657633211659668",
         "-0.49726951247183204",
         "-0.4529454997697978",
         "-0.45097495576001495",
         "-0.5119744307496618",
         "-0.5133933641641646",
         "-0.35870443451006895",
         "-0.6771921017010876",
         "-0.5076567250695245",
         "-0.48865086694590504",
         "-0.49331524610031374",
         "-0.6907721131992031",
         "-0.4779211770617597",
         "-0.8417476302453245",
         "-0.8579038096689396",
         "-0.8003245996319573",
         "-0.8393908397811674",
         "-0.8440778628596004",
         "-0.7889169168691523",
         "-0.8393487932936274",
         "-0.847863083837204",
         "-0.7889904427405328",
         "-0.8224794619975504",
         "-0.8213030738165203",
         "-0.7735569989586724",
         "-0.6048685944925363",
         "-0.6408227634117716",
         "-0.6212074059086606",
         "-0.8551126509278063",
         "-0.6814462415214245",
         "-0.7154592725912272",
         "-0.5665881630248374",
         "-0.8106432710633935",
         "-0.8411058445958307",
         "-0.7715020692715482",
         "-0.9595105217218217",
         "-0.9853186695718559",
         "-0.9766846625250729",
         "0.8023060250985077",
         "-0.3029295619389531",
         "0.16946664919189475",
         "0.5500363705532394",
         "0.06582008357132126",
         "0.5839328591959042",
         "-1.0727575754824976",
         "-0.9885916153804462",
         "-0.6969895568587272",
         "-0.6502032004511257",
         "-1.5624813125059547",
         "-1.070705422832558",
         "-0.6201830586286552",
         "-0.6395191289298322",
         "-0.6102515831935585",
         "-0.5631498069542875",
         "-0.5887706192131029",
         "-0.5788054620840843",
         "-0.5325256716743548",
         "-0.27465588560269444",
         "-0.6642494088585671",
         "-0.6232840891877006",
         "-0.6086827946466404",
         "-0.5323626855304617",
         "-0.6856558570533294",
         "-0.6088036342932733",
         "-0.7245319800209162",
         "-0.6312005533657836",
         "-0.6400281412092308",
         "-0.5873186881015344",
         "-0.574438643904314",
         "-0.6114577959613564",
         "-0.5870568181832706",
         "-0.30718769003497837",
         "-0.6844294017334533",
         "-0.6550533569197002",
         "-0.6184212168722872",
         "-0.5866538022523158",
         "-0.7108519287641223",
         "-0.6256989005105242",
         "-0.5852259775240235",
         "-0.5565192831216661",
         "-0.5000505173197272",
         "-0.4445718170665379",
         "-0.4286828976673002",
         "-0.495005907962108",
         "-0.502058092823684",
         "-0.28838507561174187",
         "-0.5983385131694624",
         "-0.5022558915112263",
         "-0.4709953165528331",
         "-0.5030559460331425",
         "-0.5825958868213822",
         "-0.46908929523642784",
         "-0.8461651717166021",
         "-0.8401101690612803",
         "-0.8837821435293173",
         "-0.8190343962838501",
         "-0.848122864174379",
         "-0.8671668607469999",
         "-0.8453748072718793",
         "-0.8468071636373411",
         "-0.8814328318204842",
         "-0.7692401032553228",
         "-0.7898475095168962",
         "-0.8158290500623541",
         "-0.5028118750907041",
         "-0.6064224443718698",
         "-0.6022716683570486",
         "-0.8850156592992912",
         "-0.6355644766513497",
         "-0.5925712054971859",
         "-0.6394255420337313",
         "-0.8085115962170343",
         "-0.7734276299208278",
         "-0.8277040045356487",
         "-0.7858210043894012",
         "-1.2107331545082933",
         "-0.9681013929629856",
         "-0.6330197687937592",
         "-0.21277167400261834",
         "-0.8122687443720266",
         "-0.44541013589390077",
         "0.5793355486438935",
         "-0.23407656957387507",
         "0.8192844063836104",
         "0.7238492645247814",
         "-0.7396487668393331",
         "-0.7545962986874696",
         "-0.5304043315445485",
         "-0.6736306644295668",
         "-0.5862282707484618",
         "-0.578259198216565",
         "-0.5671486248046829",
         "-0.46330289100103755",
         "-0.4556918973966691",
         "-0.49564791105045203",
         "-0.42658741046136994",
         "-0.32919122510125476",
         "-0.6240375632061643",
         "-0.5687900996672396",
         "-0.486117297826589",
         "-0.3957904773137527",
         "-0.63339108827465",
         "-0.4840189576210854",
         "-0.555011187145534",
         "-0.4046289926645105",
         "-0.3452557520409496",
         "-0.3637636936097373",
         "-0.36097160484361807",
         "-0.4248605629197063",
         "-0.415266538733804",
         "-0.31493322904630394",
         "-0.5849438188564465",
         "-0.368386505633736",
         "-0.3892218830757594",
         "-0.40958728235381453",
         "-0.5921254233864051",
         "-0.379274125054989",
         "-0.5704121526368072",
         "-0.4926728015087744",
         "-0.490739163365434",
         "-0.431618949432193",
         "-0.4326566821363592",
         "-0.48097667290823176",
         "-0.46279873979283054",
         "-0.33139394570314545",
         "-0.6140071428388568",
         "-0.5011788878964276",
         "-0.45930718598379283",
         "-0.42077753240274296",
         "-0.6348123870723325",
         "-0.45195267011767487",
         "-0.8886099026025769",
         "-0.9169635583336901",
         "-0.8970240235906496",
         "-0.9047097049239933",
         "-0.6130537156059116",
         "-0.8886099026025769",
         "-0.7120404505713966",
         "-0.8398630782949548",
         "-1.0386363430983943",
         "-0.4127293846935604",
         "0.6913525788879479",
         "-0.8260122843094202",
         "-0.7729282682359887",
         "-0.8511676297736135",
         "-0.8498250005531142",
         "-0.8497463236266982",
         "-0.8250176303471133",
         "-0.7183219007116032",
         "-0.8511676297736135",
         "-0.6837435537803578",
         "-0.8311641556130136",
         "-0.9734848102751821",
         "-0.14189931624180926",
         "1.9018320552678243",
         "-1.1480593349530872",
         "-0.9066653063424781",
         "-0.8836491450379035",
         "-0.9080115579230033",
         "-0.9009774240525898",
         "-0.9018610730413257",
         "-0.6371927829285563",
         "-0.8836491450379035",
         "-0.6516441208300833",
         "-0.8579787063163583",
         "-1.0602341290661526",
         "0.5998659280850362",
         "-0.588017749145263",
         "-0.8624702640429547",
         "-0.9383647209269441",
         "-0.7821132142979957",
         "-0.7637906347923118",
         "-0.7711866150931295",
         "-0.7485416770148726",
         "-0.6410331459833521",
         "-0.7821132142979957",
         "-0.4628426775714564",
         "-0.7728635763844249",
         "-1.1339006206056392",
         "2.398464697726963",
         "1.1522573695057676",
         "-0.260860074007529",
         "-0.43828614435982177",
         "-0.37781470521780813",
         "0.3919494034749177",
         "0.15119662119433078",
         "1.7040846704402652",
         "-0.7021912449163639",
         "0.4102603965509391",
         "0.0265005327356046"
        ],
        [
         "3",
         "0.06669123483246116",
         "-0.20840748143134707",
         "-0.24969546896538908",
         "-0.8705663135774375",
         "-0.9399585464276362",
         "-0.9217426774315536",
         "-0.8644446399525672",
         "-0.9380600365572112",
         "-0.9252157692113683",
         "-0.8632641490619213",
         "-0.9570324058547732",
         "-0.9275990676089",
         "0.880263376591813",
         "0.8585746568729375",
         "0.81759783597091",
         "-0.9294550265123105",
         "-0.6931025861062033",
         "-0.7746380664088008",
         "-0.6924856103943522",
         "-0.8418431371891955",
         "-0.9150874525112899",
         "-0.9181761330509803",
         "-1.118336850440452",
         "-1.6305616138873438",
         "-2.014004305977047",
         "0.5808489957434173",
         "-0.11323267383752822",
         "0.9686209636159218",
         "-1.7159534561395562",
         "0.3837641564651088",
         "-0.8448397014122556",
         "0.7814169775747382",
         "-0.6830000118169198",
         "0.9980333417247431",
         "-1.5690688102768764",
         "1.8861659706673524",
         "-1.6819648967895637",
         "-0.4972051119326513",
         "-0.5099378050397732",
         "1.0443072327388463",
         "0.587296732618075",
         "-0.4163541069586259",
         "0.01705002204037817",
         "-0.4118370273097473",
         "-0.30294701415975056",
         "-0.3875677416898039",
         "-0.40560428773261603",
         "-0.2905505754598236",
         "-0.37857725167644646",
         "0.5678647008973884",
         "-0.44500874684731817",
         "-0.016119692701067466",
         "0.6061390585856793",
         "-0.3910452379133839",
         "0.04324827078655217",
         "-0.8028119784020559",
         "0.6790479376913484",
         "-0.5469096098735409",
         "-0.5452831358989643",
         "-0.3874069590781774",
         "-0.2600371619499811",
         "-0.3621638439067792",
         "-0.9106678392673268",
         "-0.46500497960222154",
         "0.22351154007223017",
         "2.110464383831433",
         "-2.2996943100857568",
         "2.4421935565413415",
         "-2.5287533759694587",
         "0.17181754671531033",
         "-0.34310870128994264",
         "0.5280614715047374",
         "-0.7146973221811748",
         "0.16946088190339995",
         "-0.26862370614888714",
         "0.36977911580397704",
         "-0.4691042839825595",
         "-1.69115235552679",
         "-1.2201713522921571",
         "1.2718458365661436",
         "-0.009978252264892257",
         "0.07026091186110851",
         "-0.032341006863563275",
         "-0.8477392262190452",
         "-0.8690991977999695",
         "-0.8108597243128918",
         "-0.8483202401359388",
         "-0.8679695623691686",
         "-0.8084156079135955",
         "-0.7825699446651085",
         "-0.8276580566384855",
         "-0.748924080467195",
         "0.8423119014892659",
         "0.8504472403795108",
         "0.8092458684973832",
         "-0.8642126201307411",
         "-0.6816507939907835",
         "-0.7162336536973806",
         "-0.5673899290814397",
         "-0.8392958171672573",
         "-0.858720824107363",
         "-0.7979164536278361",
         "-1.1042527997232716",
         "-1.0283406376852184",
         "-1.1259337281985506",
         "0.7604791968715268",
         "0.5944918122616574",
         "1.635461477931626",
         "0.37415653412277655",
         "0.6320862650464278",
         "-0.7485590915192232",
         "0.08981749985664983",
         "0.7995028652472242",
         "1.4151188841750728",
         "-1.3754205769012648",
         "1.3387792016924231",
         "1.3115723332326914",
         "0.06760704933275771",
         "-0.31923203051058874",
         "1.3544977758816956",
         "-0.08907823246319359",
         "-0.11499093393037593",
         "-0.0075395097889680044",
         "-0.8818914727794898",
         "-0.8523997032090568",
         "-0.8827214320279437",
         "-0.8752339794752102",
         "-0.8529177278350335",
         "-0.8761204432820145",
         "-0.8568726901804516",
         "-0.8062419268454182",
         "-0.8452841059748363",
         "0.7834768887896727",
         "0.7975281177088259",
         "0.8600211624762817",
         "-0.9307970772903568",
         "-0.6764219624841442",
         "-0.601495734881399",
         "-0.6494664784867087",
         "-0.8516249434889834",
         "-0.8400835009292349",
         "-0.8506929741892194",
         "-1.7150914087746814",
         "-1.9156116182968066",
         "-1.0153019689801195",
         "0.18986701330636532",
         "-0.6669882303151063",
         "0.7968358590100059",
         "-0.32725764237318034",
         "1.1674228718341013",
         "-1.4904445795363914",
         "0.5050504879595659",
         "0.1856746466661049",
         "0.8622490035910358",
         "-0.9374114376440685",
         "0.4324869793934015",
         "0.20600398518869467",
         "0.9836970091135271",
         "0.3564835341134857",
         "-1.4173330423766537",
         "0.05265911564052082",
         "0.052273592848190616",
         "-0.047156682684400826",
         "-0.8377409274693445",
         "-0.7528790594479748",
         "-0.8253384008563733",
         "-0.8343229426066485",
         "-0.7582463017034756",
         "-0.8300244634337605",
         "-0.830346681262446",
         "-0.7069959259919343",
         "-0.8012492726327847",
         "0.804950911452967",
         "0.7244785320506176",
         "0.769097330002178",
         "-0.8311229700335198",
         "-0.6067634625771158",
         "-0.44022006421936827",
         "-0.5863660135315929",
         "-0.8211882905152182",
         "-0.7599460126506626",
         "-0.8291257961014683",
         "-0.9317567433790387",
         "-1.3189696472463186",
         "-1.0764298452328476",
         "0.3138770718843608",
         "-0.9163959669241397",
         "-0.16424688184689545",
         "0.6920366208424593",
         "1.1731890123019924",
         "-1.0044006052061671",
         "-0.08033921354902672",
         "0.6752361924671029",
         "0.8124639957027505",
         "-0.791836470493664",
         "0.0002516549480416623",
         "0.44667805225376966",
         "0.5638385117043845",
         "0.34565554918707847",
         "-0.6872039574661223",
         "-0.926734560910642",
         "-0.908716217553759",
         "-0.9056976002428743",
         "-0.9157197978354202",
         "-0.826944315984859",
         "-0.926734560910642",
         "-0.7837299621601992",
         "-0.8832421092668429",
         "-1.054058210901737",
         "-0.06906843017597562",
         "0.0898672247667106",
         "-0.24016350493401142",
         "0.3614061517203678",
         "-0.926734560910642",
         "-0.908716217553759",
         "-0.9056976002428743",
         "-0.9157197978354202",
         "-0.826944315984859",
         "-0.926734560910642",
         "-0.7837299621601992",
         "-0.8832421092668429",
         "-1.054058210901737",
         "-0.06906843017597562",
         "0.0898672247667106",
         "-0.24016350493401142",
         "0.3614061517203678",
         "-0.8660123697068388",
         "-0.8612142735974464",
         "-0.8561269333737176",
         "-0.8634360584733441",
         "-0.7897335668304573",
         "-0.8660123697068388",
         "-0.7060069176895076",
         "-0.8389060245890443",
         "-0.9875263468885775",
         "2.38906807723237",
         "-0.8821664681088338",
         "-0.6182190036417056",
         "-1.5122259881687907",
         "-0.9298473537608579",
         "-0.9148128461564284",
         "-0.9192633759268382",
         "-0.9066438266247202",
         "-0.796121670091759",
         "-0.9298473537608579",
         "-0.7384410026688755",
         "-0.9062667404326492",
         "-0.9266295008824653",
         "-0.5647555878413604",
         "0.4444300274259537",
         "-0.005881303098658486",
         "-0.084324591663141",
         "-0.8251231586172169",
         "-0.7790339001831352",
         "-0.7875644895023534",
         "-0.7662154543902628",
         "-0.7721447183279946",
         "-0.8251231586172169",
         "-0.5417377241309864",
         "-0.7946083278012696",
         "-1.1275416455906089",
         "1.3005222096548261",
         "-0.20003127429643416",
         "-1.183276531480195",
         "-0.1931113903090052",
         "-0.8708306871851182",
         "-0.9190380011153679",
         "-0.8934214333203052",
         "-0.8652699750632338",
         "-0.9425876581739673",
         "-0.9196739663726812",
         "-0.8685827504601548",
         "-0.9216652680873917",
         "-0.9022898564443607",
         "-0.839786174022386",
         "-0.9283321053830562",
         "-0.8903255684618805",
         "-0.6040721489498336",
         "-0.6103340892726904",
         "-0.6295875420134871",
         "-0.9138182350820548",
         "-0.691295297800524",
         "-0.8027341151409241",
         "-0.6951372379899919",
         "-0.8338782168043689",
         "-0.8656196875760885",
         "-0.8139757052889177",
         "-1.0884992323264095",
         "-1.0112615003010652",
         "-1.1898486099205399",
         "-0.9013884635362068",
         "-0.8266548883218195",
         "-0.6432733493961112",
         "0.9684272053467363",
         "0.2781909011420205",
         "0.48545394765086797",
         "-1.165647639704874",
         "-1.0106908413434",
         "-0.5497516559816852",
         "-0.6042848358968745",
         "-0.8120475886587863",
         "-0.709987107447728",
         "-0.6700307673976088",
         "-0.6236542260657777",
         "-0.6183485243135481",
         "-0.5727498928650309",
         "-0.5944534308744249",
         "-0.5709766728289176",
         "-0.5196774491210746",
         "-0.37670790948413946",
         "-0.6811860390128662",
         "-0.6318604751984604",
         "-0.6057428197113383",
         "-0.4823922767693092",
         "-0.690056835801959",
         "-0.6083823520582137",
         "-0.7828403251475626",
         "-0.6379377393622221",
         "-0.639773180867446",
         "-0.5979800308001654",
         "-0.5874414589269022",
         "-0.618294352008096",
         "-0.5774486591208119",
         "-0.3773512169194421",
         "-0.7956930048305842",
         "-0.6555935847149086",
         "-0.6247526846531618",
         "-0.5344253425257013",
         "-0.802120119061566",
         "-0.6299446436820492",
         "-0.6499241832939812",
         "-0.5660340011571039",
         "-0.4978558575555353",
         "-0.4544319497274098",
         "-0.45222102820492077",
         "-0.5122564737172551",
         "-0.513351710884317",
         "-0.35928884781622666",
         "-0.6787283661077403",
         "-0.5084962764463736",
         "-0.48961539990762637",
         "-0.493472831201526",
         "-0.6922655829302248",
         "-0.4792868308789054",
         "-0.8505176906463552",
         "-0.8752820948777404",
         "-0.8126253914415807",
         "-0.8397182430159335",
         "-0.8567579950402405",
         "-0.8037320793634607",
         "-0.8429852116186551",
         "-0.8623729329536594",
         "-0.8102437777376166",
         "-0.8173140747750121",
         "-0.8281151335921135",
         "-0.7747015865062779",
         "-0.6070712865348492",
         "-0.6464124337732361",
         "-0.44697649159609154",
         "-0.8677883590989585",
         "-0.6815803925419079",
         "-0.716153861010888",
         "-0.5672770214396976",
         "-0.8340558012879288",
         "-0.8601103402174867",
         "-0.8110805100143835",
         "-0.9595105217218217",
         "-0.9853186695718559",
         "-0.9766846625250729",
         "0.9247461682541742",
         "-0.601473548450372",
         "0.16946664919189475",
         "0.2795248708415505",
         "0.429095088954763",
         "1.0553416445345492",
         "0.22390583839465253",
         "-0.19803060627292468",
         "0.00045234228874742273",
         "-0.0694605633121137",
         "-0.4457334693358909",
         "-0.5140343052029329",
         "-0.6202021968988218",
         "-0.6396397896516576",
         "-0.6103285689401695",
         "-0.5632862669119375",
         "-0.5893202914582847",
         "-0.5789494975994743",
         "-0.5331758221331687",
         "-0.2747015536446652",
         "-0.6643260931810057",
         "-0.6233847693898081",
         "-0.6090704868141812",
         "-0.5329828103697518",
         "-0.6857372643199748",
         "-0.6090621597367664",
         "-0.7248665382682979",
         "-0.6314503478449054",
         "-0.6413363168577925",
         "-0.5877668184203363",
         "-0.5745334635927108",
         "-0.612538920535986",
         "-0.5869774517338576",
         "-0.30725605958684676",
         "-0.6847111547513006",
         "-0.6561724578488235",
         "-0.6189550753040927",
         "-0.5865852780078221",
         "-0.7115862517000966",
         "-0.6262050437078537",
         "-0.5853050415302772",
         "-0.5561958608587603",
         "-0.5007596003780338",
         "-0.4463739614968398",
         "-0.42988793736015096",
         "-0.4958923097282327",
         "-0.500038904944816",
         "-0.28522956134178623",
         "-0.5981160718988762",
         "-0.5034168830190392",
         "-0.4721218163374524",
         "-0.5008599299665533",
         "-0.5828691150740619",
         "-0.4706553432335693",
         "-0.8788364352500174",
         "-0.8397843602392091",
         "-0.8849115472288799",
         "-0.8745210900506605",
         "-0.8435780627421998",
         "-0.8711142990494951",
         "-0.8866095912889774",
         "-0.8460799542205086",
         "-0.8852750597162232",
         "-0.8390287827553939",
         "-0.7805129977807505",
         "-0.8194217128886665",
         "-0.515245186719619",
         "-0.5886572066705607",
         "-0.598815440201255",
         "-0.8967520796701121",
         "-0.6375799560599449",
         "-0.5925177100824638",
         "-0.6395252988429683",
         "-0.830005904630555",
         "-0.776275670120476",
         "-0.8211361525583953",
         "-1.001583992360962",
         "-1.2034074556182233",
         "-1.0768959446620243",
         "-0.6330197687937592",
         "-0.6698344678765424",
         "0.05066653137449319",
         "1.2268935973777353",
         "0.15182073614477756",
         "-0.00477387907854111",
         "-1.2275928328605894",
         "-1.1217404183344748",
         "0.10867252393421867",
         "-0.03721635831351421",
         "-0.4921570600121001",
         "-0.6418068675233003",
         "-0.5885555162777545",
         "-0.5786257502659737",
         "-0.5673651715254187",
         "-0.4637703707746628",
         "-0.4559609629563904",
         "-0.4962818319008663",
         "-0.4262332180997961",
         "-0.3296081622239969",
         "-0.6261476264046146",
         "-0.5690785537884884",
         "-0.48652535684656173",
         "-0.39574949104380197",
         "-0.6354322255695917",
         "-0.4844786402413763",
         "-0.5549093194133048",
         "-0.40464385866832414",
         "-0.34527404653089216",
         "-0.3637444969904483",
         "-0.36116991220741046",
         "-0.42496918235541586",
         "-0.4152937565553883",
         "-0.3148714819759663",
         "-0.5848685682698325",
         "-0.36839801311635234",
         "-0.3893985466275424",
         "-0.4095887931891641",
         "-0.5920664528790938",
         "-0.3793023604008035",
         "-0.5704524880624081",
         "-0.49291911187716214",
         "-0.4908923590679017",
         "-0.4316008884786012",
         "-0.43261147251517135",
         "-0.4806231529706981",
         "-0.46270564965803546",
         "-0.33098073946562045",
         "-0.6141008078986794",
         "-0.5013012322905367",
         "-0.459161528622491",
         "-0.4205467021976109",
         "-0.6349166223000648",
         "-0.4518964571865346",
         "-0.8879999634944433",
         "-0.9106940589883826",
         "-0.8922827032710772",
         "-0.894027942953474",
         "-0.6647470580364641",
         "-0.8879999634944433",
         "-0.711897853974318",
         "-0.8226756782811976",
         "-1.0386363430983943",
         "-0.9259882149717388",
         "0.0016639886465850166",
         "-0.36867685491242125",
         "-0.3966425370465103",
         "-0.8593031465382068",
         "-0.851883595307239",
         "-0.8538520413321639",
         "-0.8285027411252598",
         "-0.7022670150974913",
         "-0.8593031465382068",
         "-0.6839572319055661",
         "-0.8349352698356352",
         "-0.9734848102751821",
         "9.955638053412802",
         "1.9732643061771264",
         "-1.0823481477123953",
         "-0.85193408546432",
         "-0.8841208401600074",
         "-0.9136117680323476",
         "-0.9084784674229787",
         "-0.8874268039650725",
         "-0.6400526584582688",
         "-0.8841208401600074",
         "-0.6517571555237137",
         "-0.8451054035291743",
         "-1.0346851247998852",
         "-0.7012741098526252",
         "0.03832084462879231",
         "0.07212488183090794",
         "0.16596702057511148",
         "-0.782803048302043",
         "-0.7642033175689326",
         "-0.7749507989935409",
         "-0.7453534150804761",
         "-0.640337389596022",
         "-0.782803048302043",
         "-0.46285190722879344",
         "-0.7779777121285509",
         "-1.0636765156631622",
         "-0.263030205612689",
         "1.1126935120389438",
         "0.5910046814820942",
         "0.463123199815502",
         "-0.13501617015301198",
         "-0.03363457283778123",
         "1.037780908012727",
         "-1.0029508273410617",
         "-0.7016361722040726",
         "0.4146218657192974",
         "0.03171198445666993"
        ],
        [
         "4",
         "0.03046690057319662",
         "0.027585343966188437",
         "-0.1098403670780225",
         "-0.8751283219076429",
         "-0.9348148928035136",
         "-0.9212805896815254",
         "-0.8673254198212491",
         "-0.9317260040133764",
         "-0.9279652743426171",
         "-0.8702012415966578",
         "-0.9322840892010099",
         "-0.9105636107659287",
         "0.8953521145848904",
         "0.8610450107591541",
         "0.81759783597091",
         "-0.9433586247656728",
         "-0.6931606352832684",
         "-0.7755869858922848",
         "-0.6936247986219441",
         "-0.8440601248709285",
         "-0.9081784418190193",
         "-0.9319327045115541",
         "-1.4576125663382349",
         "-0.9640298030553051",
         "-1.6089077511755787",
         "1.4024932372741168",
         "-0.9488086360776878",
         "0.9397121737763067",
         "-0.18939374961845784",
         "1.1028091317438455",
         "-1.3898819740487238",
         "1.3156808277393002",
         "-1.3358509814836657",
         "1.5042038087468714",
         "-1.397945346665572",
         "0.6046230039569064",
         "-0.044302954225526686",
         "-0.08446463651539438",
         "0.012199757858171845",
         "1.2823953398991197",
         "0.588475628629613",
         "-0.4291786443581463",
         "0.0016263217182107795",
         "-0.434705179398088",
         "-0.37625833218890065",
         "-0.39007238908410313",
         "-0.4310755205100584",
         "-0.3755992038094697",
         "-0.38309687970704187",
         "0.5678647008973884",
         "-0.4535383463337558",
         "-0.021194243998063127",
         "0.6073431530889846",
         "-0.3923916554880569",
         "0.03841084068566705",
         "-0.8033067920290738",
         "0.681360505652432",
         "-0.5415357980212162",
         "-0.5497399372089734",
         "-0.41934064460092735",
         "-0.3743759099099468",
         "-0.3684052765276044",
         "-0.9106678392673268",
         "-0.46500497960222154",
         "0.17186155149824922",
         "1.2101150153912583",
         "-1.3683073963159107",
         "1.4982205850532833",
         "-1.591309043789219",
         "0.6102844290504233",
         "-0.8056732613047274",
         "1.0076576435229985",
         "-1.2004587653215804",
         "0.717551105582048",
         "-0.8337979180895805",
         "0.946321530489466",
         "-1.0499486579846626",
         "-0.8543047830202507",
         "-0.1124212849937002",
         "1.2442115379513043",
         "-0.0314034560592519",
         "0.0645429568836939",
         "0.13428279835654258",
         "-0.8567783901124242",
         "-0.8709576862311454",
         "-0.807231552902605",
         "-0.8539023929007221",
         "-0.8697917128662074",
         "-0.8057001899957593",
         "-0.8096323370618962",
         "-0.8277664570799577",
         "-0.748924080467195",
         "0.8559656098424466",
         "0.8504472403795108",
         "0.7852740953733278",
         "-0.8666259968434619",
         "-0.6818583447406436",
         "-0.7163063966356613",
         "-0.5672099910905505",
         "-0.8420711755058164",
         "-0.8573939133266031",
         "-0.8039971009996841",
         "-1.150084075689096",
         "-1.0146702768003442",
         "-1.0798313846192982",
         "1.1513240828879618",
         "-0.14097396540991397",
         "0.9687564766935918",
         "0.8568072947321546",
         "1.4294039588670242",
         "-0.9512059880777071",
         "1.2618134656251632",
         "0.4728673437549555",
         "1.5314903676658473",
         "-0.5788752495617033",
         "0.7405425920679003",
         "0.17100242338997398",
         "-0.500554805023776",
         "0.3281986034797204",
         "-0.08657928528205386",
         "-0.03720211993572378",
         "0.010998348686304123",
         "-0.0660129718742051",
         "-0.8616738179347373",
         "-0.8523210684996533",
         "-0.8823176762525513",
         "-0.8599023576288923",
         "-0.8512385660186363",
         "-0.8722552835236862",
         "-0.803290328435398",
         "-0.7943383730533949",
         "-0.8666302374568052",
         "0.8027895938134012",
         "0.8224731705100831",
         "0.8429847601065151",
         "-0.9380267171593628",
         "-0.6768061963553869",
         "-0.601738711732756",
         "-0.6493000362479651",
         "-0.8476564739126965",
         "-0.8376056698198899",
         "-0.840126511613527",
         "-1.054888092435053",
         "-0.9562842454478018",
         "-1.2485113971533055",
         "0.025262730605352723",
         "-0.6022872972927128",
         "1.0964939645389573",
         "-0.606936652140194",
         "0.18810687088069414",
         "0.11284567072914098",
         "-1.7722938205740595",
         "2.4499337494507936",
         "1.0087464956823213",
         "-1.3979709540368812",
         "0.5069784457804514",
         "1.2429848763072269",
         "0.07989457406472701",
         "1.230089857776791",
         "-1.415599092789449",
         "0.0557943152023763",
         "0.04116579349375401",
         "-0.030448851542867833",
         "-0.8384951857305256",
         "-0.7522844954328194",
         "-0.8292222777459337",
         "-0.8395210853281607",
         "-0.7566867480667528",
         "-0.8312518609416558",
         "-0.7830236508940905",
         "-0.7211407758246423",
         "-0.8160170449071763",
         "0.8203488492684422",
         "0.7215529563950274",
         "0.7785832193874517",
         "-0.8325011843992143",
         "-0.6067843384682452",
         "-0.4402133521419319",
         "-0.586467825950916",
         "-0.8327100746438074",
         "-0.7585132266580165",
         "-0.8239229145188556",
         "-1.028863332395817",
         "-1.2321518769538566",
         "-1.027899523647049",
         "0.17553154382298786",
         "-1.1860395645506105",
         "0.3278586629877976",
         "0.1295354077549532",
         "0.04916462484946537",
         "0.46694121510744435",
         "-1.8517799460251527",
         "-0.38193347230504265",
         "0.7487203370878565",
         "-1.660085922033391",
         "-0.6865296447952054",
         "0.5073859911198876",
         "0.2874147052891408",
         "0.2209357706161711",
         "-0.5968648374396219",
         "-0.9398934619330532",
         "-0.9198118179506606",
         "-0.9180667684809528",
         "-0.9252433022977072",
         "-0.826944315984859",
         "-0.9398934619330532",
         "-0.7842201247660863",
         "-0.902004683223136",
         "-1.2248643458043091",
         "0.8573800956088957",
         "-1.2689360951842332",
         "1.7862478352716256",
         "-1.120894216648676",
         "-0.9398934619330532",
         "-0.9198118179506606",
         "-0.9180667684809528",
         "-0.9252433022977072",
         "-0.826944315984859",
         "-0.9398934619330532",
         "-0.7842201247660863",
         "-0.902004683223136",
         "-1.2248643458043091",
         "0.8573800956088957",
         "-1.2689360951842332",
         "1.7862478352716256",
         "-1.120894216648676",
         "-0.8670283545038567",
         "-0.867118556583486",
         "-0.8634236327535693",
         "-0.8631436223462752",
         "-0.7452138590123011",
         "-0.8670283545038567",
         "-0.7060916664749455",
         "-0.853703527420509",
         "-1.066870511732428",
         "0.952891601624211",
         "-0.5688422807839507",
         "0.9262922288019508",
         "-1.5975493369814024",
         "-0.9375573499270573",
         "-0.9195346800562669",
         "-0.9293465688872194",
         "-0.8975106748823722",
         "-0.796121670091759",
         "-0.9375573499270573",
         "-0.7387078131995197",
         "-0.9287680287090193",
         "-1.128041826846788",
         "-0.6797069565697216",
         "0.5876757244869096",
         "-0.3526607380714749",
         "0.3979697337543127",
         "-0.8261946314512751",
         "-0.779003233511504",
         "-0.7914487613000881",
         "-0.7554075191024355",
         "-0.7505682083437188",
         "-0.8261946314512751",
         "-0.5417520433058453",
         "-0.8008143473568011",
         "-1.1803420995154694",
         "0.2149971692056977",
         "-0.18103623382119557",
         "-0.4299891542874805",
         "0.445152481809457",
         "-0.8750232436908564",
         "-0.9164151447403939",
         "-0.8860978816135475",
         "-0.8702817991743359",
         "-0.936128901980549",
         "-0.9237362578719456",
         "-0.8754105463636143",
         "-0.9207211331061246",
         "-0.9070389508724436",
         "-0.8442812145592923",
         "-0.9101303760042225",
         "-0.8936735537228552",
         "-0.606357654842913",
         "-0.6188070116227431",
         "-0.4640771724626433",
         "-0.9130085330772312",
         "-0.691352210855257",
         "-0.8025019174489912",
         "-0.6951164273602237",
         "-0.8421461629927864",
         "-0.8561104462424121",
         "-0.8082356702614726",
         "-1.0884992323264095",
         "-1.0112615003010652",
         "-1.1898486099205399",
         "3.3286695515075206",
         "-0.8266548883218195",
         "-0.6432733493961112",
         "1.5427739992006984",
         "0.18512354112017274",
         "1.7791273893405732",
         "-1.3585661271469542",
         "-1.1068907332970952",
         "0.23277475269362985",
         "0.11416489617132315",
         "-0.8582201858470935",
         "-0.7562747562451645",
         "-0.670049866503826",
         "-0.6237062636757764",
         "-0.6187928526666195",
         "-0.5731621868615365",
         "-0.5942955290912338",
         "-0.5708856035853231",
         "-0.5197264370207881",
         "-0.3766305704132371",
         "-0.6812121205763002",
         "-0.6323146529831871",
         "-0.6056064919074748",
         "-0.48239483716473436",
         "-0.6901092368709133",
         "-0.6086115062068858",
         "-0.7822684028546502",
         "-0.6383921016225514",
         "-0.6393964912434876",
         "-0.5977105048983158",
         "-0.5879988308875289",
         "-0.6173178933737417",
         "-0.5774734578196746",
         "-0.3777049354838407",
         "-0.7954881350239202",
         "-0.6552228244166857",
         "-0.6247487844858781",
         "-0.5345696585830713",
         "-0.8018872055817758",
         "-0.629758899973425",
         "-0.6499181909846197",
         "-0.5663566599450967",
         "-0.49795085593638805",
         "-0.4528121716369204",
         "-0.4508873773021111",
         "-0.5121804913107406",
         "-0.5078247253768383",
         "-0.35482613678187935",
         "-0.6788075058076358",
         "-0.5081615802594517",
         "-0.4886600104014087",
         "-0.4879683836161704",
         "-0.6923513036062352",
         "-0.4778289275986144",
         "-0.8552048279948291",
         "-0.8754361331180031",
         "-0.810255470623758",
         "-0.853687995605116",
         "-0.8606222666392821",
         "-0.7981999960245374",
         "-0.8574034690288874",
         "-0.8665007135753636",
         "-0.8028264208872313",
         "-0.8278941884704498",
         "-0.8348600837336654",
         "-0.7784203597090514",
         "-0.5960416473829465",
         "-0.6293315637020659",
         "-0.6126771573534402",
         "-0.8691950690859415",
         "-0.6817881308159907",
         "-0.7162263807792472",
         "-0.5670999468881314",
         "-0.8443179851562294",
         "-0.8656407529028514",
         "-0.7853223765415871",
         "-0.9595105217218217",
         "-0.9853186695718559",
         "-0.9766846625250729",
         "0.3125454524758421",
         "1.18979037061814",
         "1.2442294741725384",
         "1.0864542785461084",
         "1.0520552186609866",
         "1.506593146530527",
         "-0.7882671543742349",
         "-0.46307786702848225",
         "-0.5270872512897413",
         "-0.5869612547439699",
         "-1.369898250139178",
         "-0.9813304807909053",
         "-0.6201908039991696",
         "-0.6397427588637187",
         "-0.6108319223005243",
         "-0.5637030859253153",
         "-0.5890644583756229",
         "-0.5789408073197037",
         "-0.5333328208632347",
         "-0.27462745078410744",
         "-0.6643776507241497",
         "-0.6238828118261961",
         "-0.6089166190474861",
         "-0.5331237227479463",
         "-0.6859509528312733",
         "-0.6092333473163701",
         "-0.7250025015223186",
         "-0.6318351843460286",
         "-0.6410270820708057",
         "-0.5879394571562798",
         "-0.5748559187488661",
         "-0.6121587682054352",
         "-0.5855347696142843",
         "-0.3071736139507712",
         "-0.6850589867934015",
         "-0.655989301567182",
         "-0.6189835593036517",
         "-0.5852094524993613",
         "-0.7116792682287607",
         "-0.6263179615101809",
         "-0.5850798340699356",
         "-0.5568906596163729",
         "-0.5010976905110253",
         "-0.4449306741470287",
         "-0.42852579399358715",
         "-0.4955068365208315",
         "-0.49979330012574064",
         "-0.28825800411574803",
         "-0.5985774475065333",
         "-0.5030885601983146",
         "-0.4710893051744006",
         "-0.5008882379861618",
         "-0.5832923182478347",
         "-0.46934538287471517",
         "-0.865788758663935",
         "-0.8380058575219814",
         "-0.8887366775198174",
         "-0.851086509663181",
         "-0.8443812136005754",
         "-0.8689691740844337",
         "-0.8658185178362311",
         "-0.8457314898704867",
         "-0.8851077908213595",
         "-0.8178240740610884",
         "-0.7846953782087648",
         "-0.8164072956062095",
         "-0.5513860947019359",
         "-0.5848540245441082",
         "-0.6106880959320105",
         "-0.8923178119459535",
         "-0.6369551603980954",
         "-0.5925162038537114",
         "-0.6395127685329474",
         "-0.8229399693253516",
         "-0.7757485011223187",
         "-0.8414651227784775",
         "-0.8860443245541137",
         "-1.2413165984006276",
         "-0.9457169860574791",
         "-0.6330197687937592",
         "0.015759722934343686",
         "-0.8122687443720266",
         "-0.20108194769796925",
         "0.32155898053113235",
         "-0.4277305585829112",
         "-0.5093993444582445",
         "-0.6786593786308008",
         "-0.2672549942612213",
         "-0.4292005439405118",
         "-0.1551646731485438",
         "-0.35849562667425094",
         "-0.5877858203865477",
         "-0.5787490888079031",
         "-0.5672225119558052",
         "-0.4633996860043984",
         "-0.4564939777188376",
         "-0.4961195176970831",
         "-0.4270144142500573",
         "-0.3299411968503223",
         "-0.6254963335968242",
         "-0.5688731060635072",
         "-0.4868306162101495",
         "-0.3963618591144624",
         "-0.6347977007094231",
         "-0.48433253454469255",
         "-0.5548897311061853",
         "-0.4046753129568806",
         "-0.3453062223662728",
         "-0.3637006647097396",
         "-0.36087198782675994",
         "-0.42515871120190185",
         "-0.41516231439261725",
         "-0.31466761664859433",
         "-0.5848644044040395",
         "-0.3684162939906364",
         "-0.3892379561046005",
         "-0.4094269560614965",
         "-0.5920717804327136",
         "-0.3792287740748371",
         "-0.5704179869681877",
         "-0.492823936622985",
         "-0.4911690613832105",
         "-0.43200398802252127",
         "-0.4324656103927571",
         "-0.48094617170779913",
         "-0.46310607131809617",
         "-0.3313163502783457",
         "-0.6140480924014888",
         "-0.5016195089661734",
         "-0.45916299251557025",
         "-0.4209313163406539",
         "-0.6348924919437399",
         "-0.4521925490614531",
         "-0.9014136977055084",
         "-0.9198534866931927",
         "-0.9124411657109093",
         "-0.8950689013951976",
         "-0.6004769198833668",
         "-0.9014136977055084",
         "-0.7122995999730425",
         "-0.8629998707160523",
         "-1.0386363430983943",
         "-0.9259882149717388",
         "1.2017825045452368",
         "0.713812990752441",
         "0.442390576910749",
         "-0.8657248380018252",
         "-0.85852817532392",
         "-0.8636530761640603",
         "-0.8313169574242903",
         "-0.6526066363518868",
         "-0.8657248380018252",
         "-0.684157205486921",
         "-0.8514329029563955",
         "-0.9734848102751821",
         "-0.6467762112305754",
         "1.5009046704725264",
         "-0.6021064775344279",
         "-0.7050987476479054",
         "-0.8901509144277271",
         "-0.917401758845439",
         "-0.9110805077602308",
         "-0.9035063571285938",
         "-0.6524613150122694",
         "-0.8901509144277271",
         "-0.6518930255089874",
         "-0.845687475870027",
         "-1.1041226510944282",
         "-0.05070412259908195",
         "-0.8033051420676585",
         "-0.7857146305099215",
         "-0.8121865038647955",
         "-0.7823390849765722",
         "-0.7650619117335462",
         "-0.7734086598257841",
         "-0.7467161935547996",
         "-0.6490587569424646",
         "-0.7823390849765722",
         "-0.4628523398689809",
         "-0.7788846678742674",
         "-1.1339006206056392",
         "-0.263030205612689",
         "-0.14956719091163448",
         "-0.13850532289639053",
         "-0.24029618382824908",
         "0.3403828954935969",
         "0.2684679331253853",
         "1.1258410607782852",
         "-1.2761955283857525",
         "-0.7001040902374812",
         "0.4254340198933368",
         "0.04522194053289067"
        ]
       ],
       "shape": {
        "columns": 561,
        "rows": 5
       }
      },
      "text/html": [
       "<div>\n",
       "<style scoped>\n",
       "    .dataframe tbody tr th:only-of-type {\n",
       "        vertical-align: middle;\n",
       "    }\n",
       "\n",
       "    .dataframe tbody tr th {\n",
       "        vertical-align: top;\n",
       "    }\n",
       "\n",
       "    .dataframe thead th {\n",
       "        text-align: right;\n",
       "    }\n",
       "</style>\n",
       "<table border=\"1\" class=\"dataframe\">\n",
       "  <thead>\n",
       "    <tr style=\"text-align: right;\">\n",
       "      <th></th>\n",
       "      <th>1 tBodyAcc-mean()-X</th>\n",
       "      <th>2 tBodyAcc-mean()-Y</th>\n",
       "      <th>3 tBodyAcc-mean()-Z</th>\n",
       "      <th>4 tBodyAcc-std()-X</th>\n",
       "      <th>5 tBodyAcc-std()-Y</th>\n",
       "      <th>6 tBodyAcc-std()-Z</th>\n",
       "      <th>7 tBodyAcc-mad()-X</th>\n",
       "      <th>8 tBodyAcc-mad()-Y</th>\n",
       "      <th>9 tBodyAcc-mad()-Z</th>\n",
       "      <th>10 tBodyAcc-max()-X</th>\n",
       "      <th>...</th>\n",
       "      <th>552 fBodyBodyGyroJerkMag-meanFreq()</th>\n",
       "      <th>553 fBodyBodyGyroJerkMag-skewness()</th>\n",
       "      <th>554 fBodyBodyGyroJerkMag-kurtosis()</th>\n",
       "      <th>555 angle(tBodyAccMean,gravity)</th>\n",
       "      <th>556 angle(tBodyAccJerkMean),gravityMean)</th>\n",
       "      <th>557 angle(tBodyGyroMean,gravityMean)</th>\n",
       "      <th>558 angle(tBodyGyroJerkMean,gravityMean)</th>\n",
       "      <th>559 angle(X,gravityMean)</th>\n",
       "      <th>560 angle(Y,gravityMean)</th>\n",
       "      <th>561 angle(Z,gravityMean)</th>\n",
       "    </tr>\n",
       "  </thead>\n",
       "  <tbody>\n",
       "    <tr>\n",
       "      <th>0</th>\n",
       "      <td>0.200628</td>\n",
       "      <td>-0.063678</td>\n",
       "      <td>-0.419600</td>\n",
       "      <td>-0.868755</td>\n",
       "      <td>-0.939377</td>\n",
       "      <td>-0.737479</td>\n",
       "      <td>-0.859758</td>\n",
       "      <td>-0.938955</td>\n",
       "      <td>-0.766385</td>\n",
       "      <td>-0.855978</td>\n",
       "      <td>...</td>\n",
       "      <td>-0.795305</td>\n",
       "      <td>0.025958</td>\n",
       "      <td>-0.276380</td>\n",
       "      <td>-0.360579</td>\n",
       "      <td>0.062935</td>\n",
       "      <td>-0.778374</td>\n",
       "      <td>-0.026079</td>\n",
       "      <td>-0.687172</td>\n",
       "      <td>0.407918</td>\n",
       "      <td>-0.007567</td>\n",
       "    </tr>\n",
       "    <tr>\n",
       "      <th>1</th>\n",
       "      <td>0.055944</td>\n",
       "      <td>0.031484</td>\n",
       "      <td>-0.253891</td>\n",
       "      <td>-0.875366</td>\n",
       "      <td>-0.923839</td>\n",
       "      <td>-0.849247</td>\n",
       "      <td>-0.868472</td>\n",
       "      <td>-0.921936</td>\n",
       "      <td>-0.848870</td>\n",
       "      <td>-0.871300</td>\n",
       "      <td>...</td>\n",
       "      <td>0.130605</td>\n",
       "      <td>-0.897296</td>\n",
       "      <td>-0.767938</td>\n",
       "      <td>0.133002</td>\n",
       "      <td>-0.021460</td>\n",
       "      <td>-1.218722</td>\n",
       "      <td>1.484369</td>\n",
       "      <td>-0.694091</td>\n",
       "      <td>0.409089</td>\n",
       "      <td>0.007875</td>\n",
       "    </tr>\n",
       "    <tr>\n",
       "      <th>2</th>\n",
       "      <td>0.073510</td>\n",
       "      <td>-0.043414</td>\n",
       "      <td>-0.076289</td>\n",
       "      <td>-0.868980</td>\n",
       "      <td>-0.907698</td>\n",
       "      <td>-0.893724</td>\n",
       "      <td>-0.863078</td>\n",
       "      <td>-0.898793</td>\n",
       "      <td>-0.896640</td>\n",
       "      <td>-0.863264</td>\n",
       "      <td>...</td>\n",
       "      <td>1.152257</td>\n",
       "      <td>-0.260860</td>\n",
       "      <td>-0.438286</td>\n",
       "      <td>-0.377815</td>\n",
       "      <td>0.391949</td>\n",
       "      <td>0.151197</td>\n",
       "      <td>1.704085</td>\n",
       "      <td>-0.702191</td>\n",
       "      <td>0.410260</td>\n",
       "      <td>0.026501</td>\n",
       "    </tr>\n",
       "    <tr>\n",
       "      <th>3</th>\n",
       "      <td>0.066691</td>\n",
       "      <td>-0.208407</td>\n",
       "      <td>-0.249695</td>\n",
       "      <td>-0.870566</td>\n",
       "      <td>-0.939959</td>\n",
       "      <td>-0.921743</td>\n",
       "      <td>-0.864445</td>\n",
       "      <td>-0.938060</td>\n",
       "      <td>-0.925216</td>\n",
       "      <td>-0.863264</td>\n",
       "      <td>...</td>\n",
       "      <td>1.112694</td>\n",
       "      <td>0.591005</td>\n",
       "      <td>0.463123</td>\n",
       "      <td>-0.135016</td>\n",
       "      <td>-0.033635</td>\n",
       "      <td>1.037781</td>\n",
       "      <td>-1.002951</td>\n",
       "      <td>-0.701636</td>\n",
       "      <td>0.414622</td>\n",
       "      <td>0.031712</td>\n",
       "    </tr>\n",
       "    <tr>\n",
       "      <th>4</th>\n",
       "      <td>0.030467</td>\n",
       "      <td>0.027585</td>\n",
       "      <td>-0.109840</td>\n",
       "      <td>-0.875128</td>\n",
       "      <td>-0.934815</td>\n",
       "      <td>-0.921281</td>\n",
       "      <td>-0.867325</td>\n",
       "      <td>-0.931726</td>\n",
       "      <td>-0.927965</td>\n",
       "      <td>-0.870201</td>\n",
       "      <td>...</td>\n",
       "      <td>-0.149567</td>\n",
       "      <td>-0.138505</td>\n",
       "      <td>-0.240296</td>\n",
       "      <td>0.340383</td>\n",
       "      <td>0.268468</td>\n",
       "      <td>1.125841</td>\n",
       "      <td>-1.276196</td>\n",
       "      <td>-0.700104</td>\n",
       "      <td>0.425434</td>\n",
       "      <td>0.045222</td>\n",
       "    </tr>\n",
       "  </tbody>\n",
       "</table>\n",
       "<p>5 rows × 561 columns</p>\n",
       "</div>"
      ],
      "text/plain": [
       "   1 tBodyAcc-mean()-X  2 tBodyAcc-mean()-Y  3 tBodyAcc-mean()-Z  \\\n",
       "0             0.200628            -0.063678            -0.419600   \n",
       "1             0.055944             0.031484            -0.253891   \n",
       "2             0.073510            -0.043414            -0.076289   \n",
       "3             0.066691            -0.208407            -0.249695   \n",
       "4             0.030467             0.027585            -0.109840   \n",
       "\n",
       "   4 tBodyAcc-std()-X  5 tBodyAcc-std()-Y  6 tBodyAcc-std()-Z  \\\n",
       "0           -0.868755           -0.939377           -0.737479   \n",
       "1           -0.875366           -0.923839           -0.849247   \n",
       "2           -0.868980           -0.907698           -0.893724   \n",
       "3           -0.870566           -0.939959           -0.921743   \n",
       "4           -0.875128           -0.934815           -0.921281   \n",
       "\n",
       "   7 tBodyAcc-mad()-X  8 tBodyAcc-mad()-Y  9 tBodyAcc-mad()-Z  \\\n",
       "0           -0.859758           -0.938955           -0.766385   \n",
       "1           -0.868472           -0.921936           -0.848870   \n",
       "2           -0.863078           -0.898793           -0.896640   \n",
       "3           -0.864445           -0.938060           -0.925216   \n",
       "4           -0.867325           -0.931726           -0.927965   \n",
       "\n",
       "   10 tBodyAcc-max()-X  ...  552 fBodyBodyGyroJerkMag-meanFreq()  \\\n",
       "0            -0.855978  ...                            -0.795305   \n",
       "1            -0.871300  ...                             0.130605   \n",
       "2            -0.863264  ...                             1.152257   \n",
       "3            -0.863264  ...                             1.112694   \n",
       "4            -0.870201  ...                            -0.149567   \n",
       "\n",
       "   553 fBodyBodyGyroJerkMag-skewness()  554 fBodyBodyGyroJerkMag-kurtosis()  \\\n",
       "0                             0.025958                            -0.276380   \n",
       "1                            -0.897296                            -0.767938   \n",
       "2                            -0.260860                            -0.438286   \n",
       "3                             0.591005                             0.463123   \n",
       "4                            -0.138505                            -0.240296   \n",
       "\n",
       "   555 angle(tBodyAccMean,gravity)  556 angle(tBodyAccJerkMean),gravityMean)  \\\n",
       "0                        -0.360579                                  0.062935   \n",
       "1                         0.133002                                 -0.021460   \n",
       "2                        -0.377815                                  0.391949   \n",
       "3                        -0.135016                                 -0.033635   \n",
       "4                         0.340383                                  0.268468   \n",
       "\n",
       "   557 angle(tBodyGyroMean,gravityMean)  \\\n",
       "0                             -0.778374   \n",
       "1                             -1.218722   \n",
       "2                              0.151197   \n",
       "3                              1.037781   \n",
       "4                              1.125841   \n",
       "\n",
       "   558 angle(tBodyGyroJerkMean,gravityMean)  559 angle(X,gravityMean)  \\\n",
       "0                                 -0.026079                 -0.687172   \n",
       "1                                  1.484369                 -0.694091   \n",
       "2                                  1.704085                 -0.702191   \n",
       "3                                 -1.002951                 -0.701636   \n",
       "4                                 -1.276196                 -0.700104   \n",
       "\n",
       "   560 angle(Y,gravityMean)  561 angle(Z,gravityMean)  \n",
       "0                  0.407918                 -0.007567  \n",
       "1                  0.409089                  0.007875  \n",
       "2                  0.410260                  0.026501  \n",
       "3                  0.414622                  0.031712  \n",
       "4                  0.425434                  0.045222  \n",
       "\n",
       "[5 rows x 561 columns]"
      ]
     },
     "execution_count": 8,
     "metadata": {},
     "output_type": "execute_result"
    }
   ],
   "source": [
    "%%time\n",
    "\n",
    "def padroniza(s):\n",
    "    if s.std() > 0:\n",
    "        s = (s - s.mean())/s.std()\n",
    "    return s\n",
    "\n",
    "X_train_pad = pd.DataFrame(X_train).apply(padroniza, axis=0)\n",
    "X_test_pad = pd.DataFrame(X_test).apply(padroniza, axis=0)\n",
    "X_train_pad.head()"
   ]
  },
  {
   "cell_type": "markdown",
   "metadata": {},
   "source": [
    "## Árvore com PCA\n",
    "\n",
    "Faça duas uma árvore de decisão com 10 componentes principais - uma com base em dados padronizados e outra sem padronizar. Utilize o ```ccp_alpha=0.001```.\n",
    "\n",
    "Compare a acurácia na base de treino e teste."
   ]
  },
  {
   "cell_type": "markdown",
   "metadata": {},
   "source": [
    "##### Função para avaliação da acurácia das árvores treinadas:"
   ]
  },
  {
   "cell_type": "code",
   "execution_count": 7,
   "metadata": {},
   "outputs": [],
   "source": [
    "def avalia (model: pd.DataFrame, conjunto_X: list, conjunto_y:list, nomes=['treino', 'teste'], exibir = True):\n",
    "    resultados = {}\n",
    "    for nome, X, y in zip(nomes, conjunto_X, conjunto_y):\n",
    "        scores = model.score(X, y)\n",
    "        resultados[nome]= scores\n",
    "        if exibir:\n",
    "            print(f'Acurácia na base de {nome}: {scores*100:.1f}' )\n",
    "    return resultados"
   ]
  },
  {
   "cell_type": "markdown",
   "metadata": {},
   "source": [
    "##### Seleção da 10 componentes principais na base padronizada:"
   ]
  },
  {
   "cell_type": "code",
   "execution_count": 9,
   "metadata": {},
   "outputs": [
    {
     "name": "stdout",
     "output_type": "stream",
     "text": [
      "CPU times: total: 891 ms\n",
      "Wall time: 1.27 s\n"
     ]
    },
    {
     "data": {
      "application/vnd.microsoft.datawrangler.viewer.v0+json": {
       "columns": [
        {
         "name": "index",
         "rawType": "int64",
         "type": "integer"
        },
        {
         "name": "cp1",
         "rawType": "float64",
         "type": "float"
        },
        {
         "name": "cp2",
         "rawType": "float64",
         "type": "float"
        },
        {
         "name": "cp3",
         "rawType": "float64",
         "type": "float"
        },
        {
         "name": "cp4",
         "rawType": "float64",
         "type": "float"
        },
        {
         "name": "cp5",
         "rawType": "float64",
         "type": "float"
        },
        {
         "name": "cp6",
         "rawType": "float64",
         "type": "float"
        },
        {
         "name": "cp7",
         "rawType": "float64",
         "type": "float"
        },
        {
         "name": "cp8",
         "rawType": "float64",
         "type": "float"
        },
        {
         "name": "cp9",
         "rawType": "float64",
         "type": "float"
        },
        {
         "name": "cp10",
         "rawType": "float64",
         "type": "float"
        }
       ],
       "conversionMethod": "pd.DataFrame",
       "ref": "a0293086-a9f2-4c73-9a51-818cf5d725aa",
       "rows": [
        [
         "0",
         "-5.056926343361916",
         "3.2484973844839335",
         "-0.7053977140199327",
         "7.114440238861599",
         "5.869269976392017",
         "1.2350462840405778",
         "1.9701149655113868",
         "2.6467222261452026",
         "-4.351006075100714",
         "-0.9169549132312417"
        ],
        [
         "1",
         "-4.622151326013484",
         "3.3429214469135524",
         "-2.0556197134318643",
         "4.669839503933197",
         "2.377595780107339",
         "2.382478118319",
         "-1.0243495029151197",
         "0.011686397114532898",
         "-2.1117541978748964",
         "-1.8899067256540598"
        ],
        [
         "2",
         "-4.4642749409432625",
         "4.488619075145495",
         "-2.702197041049187",
         "4.114478416366363",
         "1.2903690226667996",
         "1.403118398237506",
         "0.11325739605287732",
         "1.7694226893643836",
         "-0.886643161511587",
         "-0.9927407513126418"
        ],
        [
         "3",
         "-4.845873530455",
         "6.23950721427204",
         "-2.2555821893607297",
         "3.1992165333098965",
         "2.3642890073335554",
         "3.200692603111766",
         "-0.20001448295644772",
         "0.4324661327172363",
         "-0.6326964609209221",
         "0.47875095579130544"
        ],
        [
         "4",
         "-5.0627039490771715",
         "7.0560444535215385",
         "-2.503758106121272",
         "3.096679073873886",
         "1.5695198901904677",
         "2.3291936744863704",
         "-0.5256060018030893",
         "1.5271881748770384",
         "-0.3107582588284767",
         "0.575354348652251"
        ]
       ],
       "shape": {
        "columns": 10,
        "rows": 5
       }
      },
      "text/html": [
       "<div>\n",
       "<style scoped>\n",
       "    .dataframe tbody tr th:only-of-type {\n",
       "        vertical-align: middle;\n",
       "    }\n",
       "\n",
       "    .dataframe tbody tr th {\n",
       "        vertical-align: top;\n",
       "    }\n",
       "\n",
       "    .dataframe thead th {\n",
       "        text-align: right;\n",
       "    }\n",
       "</style>\n",
       "<table border=\"1\" class=\"dataframe\">\n",
       "  <thead>\n",
       "    <tr style=\"text-align: right;\">\n",
       "      <th></th>\n",
       "      <th>cp1</th>\n",
       "      <th>cp2</th>\n",
       "      <th>cp3</th>\n",
       "      <th>cp4</th>\n",
       "      <th>cp5</th>\n",
       "      <th>cp6</th>\n",
       "      <th>cp7</th>\n",
       "      <th>cp8</th>\n",
       "      <th>cp9</th>\n",
       "      <th>cp10</th>\n",
       "    </tr>\n",
       "  </thead>\n",
       "  <tbody>\n",
       "    <tr>\n",
       "      <th>0</th>\n",
       "      <td>-5.056926</td>\n",
       "      <td>3.248497</td>\n",
       "      <td>-0.705398</td>\n",
       "      <td>7.114440</td>\n",
       "      <td>5.869270</td>\n",
       "      <td>1.235046</td>\n",
       "      <td>1.970115</td>\n",
       "      <td>2.646722</td>\n",
       "      <td>-4.351006</td>\n",
       "      <td>-0.916955</td>\n",
       "    </tr>\n",
       "    <tr>\n",
       "      <th>1</th>\n",
       "      <td>-4.622151</td>\n",
       "      <td>3.342921</td>\n",
       "      <td>-2.055620</td>\n",
       "      <td>4.669840</td>\n",
       "      <td>2.377596</td>\n",
       "      <td>2.382478</td>\n",
       "      <td>-1.024350</td>\n",
       "      <td>0.011686</td>\n",
       "      <td>-2.111754</td>\n",
       "      <td>-1.889907</td>\n",
       "    </tr>\n",
       "    <tr>\n",
       "      <th>2</th>\n",
       "      <td>-4.464275</td>\n",
       "      <td>4.488619</td>\n",
       "      <td>-2.702197</td>\n",
       "      <td>4.114478</td>\n",
       "      <td>1.290369</td>\n",
       "      <td>1.403118</td>\n",
       "      <td>0.113257</td>\n",
       "      <td>1.769423</td>\n",
       "      <td>-0.886643</td>\n",
       "      <td>-0.992741</td>\n",
       "    </tr>\n",
       "    <tr>\n",
       "      <th>3</th>\n",
       "      <td>-4.845874</td>\n",
       "      <td>6.239507</td>\n",
       "      <td>-2.255582</td>\n",
       "      <td>3.199217</td>\n",
       "      <td>2.364289</td>\n",
       "      <td>3.200693</td>\n",
       "      <td>-0.200014</td>\n",
       "      <td>0.432466</td>\n",
       "      <td>-0.632696</td>\n",
       "      <td>0.478751</td>\n",
       "    </tr>\n",
       "    <tr>\n",
       "      <th>4</th>\n",
       "      <td>-5.062704</td>\n",
       "      <td>7.056044</td>\n",
       "      <td>-2.503758</td>\n",
       "      <td>3.096679</td>\n",
       "      <td>1.569520</td>\n",
       "      <td>2.329194</td>\n",
       "      <td>-0.525606</td>\n",
       "      <td>1.527188</td>\n",
       "      <td>-0.310758</td>\n",
       "      <td>0.575354</td>\n",
       "    </tr>\n",
       "  </tbody>\n",
       "</table>\n",
       "</div>"
      ],
      "text/plain": [
       "        cp1       cp2       cp3       cp4       cp5       cp6       cp7  \\\n",
       "0 -5.056926  3.248497 -0.705398  7.114440  5.869270  1.235046  1.970115   \n",
       "1 -4.622151  3.342921 -2.055620  4.669840  2.377596  2.382478 -1.024350   \n",
       "2 -4.464275  4.488619 -2.702197  4.114478  1.290369  1.403118  0.113257   \n",
       "3 -4.845874  6.239507 -2.255582  3.199217  2.364289  3.200693 -0.200014   \n",
       "4 -5.062704  7.056044 -2.503758  3.096679  1.569520  2.329194 -0.525606   \n",
       "\n",
       "        cp8       cp9      cp10  \n",
       "0  2.646722 -4.351006 -0.916955  \n",
       "1  0.011686 -2.111754 -1.889907  \n",
       "2  1.769423 -0.886643 -0.992741  \n",
       "3  0.432466 -0.632696  0.478751  \n",
       "4  1.527188 -0.310758  0.575354  "
      ]
     },
     "execution_count": 9,
     "metadata": {},
     "output_type": "execute_result"
    }
   ],
   "source": [
    "%%time\n",
    "\n",
    "n=10\n",
    "\n",
    "prcomp_pad = PCA().fit(X_train_pad)\n",
    "\n",
    "pc_treino_pad = prcomp.transform(X_train_pad)\n",
    "pc_teste_pad  = prcomp.transform(X_test_pad)\n",
    "\n",
    "colunas = ['cp'+str(x+1) for x in list(range(n))]\n",
    "\n",
    "pc_train_pad = pd.DataFrame(pc_treino_pad[:,:n], columns = colunas)\n",
    "pc_test_pad  = pd.DataFrame(pc_teste_pad[:,:n], columns = colunas)\n",
    "\n",
    "pc_train_pad.head()"
   ]
  },
  {
   "cell_type": "markdown",
   "metadata": {},
   "source": [
    "##### Treinamento e avaliação da acurácia na base padronizada:"
   ]
  },
  {
   "cell_type": "code",
   "execution_count": 23,
   "metadata": {},
   "outputs": [
    {
     "name": "stdout",
     "output_type": "stream",
     "text": [
      "Acurácia na base de treino: 89.2\n",
      "Acurácia na base de teste: 83.2\n"
     ]
    }
   ],
   "source": [
    "clf_pad = DecisionTreeClassifier(ccp_alpha=0.001, random_state=23).fit(pc_train_pad, y_train)\n",
    "\n",
    "resultado_pad = avalia(clf_pad,[pc_train_pad, pc_test_pad], [y_train, y_test])"
   ]
  },
  {
   "cell_type": "markdown",
   "metadata": {},
   "source": [
    "##### Seleção da 10 componentes principais na base original:"
   ]
  },
  {
   "cell_type": "code",
   "execution_count": 13,
   "metadata": {},
   "outputs": [
    {
     "name": "stdout",
     "output_type": "stream",
     "text": [
      "CPU times: total: 1.11 s\n",
      "Wall time: 1.21 s\n"
     ]
    },
    {
     "data": {
      "application/vnd.microsoft.datawrangler.viewer.v0+json": {
       "columns": [
        {
         "name": "index",
         "rawType": "int64",
         "type": "integer"
        },
        {
         "name": "cp1",
         "rawType": "float64",
         "type": "float"
        },
        {
         "name": "cp2",
         "rawType": "float64",
         "type": "float"
        },
        {
         "name": "cp3",
         "rawType": "float64",
         "type": "float"
        },
        {
         "name": "cp4",
         "rawType": "float64",
         "type": "float"
        },
        {
         "name": "cp5",
         "rawType": "float64",
         "type": "float"
        },
        {
         "name": "cp6",
         "rawType": "float64",
         "type": "float"
        },
        {
         "name": "cp7",
         "rawType": "float64",
         "type": "float"
        },
        {
         "name": "cp8",
         "rawType": "float64",
         "type": "float"
        },
        {
         "name": "cp9",
         "rawType": "float64",
         "type": "float"
        },
        {
         "name": "cp10",
         "rawType": "float64",
         "type": "float"
        }
       ],
       "conversionMethod": "pd.DataFrame",
       "ref": "c0784faf-812d-4301-bbc3-db85286a1105",
       "rows": [
        [
         "0",
         "-5.520280297903345",
         "-0.2902775167234987",
         "-1.5299285533100304",
         "1.333241761249966",
         "1.4250891269811448",
         "-0.19470767180158405",
         "0.5774538403461449",
         "0.6914901058372025",
         "-1.2228654778906498",
         "-0.3634143622430602"
        ],
        [
         "1",
         "-5.5353495415908744",
         "-0.0825302495180848",
         "-1.9248042770139286",
         "0.6712725984787677",
         "0.6712601813947939",
         "0.7351438978989207",
         "-0.6169082319788268",
         "-0.7717144226574459",
         "-0.6154955077203359",
         "-0.8955253856051975"
        ],
        [
         "2",
         "-5.474988009168837",
         "0.2873870512468015",
         "-2.1446416030242923",
         "0.5318064747998484",
         "0.2078244835076028",
         "-0.03777164666672195",
         "0.057628268160307944",
         "0.09391683054585392",
         "-0.06314707911980863",
         "-0.216897817578799"
        ],
        [
         "3",
         "-5.677231947989219",
         "0.8970311647858942",
         "-2.018219731561872",
         "0.1571251106480979",
         "0.7590851874313552",
         "1.079546593824883",
         "-0.26780521418706027",
         "-0.7313909705032929",
         "0.28129570175601026",
         "0.4662689347688554"
        ],
        [
         "4",
         "-5.748749187935742",
         "1.1629517896600947",
         "-2.139533228914759",
         "0.20782271648423328",
         "0.47308991460530414",
         "0.46303460814174163",
         "-0.1522273078640802",
         "-0.10750869191236442",
         "0.28981914925206337",
         "0.5392064107282412"
        ]
       ],
       "shape": {
        "columns": 10,
        "rows": 5
       }
      },
      "text/html": [
       "<div>\n",
       "<style scoped>\n",
       "    .dataframe tbody tr th:only-of-type {\n",
       "        vertical-align: middle;\n",
       "    }\n",
       "\n",
       "    .dataframe tbody tr th {\n",
       "        vertical-align: top;\n",
       "    }\n",
       "\n",
       "    .dataframe thead th {\n",
       "        text-align: right;\n",
       "    }\n",
       "</style>\n",
       "<table border=\"1\" class=\"dataframe\">\n",
       "  <thead>\n",
       "    <tr style=\"text-align: right;\">\n",
       "      <th></th>\n",
       "      <th>cp1</th>\n",
       "      <th>cp2</th>\n",
       "      <th>cp3</th>\n",
       "      <th>cp4</th>\n",
       "      <th>cp5</th>\n",
       "      <th>cp6</th>\n",
       "      <th>cp7</th>\n",
       "      <th>cp8</th>\n",
       "      <th>cp9</th>\n",
       "      <th>cp10</th>\n",
       "    </tr>\n",
       "  </thead>\n",
       "  <tbody>\n",
       "    <tr>\n",
       "      <th>0</th>\n",
       "      <td>-5.520280</td>\n",
       "      <td>-0.290278</td>\n",
       "      <td>-1.529929</td>\n",
       "      <td>1.333242</td>\n",
       "      <td>1.425089</td>\n",
       "      <td>-0.194708</td>\n",
       "      <td>0.577454</td>\n",
       "      <td>0.691490</td>\n",
       "      <td>-1.222865</td>\n",
       "      <td>-0.363414</td>\n",
       "    </tr>\n",
       "    <tr>\n",
       "      <th>1</th>\n",
       "      <td>-5.535350</td>\n",
       "      <td>-0.082530</td>\n",
       "      <td>-1.924804</td>\n",
       "      <td>0.671273</td>\n",
       "      <td>0.671260</td>\n",
       "      <td>0.735144</td>\n",
       "      <td>-0.616908</td>\n",
       "      <td>-0.771714</td>\n",
       "      <td>-0.615496</td>\n",
       "      <td>-0.895525</td>\n",
       "    </tr>\n",
       "    <tr>\n",
       "      <th>2</th>\n",
       "      <td>-5.474988</td>\n",
       "      <td>0.287387</td>\n",
       "      <td>-2.144642</td>\n",
       "      <td>0.531806</td>\n",
       "      <td>0.207824</td>\n",
       "      <td>-0.037772</td>\n",
       "      <td>0.057628</td>\n",
       "      <td>0.093917</td>\n",
       "      <td>-0.063147</td>\n",
       "      <td>-0.216898</td>\n",
       "    </tr>\n",
       "    <tr>\n",
       "      <th>3</th>\n",
       "      <td>-5.677232</td>\n",
       "      <td>0.897031</td>\n",
       "      <td>-2.018220</td>\n",
       "      <td>0.157125</td>\n",
       "      <td>0.759085</td>\n",
       "      <td>1.079547</td>\n",
       "      <td>-0.267805</td>\n",
       "      <td>-0.731391</td>\n",
       "      <td>0.281296</td>\n",
       "      <td>0.466269</td>\n",
       "    </tr>\n",
       "    <tr>\n",
       "      <th>4</th>\n",
       "      <td>-5.748749</td>\n",
       "      <td>1.162952</td>\n",
       "      <td>-2.139533</td>\n",
       "      <td>0.207823</td>\n",
       "      <td>0.473090</td>\n",
       "      <td>0.463035</td>\n",
       "      <td>-0.152227</td>\n",
       "      <td>-0.107509</td>\n",
       "      <td>0.289819</td>\n",
       "      <td>0.539206</td>\n",
       "    </tr>\n",
       "  </tbody>\n",
       "</table>\n",
       "</div>"
      ],
      "text/plain": [
       "        cp1       cp2       cp3       cp4       cp5       cp6       cp7  \\\n",
       "0 -5.520280 -0.290278 -1.529929  1.333242  1.425089 -0.194708  0.577454   \n",
       "1 -5.535350 -0.082530 -1.924804  0.671273  0.671260  0.735144 -0.616908   \n",
       "2 -5.474988  0.287387 -2.144642  0.531806  0.207824 -0.037772  0.057628   \n",
       "3 -5.677232  0.897031 -2.018220  0.157125  0.759085  1.079547 -0.267805   \n",
       "4 -5.748749  1.162952 -2.139533  0.207823  0.473090  0.463035 -0.152227   \n",
       "\n",
       "        cp8       cp9      cp10  \n",
       "0  0.691490 -1.222865 -0.363414  \n",
       "1 -0.771714 -0.615496 -0.895525  \n",
       "2  0.093917 -0.063147 -0.216898  \n",
       "3 -0.731391  0.281296  0.466269  \n",
       "4 -0.107509  0.289819  0.539206  "
      ]
     },
     "execution_count": 13,
     "metadata": {},
     "output_type": "execute_result"
    }
   ],
   "source": [
    "%%time\n",
    "\n",
    "n=10\n",
    "\n",
    "prcomp = PCA().fit(X_train)\n",
    "\n",
    "pc_treino = prcomp.transform(X_train)\n",
    "pc_teste  = prcomp.transform(X_test)\n",
    "\n",
    "colunas = ['cp'+str(x+1) for x in list(range(n))]\n",
    "\n",
    "pc_train = pd.DataFrame(pc_treino[:,:n], columns = colunas)\n",
    "pc_test  = pd.DataFrame(pc_teste[:,:n], columns = colunas)\n",
    "\n",
    "pc_train.head()"
   ]
  },
  {
   "cell_type": "markdown",
   "metadata": {},
   "source": [
    "##### Treinamento e avaliação da acurácia na base original:"
   ]
  },
  {
   "cell_type": "code",
   "execution_count": 24,
   "metadata": {},
   "outputs": [
    {
     "name": "stdout",
     "output_type": "stream",
     "text": [
      "Acurácia na base de treino: 89.3\n",
      "Acurácia na base de teste: 82.4\n"
     ]
    }
   ],
   "source": [
    "clf = DecisionTreeClassifier(ccp_alpha=0.001, random_state=23).fit(pc_train, y_train)\n",
    "\n",
    "resultado = avalia(clf,[pc_train, pc_test], [y_train, y_test])"
   ]
  },
  {
   "cell_type": "markdown",
   "metadata": {},
   "source": [
    "##### Comparativo do valor da acurácia entre as bases original e padronizada:"
   ]
  },
  {
   "cell_type": "code",
   "execution_count": 35,
   "metadata": {},
   "outputs": [
    {
     "data": {
      "application/vnd.microsoft.datawrangler.viewer.v0+json": {
       "columns": [
        {
         "name": "index",
         "rawType": "object",
         "type": "string"
        },
        {
         "name": "treino",
         "rawType": "float64",
         "type": "float"
        },
        {
         "name": "teste",
         "rawType": "float64",
         "type": "float"
        }
       ],
       "conversionMethod": "pd.DataFrame",
       "ref": "a884ffe7-ecc6-4612-a0df-97209f78c34a",
       "rows": [
        [
         "original",
         "0.8926822633297062",
         "0.8238887003732609"
        ],
        [
         "padronizado",
         "0.8918661588683352",
         "0.832032575500509"
        ]
       ],
       "shape": {
        "columns": 2,
        "rows": 2
       }
      },
      "text/html": [
       "<div>\n",
       "<style scoped>\n",
       "    .dataframe tbody tr th:only-of-type {\n",
       "        vertical-align: middle;\n",
       "    }\n",
       "\n",
       "    .dataframe tbody tr th {\n",
       "        vertical-align: top;\n",
       "    }\n",
       "\n",
       "    .dataframe thead th {\n",
       "        text-align: right;\n",
       "    }\n",
       "</style>\n",
       "<table border=\"1\" class=\"dataframe\">\n",
       "  <thead>\n",
       "    <tr style=\"text-align: right;\">\n",
       "      <th></th>\n",
       "      <th>treino</th>\n",
       "      <th>teste</th>\n",
       "    </tr>\n",
       "  </thead>\n",
       "  <tbody>\n",
       "    <tr>\n",
       "      <th>original</th>\n",
       "      <td>0.892682</td>\n",
       "      <td>0.823889</td>\n",
       "    </tr>\n",
       "    <tr>\n",
       "      <th>padronizado</th>\n",
       "      <td>0.891866</td>\n",
       "      <td>0.832033</td>\n",
       "    </tr>\n",
       "  </tbody>\n",
       "</table>\n",
       "</div>"
      ],
      "text/plain": [
       "               treino     teste\n",
       "original     0.892682  0.823889\n",
       "padronizado  0.891866  0.832033"
      ]
     },
     "execution_count": 35,
     "metadata": {},
     "output_type": "execute_result"
    }
   ],
   "source": [
    "resultado_acc = {}\n",
    "\n",
    "resultado_acc['original'] = resultado\n",
    "resultado_acc['padronizado'] = resultado_pad\n",
    "\n",
    "pd.DataFrame(resultado_acc).T"
   ]
  },
  {
   "cell_type": "markdown",
   "metadata": {},
   "source": [
    "O valor da acurácia na base original apresenta uma amplitude maior entre treino e teste do que a base padronizada. No qual, para a base padronizada em relação a base original o valor da acurácia diminui levemente no treino e aumenta levemente no teste."
   ]
  }
 ],
 "metadata": {
  "kernelspec": {
   "display_name": "base",
   "language": "python",
   "name": "python3"
  },
  "language_info": {
   "codemirror_mode": {
    "name": "ipython",
    "version": 3
   },
   "file_extension": ".py",
   "mimetype": "text/x-python",
   "name": "python",
   "nbconvert_exporter": "python",
   "pygments_lexer": "ipython3",
   "version": "3.11.7"
  },
  "toc": {
   "base_numbering": 1,
   "nav_menu": {},
   "number_sections": true,
   "sideBar": true,
   "skip_h1_title": true,
   "title_cell": "Índice",
   "title_sidebar": "Conteúdo",
   "toc_cell": false,
   "toc_position": {},
   "toc_section_display": true,
   "toc_window_display": false
  },
  "varInspector": {
   "cols": {
    "lenName": 16,
    "lenType": 16,
    "lenVar": 40
   },
   "kernels_config": {
    "python": {
     "delete_cmd_postfix": "",
     "delete_cmd_prefix": "del ",
     "library": "var_list.py",
     "varRefreshCmd": "print(var_dic_list())"
    },
    "r": {
     "delete_cmd_postfix": ") ",
     "delete_cmd_prefix": "rm(",
     "library": "var_list.r",
     "varRefreshCmd": "cat(var_dic_list()) "
    }
   },
   "types_to_exclude": [
    "module",
    "function",
    "builtin_function_or_method",
    "instance",
    "_Feature"
   ],
   "window_display": false
  }
 },
 "nbformat": 4,
 "nbformat_minor": 4
}
