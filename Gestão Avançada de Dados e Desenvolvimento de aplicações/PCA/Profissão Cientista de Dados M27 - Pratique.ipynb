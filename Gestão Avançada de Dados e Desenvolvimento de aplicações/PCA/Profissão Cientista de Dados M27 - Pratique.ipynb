{
 "cells": [
  {
   "cell_type": "markdown",
   "metadata": {},
   "source": [
    "![Cabec%CC%A7alho_notebook.png](cabecalho_notebook.png)"
   ]
  },
  {
   "cell_type": "markdown",
   "metadata": {},
   "source": [
    "# PCA - Tarefa 01: *HAR* com PCA\n",
    "\n",
    "Vamos trabalhar com a base da demonstração feita em aula, mas vamos explorar um pouco melhor como é o desempenho da árvore variando o número de componentes principais."
   ]
  },
  {
   "cell_type": "code",
   "execution_count": 8,
   "metadata": {},
   "outputs": [],
   "source": [
    "import pandas as pd\n",
    "\n",
    "from sklearn.tree import DecisionTreeClassifier\n",
    "\n",
    "from sklearn.decomposition import PCA\n",
    "from sklearn.metrics import accuracy_score\n",
    "from sklearn.model_selection import cross_val_score, train_test_split\n",
    "from sklearn.model_selection import GridSearchCV\n",
    "\n",
    "filename_features = \"Dados/UCI HAR Dataset/features.txt\"\n",
    "filename_labels = \"Dados/UCI HAR Dataset/activity_labels.txt\"\n",
    "\n",
    "filename_subtrain = \"Dados/UCI HAR Dataset/train/subject_train.txt\"\n",
    "filename_xtrain = \"Dados/UCI HAR Dataset/train/X_train.txt\"\n",
    "filename_ytrain = \"Dados/UCI HAR Dataset/train/y_train.txt\"\n",
    "\n",
    "filename_subtest = \"Dados/UCI HAR Dataset/test/subject_test.txt\"\n",
    "ffilename_xtest = \"Dados/UCI HAR Dataset/test/X_test.txt\"\n",
    "filename_ytest = \"Dados/UCI HAR Dataset/test/y_test.txt\"\n",
    "\n",
    "features = pd.read_csv(filename_features, header=None, names=['nome_var'], sep=\"#\")\n",
    "features = features.squeeze('columns')\n",
    "labels = pd.read_csv(filename_labels, delim_whitespace=True, header=None, names=['cod_label', 'label'])\n",
    "\n",
    "subject_train = pd.read_csv(filename_subtrain, header=None, names=['subject_id'])\n",
    "subject_train = subject_train.squeeze('columns')\n",
    "X_train = pd.read_csv(filename_xtrain, delim_whitespace=True, header=None, names=features.tolist())\n",
    "y_train = pd.read_csv(filename_ytrain, header=None, names=['cod_label'])\n",
    "\n",
    "subject_test = pd.read_csv(filename_subtest, header=None, names=['subject_id'])\n",
    "subject_test = subject_test.squeeze('columns')\n",
    "X_test = pd.read_csv(ffilename_xtest, delim_whitespace=True, header=None, names=features.tolist())\n",
    "y_test = pd.read_csv(filename_ytest, header=None, names=['cod_label'])"
   ]
  },
  {
   "cell_type": "code",
   "execution_count": 9,
   "metadata": {},
   "outputs": [],
   "source": [
    "X_train, X_valid, y_train, y_valid = train_test_split(X_train, y_train, random_state=23)"
   ]
  },
  {
   "cell_type": "markdown",
   "metadata": {},
   "source": [
    "## Árvore de decisão\n",
    "\n",
    "Rode uma árvore de decisão com todas as variáveis, utilizando o ```ccp_alpha=0.001```. Avalie a acurácia nas bases de treinamento e teste. Avalie o tempo de processamento."
   ]
  },
  {
   "cell_type": "code",
   "execution_count": 86,
   "metadata": {},
   "outputs": [
    {
     "name": "stdout",
     "output_type": "stream",
     "text": [
      "CPU times: total: 4.05 s\n",
      "Wall time: 5.58 s\n"
     ]
    }
   ],
   "source": [
    "%%time\n",
    "\n",
    "clf = DecisionTreeClassifier(ccp_alpha=0.001, random_state=23).fit(X_train, y_train)"
   ]
  },
  {
   "cell_type": "code",
   "execution_count": 79,
   "metadata": {},
   "outputs": [],
   "source": [
    "def avalia (model: pd.DataFrame, conjunto_X: list, conjunto_y:list, nomes=['treino', 'validação', 'teste'], exibir = True):\n",
    "    resultados = {}\n",
    "    for nome, X, y in zip(nomes, conjunto_X, conjunto_y):\n",
    "        scores = model.score(X, y)\n",
    "        resultados[nome]= scores\n",
    "        if exibir:\n",
    "            print(f'Acurácia na base de {nome}: {scores*100:.1f}' )\n",
    "    return resultados"
   ]
  },
  {
   "cell_type": "code",
   "execution_count": 87,
   "metadata": {},
   "outputs": [
    {
     "name": "stdout",
     "output_type": "stream",
     "text": [
      "Acurácia na base de treino: 97.8\n",
      "Acurácia na base de validação: 94.3\n",
      "Acurácia na base de teste: 86.6\n"
     ]
    }
   ],
   "source": [
    "resultado = avalia(clf,[X_train, X_valid, X_test], [y_train, y_valid, y_test])"
   ]
  },
  {
   "cell_type": "markdown",
   "metadata": {},
   "source": [
    "## Árvore com PCA\n",
    "\n",
    "Faça uma análise de componemtes principais das variáveis originais. Utilize apenas uma componente. Faça uma árvore de decisão com esta componente como variável explicativa.\n",
    "\n",
    "- Avalie a acurácia nas bases de treinamento e teste\n",
    "- Avalie o tempo de processamento"
   ]
  },
  {
   "cell_type": "code",
   "execution_count": 81,
   "metadata": {},
   "outputs": [
    {
     "name": "stdout",
     "output_type": "stream",
     "text": [
      "CPU times: total: 1.5 s\n",
      "Wall time: 1.2 s\n"
     ]
    },
    {
     "data": {
      "text/plain": [
       "(5514, 561)"
      ]
     },
     "execution_count": 81,
     "metadata": {},
     "output_type": "execute_result"
    }
   ],
   "source": [
    "%%time\n",
    "prcomp = PCA().fit(X_train)\n",
    "\n",
    "pc_treino = prcomp.transform(X_train)\n",
    "pc_valida = prcomp.transform(X_valid)\n",
    "pc_teste  = prcomp.transform(X_test)\n",
    "\n",
    "pc_treino.shape"
   ]
  },
  {
   "cell_type": "code",
   "execution_count": 82,
   "metadata": {},
   "outputs": [
    {
     "data": {
      "application/vnd.microsoft.datawrangler.viewer.v0+json": {
       "columns": [
        {
         "name": "index",
         "rawType": "int64",
         "type": "integer"
        },
        {
         "name": "cp1",
         "rawType": "float64",
         "type": "float"
        }
       ],
       "conversionMethod": "pd.DataFrame",
       "ref": "f2c8744b-b4d1-4232-8600-023a44d72ad6",
       "rows": [
        [
         "0",
         "-6.121258731457036"
        ],
        [
         "1",
         "-5.184451316087964"
        ],
        [
         "2",
         "-2.4738302644667427"
        ],
        [
         "3",
         "-5.826140701048594"
        ],
        [
         "4",
         "-5.799838213117985"
        ]
       ],
       "shape": {
        "columns": 1,
        "rows": 5
       }
      },
      "text/html": [
       "<div>\n",
       "<style scoped>\n",
       "    .dataframe tbody tr th:only-of-type {\n",
       "        vertical-align: middle;\n",
       "    }\n",
       "\n",
       "    .dataframe tbody tr th {\n",
       "        vertical-align: top;\n",
       "    }\n",
       "\n",
       "    .dataframe thead th {\n",
       "        text-align: right;\n",
       "    }\n",
       "</style>\n",
       "<table border=\"1\" class=\"dataframe\">\n",
       "  <thead>\n",
       "    <tr style=\"text-align: right;\">\n",
       "      <th></th>\n",
       "      <th>cp1</th>\n",
       "    </tr>\n",
       "  </thead>\n",
       "  <tbody>\n",
       "    <tr>\n",
       "      <th>0</th>\n",
       "      <td>-6.121259</td>\n",
       "    </tr>\n",
       "    <tr>\n",
       "      <th>1</th>\n",
       "      <td>-5.184451</td>\n",
       "    </tr>\n",
       "    <tr>\n",
       "      <th>2</th>\n",
       "      <td>-2.473830</td>\n",
       "    </tr>\n",
       "    <tr>\n",
       "      <th>3</th>\n",
       "      <td>-5.826141</td>\n",
       "    </tr>\n",
       "    <tr>\n",
       "      <th>4</th>\n",
       "      <td>-5.799838</td>\n",
       "    </tr>\n",
       "  </tbody>\n",
       "</table>\n",
       "</div>"
      ],
      "text/plain": [
       "        cp1\n",
       "0 -6.121259\n",
       "1 -5.184451\n",
       "2 -2.473830\n",
       "3 -5.826141\n",
       "4 -5.799838"
      ]
     },
     "execution_count": 82,
     "metadata": {},
     "output_type": "execute_result"
    }
   ],
   "source": [
    "n=1\n",
    "\n",
    "colunas = ['cp'+str(x+1) for x in list(range(n))]\n",
    "\n",
    "pc_train = pd.DataFrame(pc_treino[:,:n], columns = colunas)\n",
    "pc_valid = pd.DataFrame(pc_valida[:,:n], columns = colunas)\n",
    "pc_test  = pd.DataFrame(pc_teste[:,:n], columns = colunas)\n",
    "\n",
    "pc_train.head()"
   ]
  },
  {
   "cell_type": "code",
   "execution_count": 88,
   "metadata": {},
   "outputs": [
    {
     "name": "stdout",
     "output_type": "stream",
     "text": [
      "CPU times: total: 62.5 ms\n",
      "Wall time: 69.5 ms\n"
     ]
    }
   ],
   "source": [
    "%%time\n",
    "clf = DecisionTreeClassifier(ccp_alpha=0.001, random_state=23).fit(pc_train, y_train)"
   ]
  },
  {
   "cell_type": "code",
   "execution_count": 89,
   "metadata": {},
   "outputs": [
    {
     "name": "stdout",
     "output_type": "stream",
     "text": [
      "Acurácia na base de treino: 50.2\n",
      "Acurácia na base de validação: 49.1\n",
      "Acurácia na base de teste: 45.4\n"
     ]
    }
   ],
   "source": [
    "acuracia = avalia(clf, [pc_train, pc_valid, pc_test], [y_train, y_valid, y_test])"
   ]
  },
  {
   "cell_type": "markdown",
   "metadata": {},
   "source": [
    "A acurácia diminuiu em relação a primeira árvore treinada com todas as componentes."
   ]
  },
  {
   "cell_type": "markdown",
   "metadata": {},
   "source": [
    "## Testando o número de componentes\n",
    "\n",
    "Com base no código acima, teste a árvore de classificação com pelo menos as seguintes possibilidades de quantidades de componentes: ```[1, 2, 5, 10, 50]```. Avalie para cada uma delas:\n",
    "\n",
    "- Acurácia nas bases de treino e teste\n",
    "- Tempo de processamento\n"
   ]
  },
  {
   "cell_type": "code",
   "execution_count": 95,
   "metadata": {},
   "outputs": [
    {
     "name": "stdout",
     "output_type": "stream",
     "text": [
      "CPU times: total: 8.12 s\n",
      "Wall time: 5.26 s\n"
     ]
    }
   ],
   "source": [
    "%%time\n",
    "comp = [1, 2, 5, 10, 25, 50, 100, 150, 200]\n",
    "bases = {}\n",
    "\n",
    "for n in comp:\n",
    "    pca = PCA(n_components=n)\n",
    "    pca.fit(X_train)\n",
    "    \n",
    "    pca_treino = pca.transform(X_train)\n",
    "    pca_valida = pca.transform(X_valid)\n",
    "    pca_teste = pca.transform(X_test)\n",
    "    \n",
    "    colunas = [f'cp{i+1}' for i in range(n)]\n",
    "    \n",
    "    bases[f'pca_train_{n}'] = pd.DataFrame(pca_treino, columns=colunas)\n",
    "    bases[f'pca_valid_{n}'] = pd.DataFrame(pca_valida, columns=colunas)\n",
    "    bases[f'pca_test_{n}'] = pd.DataFrame(pca_teste, columns=colunas)"
   ]
  },
  {
   "cell_type": "markdown",
   "metadata": {},
   "source": [
    "Visualização das bases criadas:"
   ]
  },
  {
   "cell_type": "code",
   "execution_count": 96,
   "metadata": {},
   "outputs": [
    {
     "name": "stdout",
     "output_type": "stream",
     "text": [
      "\n",
      "pca_train_1:\n"
     ]
    },
    {
     "data": {
      "application/vnd.microsoft.datawrangler.viewer.v0+json": {
       "columns": [
        {
         "name": "index",
         "rawType": "int64",
         "type": "integer"
        },
        {
         "name": "cp1",
         "rawType": "float64",
         "type": "float"
        }
       ],
       "conversionMethod": "pd.DataFrame",
       "ref": "317a5d27-ff85-4095-a01a-2bf51699bf80",
       "rows": [
        [
         "0",
         "-6.121258731457048"
        ],
        [
         "1",
         "-5.184451316087951"
        ],
        [
         "2",
         "-2.4738302644667236"
        ],
        [
         "3",
         "-5.826140701048599"
        ],
        [
         "4",
         "-5.799838213117987"
        ]
       ],
       "shape": {
        "columns": 1,
        "rows": 5
       }
      },
      "text/html": [
       "<div>\n",
       "<style scoped>\n",
       "    .dataframe tbody tr th:only-of-type {\n",
       "        vertical-align: middle;\n",
       "    }\n",
       "\n",
       "    .dataframe tbody tr th {\n",
       "        vertical-align: top;\n",
       "    }\n",
       "\n",
       "    .dataframe thead th {\n",
       "        text-align: right;\n",
       "    }\n",
       "</style>\n",
       "<table border=\"1\" class=\"dataframe\">\n",
       "  <thead>\n",
       "    <tr style=\"text-align: right;\">\n",
       "      <th></th>\n",
       "      <th>cp1</th>\n",
       "    </tr>\n",
       "  </thead>\n",
       "  <tbody>\n",
       "    <tr>\n",
       "      <th>0</th>\n",
       "      <td>-6.121259</td>\n",
       "    </tr>\n",
       "    <tr>\n",
       "      <th>1</th>\n",
       "      <td>-5.184451</td>\n",
       "    </tr>\n",
       "    <tr>\n",
       "      <th>2</th>\n",
       "      <td>-2.473830</td>\n",
       "    </tr>\n",
       "    <tr>\n",
       "      <th>3</th>\n",
       "      <td>-5.826141</td>\n",
       "    </tr>\n",
       "    <tr>\n",
       "      <th>4</th>\n",
       "      <td>-5.799838</td>\n",
       "    </tr>\n",
       "  </tbody>\n",
       "</table>\n",
       "</div>"
      ],
      "text/plain": [
       "        cp1\n",
       "0 -6.121259\n",
       "1 -5.184451\n",
       "2 -2.473830\n",
       "3 -5.826141\n",
       "4 -5.799838"
      ]
     },
     "metadata": {},
     "output_type": "display_data"
    },
    {
     "name": "stdout",
     "output_type": "stream",
     "text": [
      "\n",
      "pca_train_2:\n"
     ]
    },
    {
     "data": {
      "application/vnd.microsoft.datawrangler.viewer.v0+json": {
       "columns": [
        {
         "name": "index",
         "rawType": "int64",
         "type": "integer"
        },
        {
         "name": "cp1",
         "rawType": "float64",
         "type": "float"
        },
        {
         "name": "cp2",
         "rawType": "float64",
         "type": "float"
        }
       ],
       "conversionMethod": "pd.DataFrame",
       "ref": "ed9445cd-75eb-43b8-836e-e5d15b25950e",
       "rows": [
        [
         "0",
         "-6.121258731457024",
         "2.296441299052128"
        ],
        [
         "1",
         "-5.184451316087965",
         "-0.7128398983577314"
        ],
        [
         "2",
         "-2.4738302644667556",
         "-2.994641045612571"
        ],
        [
         "3",
         "-5.826140701048592",
         "0.3089278637633523"
        ],
        [
         "4",
         "-5.799838213117976",
         "1.320340452669284"
        ]
       ],
       "shape": {
        "columns": 2,
        "rows": 5
       }
      },
      "text/html": [
       "<div>\n",
       "<style scoped>\n",
       "    .dataframe tbody tr th:only-of-type {\n",
       "        vertical-align: middle;\n",
       "    }\n",
       "\n",
       "    .dataframe tbody tr th {\n",
       "        vertical-align: top;\n",
       "    }\n",
       "\n",
       "    .dataframe thead th {\n",
       "        text-align: right;\n",
       "    }\n",
       "</style>\n",
       "<table border=\"1\" class=\"dataframe\">\n",
       "  <thead>\n",
       "    <tr style=\"text-align: right;\">\n",
       "      <th></th>\n",
       "      <th>cp1</th>\n",
       "      <th>cp2</th>\n",
       "    </tr>\n",
       "  </thead>\n",
       "  <tbody>\n",
       "    <tr>\n",
       "      <th>0</th>\n",
       "      <td>-6.121259</td>\n",
       "      <td>2.296441</td>\n",
       "    </tr>\n",
       "    <tr>\n",
       "      <th>1</th>\n",
       "      <td>-5.184451</td>\n",
       "      <td>-0.712840</td>\n",
       "    </tr>\n",
       "    <tr>\n",
       "      <th>2</th>\n",
       "      <td>-2.473830</td>\n",
       "      <td>-2.994641</td>\n",
       "    </tr>\n",
       "    <tr>\n",
       "      <th>3</th>\n",
       "      <td>-5.826141</td>\n",
       "      <td>0.308928</td>\n",
       "    </tr>\n",
       "    <tr>\n",
       "      <th>4</th>\n",
       "      <td>-5.799838</td>\n",
       "      <td>1.320340</td>\n",
       "    </tr>\n",
       "  </tbody>\n",
       "</table>\n",
       "</div>"
      ],
      "text/plain": [
       "        cp1       cp2\n",
       "0 -6.121259  2.296441\n",
       "1 -5.184451 -0.712840\n",
       "2 -2.473830 -2.994641\n",
       "3 -5.826141  0.308928\n",
       "4 -5.799838  1.320340"
      ]
     },
     "metadata": {},
     "output_type": "display_data"
    },
    {
     "name": "stdout",
     "output_type": "stream",
     "text": [
      "\n",
      "pca_train_5:\n"
     ]
    },
    {
     "data": {
      "application/vnd.microsoft.datawrangler.viewer.v0+json": {
       "columns": [
        {
         "name": "index",
         "rawType": "int64",
         "type": "integer"
        },
        {
         "name": "cp1",
         "rawType": "float64",
         "type": "float"
        },
        {
         "name": "cp2",
         "rawType": "float64",
         "type": "float"
        },
        {
         "name": "cp3",
         "rawType": "float64",
         "type": "float"
        },
        {
         "name": "cp4",
         "rawType": "float64",
         "type": "float"
        },
        {
         "name": "cp5",
         "rawType": "float64",
         "type": "float"
        }
       ],
       "conversionMethod": "pd.DataFrame",
       "ref": "766fc967-4b99-44ec-8f29-bc6732448131",
       "rows": [
        [
         "0",
         "-6.1212587314570035",
         "2.2964411685289505",
         "-2.1466275136505506",
         "0.5726416891557674",
         "0.10655712771745947"
        ],
        [
         "1",
         "-5.184451316087964",
         "-0.7128398623182491",
         "-1.388139961068136",
         "0.4201165207146588",
         "0.6254886098571547"
        ],
        [
         "2",
         "-2.473830264466781",
         "-2.9946407497827376",
         "3.3739970475680665",
         "0.3732150791790354",
         "1.8480034626916357"
        ],
        [
         "3",
         "-5.8261407010485975",
         "0.30892802635554906",
         "2.4728904840757022",
         "0.398033695926334",
         "0.38132298281935695"
        ],
        [
         "4",
         "-5.799838213117964",
         "1.3203404624145783",
         "-1.7329202730627373",
         "0.07592935882613348",
         "-0.43348229187034537"
        ]
       ],
       "shape": {
        "columns": 5,
        "rows": 5
       }
      },
      "text/html": [
       "<div>\n",
       "<style scoped>\n",
       "    .dataframe tbody tr th:only-of-type {\n",
       "        vertical-align: middle;\n",
       "    }\n",
       "\n",
       "    .dataframe tbody tr th {\n",
       "        vertical-align: top;\n",
       "    }\n",
       "\n",
       "    .dataframe thead th {\n",
       "        text-align: right;\n",
       "    }\n",
       "</style>\n",
       "<table border=\"1\" class=\"dataframe\">\n",
       "  <thead>\n",
       "    <tr style=\"text-align: right;\">\n",
       "      <th></th>\n",
       "      <th>cp1</th>\n",
       "      <th>cp2</th>\n",
       "      <th>cp3</th>\n",
       "      <th>cp4</th>\n",
       "      <th>cp5</th>\n",
       "    </tr>\n",
       "  </thead>\n",
       "  <tbody>\n",
       "    <tr>\n",
       "      <th>0</th>\n",
       "      <td>-6.121259</td>\n",
       "      <td>2.296441</td>\n",
       "      <td>-2.146628</td>\n",
       "      <td>0.572642</td>\n",
       "      <td>0.106557</td>\n",
       "    </tr>\n",
       "    <tr>\n",
       "      <th>1</th>\n",
       "      <td>-5.184451</td>\n",
       "      <td>-0.712840</td>\n",
       "      <td>-1.388140</td>\n",
       "      <td>0.420117</td>\n",
       "      <td>0.625489</td>\n",
       "    </tr>\n",
       "    <tr>\n",
       "      <th>2</th>\n",
       "      <td>-2.473830</td>\n",
       "      <td>-2.994641</td>\n",
       "      <td>3.373997</td>\n",
       "      <td>0.373215</td>\n",
       "      <td>1.848003</td>\n",
       "    </tr>\n",
       "    <tr>\n",
       "      <th>3</th>\n",
       "      <td>-5.826141</td>\n",
       "      <td>0.308928</td>\n",
       "      <td>2.472890</td>\n",
       "      <td>0.398034</td>\n",
       "      <td>0.381323</td>\n",
       "    </tr>\n",
       "    <tr>\n",
       "      <th>4</th>\n",
       "      <td>-5.799838</td>\n",
       "      <td>1.320340</td>\n",
       "      <td>-1.732920</td>\n",
       "      <td>0.075929</td>\n",
       "      <td>-0.433482</td>\n",
       "    </tr>\n",
       "  </tbody>\n",
       "</table>\n",
       "</div>"
      ],
      "text/plain": [
       "        cp1       cp2       cp3       cp4       cp5\n",
       "0 -6.121259  2.296441 -2.146628  0.572642  0.106557\n",
       "1 -5.184451 -0.712840 -1.388140  0.420117  0.625489\n",
       "2 -2.473830 -2.994641  3.373997  0.373215  1.848003\n",
       "3 -5.826141  0.308928  2.472890  0.398034  0.381323\n",
       "4 -5.799838  1.320340 -1.732920  0.075929 -0.433482"
      ]
     },
     "metadata": {},
     "output_type": "display_data"
    },
    {
     "name": "stdout",
     "output_type": "stream",
     "text": [
      "\n",
      "pca_train_10:\n"
     ]
    },
    {
     "data": {
      "application/vnd.microsoft.datawrangler.viewer.v0+json": {
       "columns": [
        {
         "name": "index",
         "rawType": "int64",
         "type": "integer"
        },
        {
         "name": "cp1",
         "rawType": "float64",
         "type": "float"
        },
        {
         "name": "cp2",
         "rawType": "float64",
         "type": "float"
        },
        {
         "name": "cp3",
         "rawType": "float64",
         "type": "float"
        },
        {
         "name": "cp4",
         "rawType": "float64",
         "type": "float"
        },
        {
         "name": "cp5",
         "rawType": "float64",
         "type": "float"
        },
        {
         "name": "cp6",
         "rawType": "float64",
         "type": "float"
        },
        {
         "name": "cp7",
         "rawType": "float64",
         "type": "float"
        },
        {
         "name": "cp8",
         "rawType": "float64",
         "type": "float"
        },
        {
         "name": "cp9",
         "rawType": "float64",
         "type": "float"
        },
        {
         "name": "cp10",
         "rawType": "float64",
         "type": "float"
        }
       ],
       "conversionMethod": "pd.DataFrame",
       "ref": "8286171a-a0f2-433c-992a-2a86439b0b5b",
       "rows": [
        [
         "0",
         "-6.121258731457039",
         "2.2964411684997343",
         "-2.1466275018750736",
         "0.5726427458475565",
         "0.10654715666348771",
         "-1.0082914751585892",
         "-0.2453723283566795",
         "-0.3221014521043155",
         "-0.5318096404529864",
         "0.07497634428220629"
        ],
        [
         "1",
         "-5.184451316087959",
         "-0.7128398608902216",
         "-1.3881399467859368",
         "0.42012282755261166",
         "0.6254554334599266",
         "0.6514736333686462",
         "-0.5019151837734628",
         "0.30339873076087787",
         "0.3833133132490767",
         "0.18050571756538375"
        ],
        [
         "2",
         "-2.4738302644667383",
         "-2.994640752671672",
         "3.3739970603536418",
         "0.37321791861759923",
         "1.847941714037868",
         "1.2658856209520857",
         "1.1692017328412767",
         "-0.5156265898080782",
         "-0.5441691787915323",
         "-0.8581297027383266"
        ],
        [
         "3",
         "-5.826140701048597",
         "0.3089280269842785",
         "2.472890467036173",
         "0.39801795803023143",
         "0.3813485103079195",
         "0.20401794365737835",
         "0.8422781088322667",
         "0.23161819962465405",
         "-0.7166343244093616",
         "0.29370601949308384"
        ],
        [
         "4",
         "-5.799838213117984",
         "1.3203404633518157",
         "-1.7329202804645314",
         "0.0759296527002297",
         "-0.43347763782184734",
         "-0.3580138224412683",
         "-0.6936380803658865",
         "0.5148004708762144",
         "0.4131247414067075",
         "0.24811785870696565"
        ]
       ],
       "shape": {
        "columns": 10,
        "rows": 5
       }
      },
      "text/html": [
       "<div>\n",
       "<style scoped>\n",
       "    .dataframe tbody tr th:only-of-type {\n",
       "        vertical-align: middle;\n",
       "    }\n",
       "\n",
       "    .dataframe tbody tr th {\n",
       "        vertical-align: top;\n",
       "    }\n",
       "\n",
       "    .dataframe thead th {\n",
       "        text-align: right;\n",
       "    }\n",
       "</style>\n",
       "<table border=\"1\" class=\"dataframe\">\n",
       "  <thead>\n",
       "    <tr style=\"text-align: right;\">\n",
       "      <th></th>\n",
       "      <th>cp1</th>\n",
       "      <th>cp2</th>\n",
       "      <th>cp3</th>\n",
       "      <th>cp4</th>\n",
       "      <th>cp5</th>\n",
       "      <th>cp6</th>\n",
       "      <th>cp7</th>\n",
       "      <th>cp8</th>\n",
       "      <th>cp9</th>\n",
       "      <th>cp10</th>\n",
       "    </tr>\n",
       "  </thead>\n",
       "  <tbody>\n",
       "    <tr>\n",
       "      <th>0</th>\n",
       "      <td>-6.121259</td>\n",
       "      <td>2.296441</td>\n",
       "      <td>-2.146628</td>\n",
       "      <td>0.572643</td>\n",
       "      <td>0.106547</td>\n",
       "      <td>-1.008291</td>\n",
       "      <td>-0.245372</td>\n",
       "      <td>-0.322101</td>\n",
       "      <td>-0.531810</td>\n",
       "      <td>0.074976</td>\n",
       "    </tr>\n",
       "    <tr>\n",
       "      <th>1</th>\n",
       "      <td>-5.184451</td>\n",
       "      <td>-0.712840</td>\n",
       "      <td>-1.388140</td>\n",
       "      <td>0.420123</td>\n",
       "      <td>0.625455</td>\n",
       "      <td>0.651474</td>\n",
       "      <td>-0.501915</td>\n",
       "      <td>0.303399</td>\n",
       "      <td>0.383313</td>\n",
       "      <td>0.180506</td>\n",
       "    </tr>\n",
       "    <tr>\n",
       "      <th>2</th>\n",
       "      <td>-2.473830</td>\n",
       "      <td>-2.994641</td>\n",
       "      <td>3.373997</td>\n",
       "      <td>0.373218</td>\n",
       "      <td>1.847942</td>\n",
       "      <td>1.265886</td>\n",
       "      <td>1.169202</td>\n",
       "      <td>-0.515627</td>\n",
       "      <td>-0.544169</td>\n",
       "      <td>-0.858130</td>\n",
       "    </tr>\n",
       "    <tr>\n",
       "      <th>3</th>\n",
       "      <td>-5.826141</td>\n",
       "      <td>0.308928</td>\n",
       "      <td>2.472890</td>\n",
       "      <td>0.398018</td>\n",
       "      <td>0.381349</td>\n",
       "      <td>0.204018</td>\n",
       "      <td>0.842278</td>\n",
       "      <td>0.231618</td>\n",
       "      <td>-0.716634</td>\n",
       "      <td>0.293706</td>\n",
       "    </tr>\n",
       "    <tr>\n",
       "      <th>4</th>\n",
       "      <td>-5.799838</td>\n",
       "      <td>1.320340</td>\n",
       "      <td>-1.732920</td>\n",
       "      <td>0.075930</td>\n",
       "      <td>-0.433478</td>\n",
       "      <td>-0.358014</td>\n",
       "      <td>-0.693638</td>\n",
       "      <td>0.514800</td>\n",
       "      <td>0.413125</td>\n",
       "      <td>0.248118</td>\n",
       "    </tr>\n",
       "  </tbody>\n",
       "</table>\n",
       "</div>"
      ],
      "text/plain": [
       "        cp1       cp2       cp3       cp4       cp5       cp6       cp7  \\\n",
       "0 -6.121259  2.296441 -2.146628  0.572643  0.106547 -1.008291 -0.245372   \n",
       "1 -5.184451 -0.712840 -1.388140  0.420123  0.625455  0.651474 -0.501915   \n",
       "2 -2.473830 -2.994641  3.373997  0.373218  1.847942  1.265886  1.169202   \n",
       "3 -5.826141  0.308928  2.472890  0.398018  0.381349  0.204018  0.842278   \n",
       "4 -5.799838  1.320340 -1.732920  0.075930 -0.433478 -0.358014 -0.693638   \n",
       "\n",
       "        cp8       cp9      cp10  \n",
       "0 -0.322101 -0.531810  0.074976  \n",
       "1  0.303399  0.383313  0.180506  \n",
       "2 -0.515627 -0.544169 -0.858130  \n",
       "3  0.231618 -0.716634  0.293706  \n",
       "4  0.514800  0.413125  0.248118  "
      ]
     },
     "metadata": {},
     "output_type": "display_data"
    },
    {
     "name": "stdout",
     "output_type": "stream",
     "text": [
      "\n",
      "pca_train_25:\n"
     ]
    },
    {
     "data": {
      "application/vnd.microsoft.datawrangler.viewer.v0+json": {
       "columns": [
        {
         "name": "index",
         "rawType": "int64",
         "type": "integer"
        },
        {
         "name": "cp1",
         "rawType": "float64",
         "type": "float"
        },
        {
         "name": "cp2",
         "rawType": "float64",
         "type": "float"
        },
        {
         "name": "cp3",
         "rawType": "float64",
         "type": "float"
        },
        {
         "name": "cp4",
         "rawType": "float64",
         "type": "float"
        },
        {
         "name": "cp5",
         "rawType": "float64",
         "type": "float"
        },
        {
         "name": "cp6",
         "rawType": "float64",
         "type": "float"
        },
        {
         "name": "cp7",
         "rawType": "float64",
         "type": "float"
        },
        {
         "name": "cp8",
         "rawType": "float64",
         "type": "float"
        },
        {
         "name": "cp9",
         "rawType": "float64",
         "type": "float"
        },
        {
         "name": "cp10",
         "rawType": "float64",
         "type": "float"
        },
        {
         "name": "cp11",
         "rawType": "float64",
         "type": "float"
        },
        {
         "name": "cp12",
         "rawType": "float64",
         "type": "float"
        },
        {
         "name": "cp13",
         "rawType": "float64",
         "type": "float"
        },
        {
         "name": "cp14",
         "rawType": "float64",
         "type": "float"
        },
        {
         "name": "cp15",
         "rawType": "float64",
         "type": "float"
        },
        {
         "name": "cp16",
         "rawType": "float64",
         "type": "float"
        },
        {
         "name": "cp17",
         "rawType": "float64",
         "type": "float"
        },
        {
         "name": "cp18",
         "rawType": "float64",
         "type": "float"
        },
        {
         "name": "cp19",
         "rawType": "float64",
         "type": "float"
        },
        {
         "name": "cp20",
         "rawType": "float64",
         "type": "float"
        },
        {
         "name": "cp21",
         "rawType": "float64",
         "type": "float"
        },
        {
         "name": "cp22",
         "rawType": "float64",
         "type": "float"
        },
        {
         "name": "cp23",
         "rawType": "float64",
         "type": "float"
        },
        {
         "name": "cp24",
         "rawType": "float64",
         "type": "float"
        },
        {
         "name": "cp25",
         "rawType": "float64",
         "type": "float"
        }
       ],
       "conversionMethod": "pd.DataFrame",
       "ref": "a74d5bbb-139b-47b6-85ac-81d9202ce392",
       "rows": [
        [
         "0",
         "-6.1212587314570275",
         "2.2964411690599547",
         "-2.146627500895432",
         "0.5726439869151516",
         "0.10655236401708992",
         "-1.0082762678464838",
         "-0.24533009500653774",
         "-0.32249314944201035",
         "-0.5321503958469007",
         "0.07374571407658961",
         "0.023775227572305102",
         "-0.762096455076336",
         "0.12962459149007471",
         "-0.035058535638721494",
         "0.18636956135713206",
         "-0.45276071917844607",
         "0.2700944934936719",
         "0.4324815021981123",
         "-0.2103964563179126",
         "-0.5339917655251357",
         "-0.16653748021930098",
         "-0.6226731882960039",
         "0.12052731473935974",
         "-0.16947143565220596",
         "-0.17521496454966617"
        ],
        [
         "1",
         "-5.184451316087964",
         "-0.7128398615863352",
         "-1.388139947010864",
         "0.4201218798278469",
         "0.6254496363328702",
         "0.6514482108824124",
         "-0.5019369240470095",
         "0.3036530285206841",
         "0.3835009374278885",
         "0.18130231811061287",
         "0.4199922746701114",
         "0.829863065919787",
         "-0.09636539222852733",
         "-0.3243216031394959",
         "0.4092553208730517",
         "-0.2928105655510849",
         "-0.37385044999526373",
         "-0.34215562510179187",
         "-0.09759851907712123",
         "0.9326767535595857",
         "0.008502742819554009",
         "0.39093336093388",
         "0.20411269174541058",
         "-0.21738175144720964",
         "0.3933445192910542"
        ],
        [
         "2",
         "-2.4738302644667476",
         "-2.9946407515505857",
         "3.37399707186961",
         "0.3732218296314848",
         "1.8479458727867955",
         "1.2658703108507194",
         "1.1693141961565172",
         "-0.5161780857401431",
         "-0.5446555650231392",
         "-0.861306092744273",
         "-1.1828225200003684",
         "-0.33862557543871724",
         "-1.5901826289625889",
         "0.9324095517015142",
         "-0.1520949321903209",
         "-0.2512550884257847",
         "-0.2890168448131318",
         "-0.17805013803085368",
         "0.051020393573084855",
         "-0.5001230443820623",
         "-0.6526995638765685",
         "1.022416590148019",
         "0.6854685176392163",
         "-0.11228460076325208",
         "-0.01987281778998029"
        ],
        [
         "3",
         "-5.8261407010485895",
         "0.30892802738665215",
         "2.4728904740930977",
         "0.39801950703648786",
         "0.38135130660474964",
         "0.20401165899390142",
         "0.8423625120164007",
         "0.23142087451485",
         "-0.7167226100433974",
         "0.29193425331139494",
         "-0.1247863709190778",
         "1.249745454105752",
         "0.6053268132085609",
         "0.4035631460155738",
         "-0.6769495323465093",
         "-0.6623340518862257",
         "0.9779650572127447",
         "-0.29913183483921824",
         "-0.06630250919824289",
         "-0.25137336026230767",
         "-0.3577783853894339",
         "0.553537624485926",
         "0.8058578916534299",
         "0.21642788242489758",
         "-0.05404557254733175"
        ],
        [
         "4",
         "-5.799838213117978",
         "1.3203404628167645",
         "-1.7329202852822987",
         "0.07592749059547117",
         "-0.43348065105431455",
         "-0.358009747308924",
         "-0.6936869745186622",
         "0.5151350556796217",
         "0.41358565485801124",
         "0.2501001207066231",
         "0.8928571570729705",
         "-0.062357916209728456",
         "-0.18352387946800616",
         "0.10192404867289306",
         "-0.16867657596675684",
         "0.6378608475760866",
         "0.2053773744428464",
         "-0.20014691788710465",
         "-0.10862533781492723",
         "0.3480865562028005",
         "-0.09928700802528492",
         "-0.4546270053538515",
         "-0.2234385769142893",
         "0.2531878338033651",
         "0.14583569404093522"
        ]
       ],
       "shape": {
        "columns": 25,
        "rows": 5
       }
      },
      "text/html": [
       "<div>\n",
       "<style scoped>\n",
       "    .dataframe tbody tr th:only-of-type {\n",
       "        vertical-align: middle;\n",
       "    }\n",
       "\n",
       "    .dataframe tbody tr th {\n",
       "        vertical-align: top;\n",
       "    }\n",
       "\n",
       "    .dataframe thead th {\n",
       "        text-align: right;\n",
       "    }\n",
       "</style>\n",
       "<table border=\"1\" class=\"dataframe\">\n",
       "  <thead>\n",
       "    <tr style=\"text-align: right;\">\n",
       "      <th></th>\n",
       "      <th>cp1</th>\n",
       "      <th>cp2</th>\n",
       "      <th>cp3</th>\n",
       "      <th>cp4</th>\n",
       "      <th>cp5</th>\n",
       "      <th>cp6</th>\n",
       "      <th>cp7</th>\n",
       "      <th>cp8</th>\n",
       "      <th>cp9</th>\n",
       "      <th>cp10</th>\n",
       "      <th>...</th>\n",
       "      <th>cp16</th>\n",
       "      <th>cp17</th>\n",
       "      <th>cp18</th>\n",
       "      <th>cp19</th>\n",
       "      <th>cp20</th>\n",
       "      <th>cp21</th>\n",
       "      <th>cp22</th>\n",
       "      <th>cp23</th>\n",
       "      <th>cp24</th>\n",
       "      <th>cp25</th>\n",
       "    </tr>\n",
       "  </thead>\n",
       "  <tbody>\n",
       "    <tr>\n",
       "      <th>0</th>\n",
       "      <td>-6.121259</td>\n",
       "      <td>2.296441</td>\n",
       "      <td>-2.146628</td>\n",
       "      <td>0.572644</td>\n",
       "      <td>0.106552</td>\n",
       "      <td>-1.008276</td>\n",
       "      <td>-0.245330</td>\n",
       "      <td>-0.322493</td>\n",
       "      <td>-0.532150</td>\n",
       "      <td>0.073746</td>\n",
       "      <td>...</td>\n",
       "      <td>-0.452761</td>\n",
       "      <td>0.270094</td>\n",
       "      <td>0.432482</td>\n",
       "      <td>-0.210396</td>\n",
       "      <td>-0.533992</td>\n",
       "      <td>-0.166537</td>\n",
       "      <td>-0.622673</td>\n",
       "      <td>0.120527</td>\n",
       "      <td>-0.169471</td>\n",
       "      <td>-0.175215</td>\n",
       "    </tr>\n",
       "    <tr>\n",
       "      <th>1</th>\n",
       "      <td>-5.184451</td>\n",
       "      <td>-0.712840</td>\n",
       "      <td>-1.388140</td>\n",
       "      <td>0.420122</td>\n",
       "      <td>0.625450</td>\n",
       "      <td>0.651448</td>\n",
       "      <td>-0.501937</td>\n",
       "      <td>0.303653</td>\n",
       "      <td>0.383501</td>\n",
       "      <td>0.181302</td>\n",
       "      <td>...</td>\n",
       "      <td>-0.292811</td>\n",
       "      <td>-0.373850</td>\n",
       "      <td>-0.342156</td>\n",
       "      <td>-0.097599</td>\n",
       "      <td>0.932677</td>\n",
       "      <td>0.008503</td>\n",
       "      <td>0.390933</td>\n",
       "      <td>0.204113</td>\n",
       "      <td>-0.217382</td>\n",
       "      <td>0.393345</td>\n",
       "    </tr>\n",
       "    <tr>\n",
       "      <th>2</th>\n",
       "      <td>-2.473830</td>\n",
       "      <td>-2.994641</td>\n",
       "      <td>3.373997</td>\n",
       "      <td>0.373222</td>\n",
       "      <td>1.847946</td>\n",
       "      <td>1.265870</td>\n",
       "      <td>1.169314</td>\n",
       "      <td>-0.516178</td>\n",
       "      <td>-0.544656</td>\n",
       "      <td>-0.861306</td>\n",
       "      <td>...</td>\n",
       "      <td>-0.251255</td>\n",
       "      <td>-0.289017</td>\n",
       "      <td>-0.178050</td>\n",
       "      <td>0.051020</td>\n",
       "      <td>-0.500123</td>\n",
       "      <td>-0.652700</td>\n",
       "      <td>1.022417</td>\n",
       "      <td>0.685469</td>\n",
       "      <td>-0.112285</td>\n",
       "      <td>-0.019873</td>\n",
       "    </tr>\n",
       "    <tr>\n",
       "      <th>3</th>\n",
       "      <td>-5.826141</td>\n",
       "      <td>0.308928</td>\n",
       "      <td>2.472890</td>\n",
       "      <td>0.398020</td>\n",
       "      <td>0.381351</td>\n",
       "      <td>0.204012</td>\n",
       "      <td>0.842363</td>\n",
       "      <td>0.231421</td>\n",
       "      <td>-0.716723</td>\n",
       "      <td>0.291934</td>\n",
       "      <td>...</td>\n",
       "      <td>-0.662334</td>\n",
       "      <td>0.977965</td>\n",
       "      <td>-0.299132</td>\n",
       "      <td>-0.066303</td>\n",
       "      <td>-0.251373</td>\n",
       "      <td>-0.357778</td>\n",
       "      <td>0.553538</td>\n",
       "      <td>0.805858</td>\n",
       "      <td>0.216428</td>\n",
       "      <td>-0.054046</td>\n",
       "    </tr>\n",
       "    <tr>\n",
       "      <th>4</th>\n",
       "      <td>-5.799838</td>\n",
       "      <td>1.320340</td>\n",
       "      <td>-1.732920</td>\n",
       "      <td>0.075927</td>\n",
       "      <td>-0.433481</td>\n",
       "      <td>-0.358010</td>\n",
       "      <td>-0.693687</td>\n",
       "      <td>0.515135</td>\n",
       "      <td>0.413586</td>\n",
       "      <td>0.250100</td>\n",
       "      <td>...</td>\n",
       "      <td>0.637861</td>\n",
       "      <td>0.205377</td>\n",
       "      <td>-0.200147</td>\n",
       "      <td>-0.108625</td>\n",
       "      <td>0.348087</td>\n",
       "      <td>-0.099287</td>\n",
       "      <td>-0.454627</td>\n",
       "      <td>-0.223439</td>\n",
       "      <td>0.253188</td>\n",
       "      <td>0.145836</td>\n",
       "    </tr>\n",
       "  </tbody>\n",
       "</table>\n",
       "<p>5 rows × 25 columns</p>\n",
       "</div>"
      ],
      "text/plain": [
       "        cp1       cp2       cp3       cp4       cp5       cp6       cp7  \\\n",
       "0 -6.121259  2.296441 -2.146628  0.572644  0.106552 -1.008276 -0.245330   \n",
       "1 -5.184451 -0.712840 -1.388140  0.420122  0.625450  0.651448 -0.501937   \n",
       "2 -2.473830 -2.994641  3.373997  0.373222  1.847946  1.265870  1.169314   \n",
       "3 -5.826141  0.308928  2.472890  0.398020  0.381351  0.204012  0.842363   \n",
       "4 -5.799838  1.320340 -1.732920  0.075927 -0.433481 -0.358010 -0.693687   \n",
       "\n",
       "        cp8       cp9      cp10  ...      cp16      cp17      cp18      cp19  \\\n",
       "0 -0.322493 -0.532150  0.073746  ... -0.452761  0.270094  0.432482 -0.210396   \n",
       "1  0.303653  0.383501  0.181302  ... -0.292811 -0.373850 -0.342156 -0.097599   \n",
       "2 -0.516178 -0.544656 -0.861306  ... -0.251255 -0.289017 -0.178050  0.051020   \n",
       "3  0.231421 -0.716723  0.291934  ... -0.662334  0.977965 -0.299132 -0.066303   \n",
       "4  0.515135  0.413586  0.250100  ...  0.637861  0.205377 -0.200147 -0.108625   \n",
       "\n",
       "       cp20      cp21      cp22      cp23      cp24      cp25  \n",
       "0 -0.533992 -0.166537 -0.622673  0.120527 -0.169471 -0.175215  \n",
       "1  0.932677  0.008503  0.390933  0.204113 -0.217382  0.393345  \n",
       "2 -0.500123 -0.652700  1.022417  0.685469 -0.112285 -0.019873  \n",
       "3 -0.251373 -0.357778  0.553538  0.805858  0.216428 -0.054046  \n",
       "4  0.348087 -0.099287 -0.454627 -0.223439  0.253188  0.145836  \n",
       "\n",
       "[5 rows x 25 columns]"
      ]
     },
     "metadata": {},
     "output_type": "display_data"
    },
    {
     "name": "stdout",
     "output_type": "stream",
     "text": [
      "\n",
      "pca_train_50:\n"
     ]
    },
    {
     "data": {
      "application/vnd.microsoft.datawrangler.viewer.v0+json": {
       "columns": [
        {
         "name": "index",
         "rawType": "int64",
         "type": "integer"
        },
        {
         "name": "cp1",
         "rawType": "float64",
         "type": "float"
        },
        {
         "name": "cp2",
         "rawType": "float64",
         "type": "float"
        },
        {
         "name": "cp3",
         "rawType": "float64",
         "type": "float"
        },
        {
         "name": "cp4",
         "rawType": "float64",
         "type": "float"
        },
        {
         "name": "cp5",
         "rawType": "float64",
         "type": "float"
        },
        {
         "name": "cp6",
         "rawType": "float64",
         "type": "float"
        },
        {
         "name": "cp7",
         "rawType": "float64",
         "type": "float"
        },
        {
         "name": "cp8",
         "rawType": "float64",
         "type": "float"
        },
        {
         "name": "cp9",
         "rawType": "float64",
         "type": "float"
        },
        {
         "name": "cp10",
         "rawType": "float64",
         "type": "float"
        },
        {
         "name": "cp11",
         "rawType": "float64",
         "type": "float"
        },
        {
         "name": "cp12",
         "rawType": "float64",
         "type": "float"
        },
        {
         "name": "cp13",
         "rawType": "float64",
         "type": "float"
        },
        {
         "name": "cp14",
         "rawType": "float64",
         "type": "float"
        },
        {
         "name": "cp15",
         "rawType": "float64",
         "type": "float"
        },
        {
         "name": "cp16",
         "rawType": "float64",
         "type": "float"
        },
        {
         "name": "cp17",
         "rawType": "float64",
         "type": "float"
        },
        {
         "name": "cp18",
         "rawType": "float64",
         "type": "float"
        },
        {
         "name": "cp19",
         "rawType": "float64",
         "type": "float"
        },
        {
         "name": "cp20",
         "rawType": "float64",
         "type": "float"
        },
        {
         "name": "cp21",
         "rawType": "float64",
         "type": "float"
        },
        {
         "name": "cp22",
         "rawType": "float64",
         "type": "float"
        },
        {
         "name": "cp23",
         "rawType": "float64",
         "type": "float"
        },
        {
         "name": "cp24",
         "rawType": "float64",
         "type": "float"
        },
        {
         "name": "cp25",
         "rawType": "float64",
         "type": "float"
        },
        {
         "name": "cp26",
         "rawType": "float64",
         "type": "float"
        },
        {
         "name": "cp27",
         "rawType": "float64",
         "type": "float"
        },
        {
         "name": "cp28",
         "rawType": "float64",
         "type": "float"
        },
        {
         "name": "cp29",
         "rawType": "float64",
         "type": "float"
        },
        {
         "name": "cp30",
         "rawType": "float64",
         "type": "float"
        },
        {
         "name": "cp31",
         "rawType": "float64",
         "type": "float"
        },
        {
         "name": "cp32",
         "rawType": "float64",
         "type": "float"
        },
        {
         "name": "cp33",
         "rawType": "float64",
         "type": "float"
        },
        {
         "name": "cp34",
         "rawType": "float64",
         "type": "float"
        },
        {
         "name": "cp35",
         "rawType": "float64",
         "type": "float"
        },
        {
         "name": "cp36",
         "rawType": "float64",
         "type": "float"
        },
        {
         "name": "cp37",
         "rawType": "float64",
         "type": "float"
        },
        {
         "name": "cp38",
         "rawType": "float64",
         "type": "float"
        },
        {
         "name": "cp39",
         "rawType": "float64",
         "type": "float"
        },
        {
         "name": "cp40",
         "rawType": "float64",
         "type": "float"
        },
        {
         "name": "cp41",
         "rawType": "float64",
         "type": "float"
        },
        {
         "name": "cp42",
         "rawType": "float64",
         "type": "float"
        },
        {
         "name": "cp43",
         "rawType": "float64",
         "type": "float"
        },
        {
         "name": "cp44",
         "rawType": "float64",
         "type": "float"
        },
        {
         "name": "cp45",
         "rawType": "float64",
         "type": "float"
        },
        {
         "name": "cp46",
         "rawType": "float64",
         "type": "float"
        },
        {
         "name": "cp47",
         "rawType": "float64",
         "type": "float"
        },
        {
         "name": "cp48",
         "rawType": "float64",
         "type": "float"
        },
        {
         "name": "cp49",
         "rawType": "float64",
         "type": "float"
        },
        {
         "name": "cp50",
         "rawType": "float64",
         "type": "float"
        }
       ],
       "conversionMethod": "pd.DataFrame",
       "ref": "cbb4be4c-87f2-4987-9ad0-fff0ecda437c",
       "rows": [
        [
         "0",
         "-6.121258731457049",
         "2.296441169066569",
         "-2.146627500895923",
         "0.5726439953659754",
         "0.10655245327233512",
         "-1.0082759082612456",
         "-0.24533035234432274",
         "-0.322491477845227",
         "-0.5321493387172281",
         "0.07374931254996109",
         "0.023786473744673964",
         "-0.7620309682247274",
         "0.12955814490128992",
         "-0.03498382924258481",
         "0.18675143133519634",
         "-0.45307716460631214",
         "0.26908518060080483",
         "0.4310781239642266",
         "-0.2118066904154713",
         "-0.5364973550631036",
         "-0.15812586898596623",
         "-0.6188246126199226",
         "0.10356105542057381",
         "-0.16326344386699354",
         "-0.20251340162368886",
         "-0.1298266914262779",
         "0.27017573794919025",
         "-0.03769729944655727",
         "-0.19893238724268267",
         "-0.010562958275487283",
         "-0.0065319333455871875",
         "-0.08257851199792707",
         "0.007920564876877353",
         "0.1941114965150199",
         "-0.20132403851067546",
         "0.3989227931888298",
         "0.723286410394731",
         "0.2900119480752714",
         "-0.10996139903756927",
         "-0.016142268330145565",
         "0.29189717926426667",
         "0.16851856204322646",
         "0.24472038057336376",
         "0.05344710368401",
         "0.25984149094371023",
         "-0.25397995199736295",
         "-0.06593553761561094",
         "0.1576596034422819",
         "0.07180041824468195",
         "0.02818697326114214"
        ],
        [
         "1",
         "-5.184451316087957",
         "-0.7128398615793701",
         "-1.3881399470088902",
         "0.42012186715307764",
         "0.6254496199833044",
         "0.6514480233377336",
         "-0.5019371005678704",
         "0.3036524676716595",
         "0.38349993887713724",
         "0.18130197100747952",
         "0.4199969284174897",
         "0.8299061791035096",
         "-0.09635233429510442",
         "-0.3243123396472963",
         "0.40922977857583354",
         "-0.2918801638366193",
         "-0.3747459800277241",
         "-0.34211559191331964",
         "-0.09767774729735682",
         "0.9287891322966524",
         "0.01205273429455949",
         "0.39314510081219894",
         "0.21264848924377594",
         "-0.25527954712944106",
         "0.318692898945748",
         "-0.6052465618024006",
         "-0.017126401732438346",
         "0.3727939790456084",
         "0.02769723005943099",
         "0.2457672718766952",
         "0.06040037597027795",
         "0.09190454771360433",
         "0.19543318113198183",
         "0.5513757920698298",
         "0.0383420452761941",
         "-0.15778200855336558",
         "-0.21095073238500442",
         "-0.17809561390424883",
         "0.14605605545878098",
         "-0.15858230374822518",
         "-0.37305709778582535",
         "-0.20568293337287782",
         "-0.18062023491581689",
         "-0.2502825893497132",
         "0.2501604651934193",
         "0.29171408689637646",
         "0.19335518197234994",
         "-0.30672812836978186",
         "-0.2956161755895183",
         "-0.08569633094546188"
        ],
        [
         "2",
         "-2.4738302644667245",
         "-2.994640751562727",
         "3.3739970718292422",
         "0.3732218439837246",
         "1.84794584767692",
         "1.265870028118327",
         "1.1693146132572325",
         "-0.5161783378952401",
         "-0.5446514842167336",
         "-0.8613014147613506",
         "-1.1828078011430598",
         "-0.3387877990951523",
         "-1.5900348902945003",
         "0.9319315652478173",
         "-0.15239408664893056",
         "-0.25286263882053794",
         "-0.28654380184792405",
         "-0.1789448272096169",
         "0.053978019767860166",
         "-0.48289456647465134",
         "-0.6660975228141857",
         "1.0244065166126592",
         "0.6577255708346008",
         "-0.1334986098706898",
         "0.06427562758056737",
         "0.5298521972680775",
         "0.26963189359972994",
         "1.0980066502649397",
         "0.6673052766407882",
         "0.6775946587447508",
         "0.1988365422657043",
         "0.680550166770054",
         "0.6502740493476036",
         "-0.30198140203907087",
         "-0.37901588274024073",
         "0.07432871822076337",
         "0.2574985913788691",
         "0.9686288107194714",
         "-0.06117052426526459",
         "0.39424253186300173",
         "0.32582511845674184",
         "0.42701874103359294",
         "-0.33040366053325654",
         "0.286500214493769",
         "1.2242327212078987",
         "-0.1159471414364226",
         "1.1483123086105227",
         "0.6327577457917455",
         "-0.8452806071207075",
         "-0.4620084372820412"
        ],
        [
         "3",
         "-5.8261407010485975",
         "0.30892802737209113",
         "2.4728904741058755",
         "0.39801950734671343",
         "0.3813512236852252",
         "0.20401138760645884",
         "0.8423631370028333",
         "0.2314202711508901",
         "-0.7167205974611837",
         "0.29193630382953245",
         "-0.12481108876604644",
         "1.2496571633492397",
         "0.6053424561882735",
         "0.40358698110164065",
         "-0.677467511680092",
         "-0.6627748747951634",
         "0.9795677810349275",
         "-0.2975802804459392",
         "-0.06505840693518836",
         "-0.2440947970311678",
         "-0.36751689907031276",
         "0.5507710097453298",
         "0.8023713454489476",
         "0.18794735418932296",
         "0.060472738665394446",
         "1.24368333618305",
         "-0.5602125909598945",
         "-0.3428343797073528",
         "0.2991451106387351",
         "0.43517303101679533",
         "0.7064896364242175",
         "-0.44625509827143833",
         "0.2066580988109778",
         "-0.9612332804598831",
         "0.542829114491058",
         "-0.2466165745476928",
         "-0.476989096745092",
         "-0.13892269851621902",
         "-0.2104285741499072",
         "0.0863717991238756",
         "-0.5033597733450142",
         "-0.10586406608280097",
         "-0.1556090106913617",
         "-0.07463610610254459",
         "-0.3592032352337826",
         "-0.0820355182561486",
         "-0.08902967777160503",
         "-0.6135129692889425",
         "-0.08344793798313543",
         "0.0814669741787934"
        ],
        [
         "4",
         "-5.799838213117991",
         "1.320340462813693",
         "-1.7329202852687977",
         "0.07592748898356462",
         "-0.4334806600809221",
         "-0.3580099202487437",
         "-0.6936867606367534",
         "0.5151337729515876",
         "0.4135856803677467",
         "0.2500947771627683",
         "0.8928460277158216",
         "-0.0623462436371249",
         "-0.18363172779544082",
         "0.10194571434128574",
         "-0.16884713320596423",
         "0.638136672670855",
         "0.20655881488943414",
         "-0.1998930953688099",
         "-0.10651188672698603",
         "0.3504017020729684",
         "-0.10188926377893273",
         "-0.4570044591601623",
         "-0.22265575853899783",
         "0.23458628657782546",
         "0.17974896010514474",
         "-0.018912261522345136",
         "0.6099592755538306",
         "0.16749223290161042",
         "-0.0760993521873364",
         "0.004246236288977939",
         "0.393962013450515",
         "0.12819067816575114",
         "-0.047926294690704356",
         "0.11337260002370379",
         "0.3636499761945191",
         "0.03471018965507254",
         "-0.047419036821219424",
         "-0.022925877214735074",
         "-0.42420368070679043",
         "0.1210518952891709",
         "-0.3386135400539422",
         "-0.2346459178013976",
         "0.3542214663272701",
         "-0.27558499400561687",
         "0.1056394227410007",
         "0.1496846819195721",
         "0.06992978621992302",
         "-0.06637806111927533",
         "0.1930724557622388",
         "0.026358083187335943"
        ]
       ],
       "shape": {
        "columns": 50,
        "rows": 5
       }
      },
      "text/html": [
       "<div>\n",
       "<style scoped>\n",
       "    .dataframe tbody tr th:only-of-type {\n",
       "        vertical-align: middle;\n",
       "    }\n",
       "\n",
       "    .dataframe tbody tr th {\n",
       "        vertical-align: top;\n",
       "    }\n",
       "\n",
       "    .dataframe thead th {\n",
       "        text-align: right;\n",
       "    }\n",
       "</style>\n",
       "<table border=\"1\" class=\"dataframe\">\n",
       "  <thead>\n",
       "    <tr style=\"text-align: right;\">\n",
       "      <th></th>\n",
       "      <th>cp1</th>\n",
       "      <th>cp2</th>\n",
       "      <th>cp3</th>\n",
       "      <th>cp4</th>\n",
       "      <th>cp5</th>\n",
       "      <th>cp6</th>\n",
       "      <th>cp7</th>\n",
       "      <th>cp8</th>\n",
       "      <th>cp9</th>\n",
       "      <th>cp10</th>\n",
       "      <th>...</th>\n",
       "      <th>cp41</th>\n",
       "      <th>cp42</th>\n",
       "      <th>cp43</th>\n",
       "      <th>cp44</th>\n",
       "      <th>cp45</th>\n",
       "      <th>cp46</th>\n",
       "      <th>cp47</th>\n",
       "      <th>cp48</th>\n",
       "      <th>cp49</th>\n",
       "      <th>cp50</th>\n",
       "    </tr>\n",
       "  </thead>\n",
       "  <tbody>\n",
       "    <tr>\n",
       "      <th>0</th>\n",
       "      <td>-6.121259</td>\n",
       "      <td>2.296441</td>\n",
       "      <td>-2.146628</td>\n",
       "      <td>0.572644</td>\n",
       "      <td>0.106552</td>\n",
       "      <td>-1.008276</td>\n",
       "      <td>-0.245330</td>\n",
       "      <td>-0.322491</td>\n",
       "      <td>-0.532149</td>\n",
       "      <td>0.073749</td>\n",
       "      <td>...</td>\n",
       "      <td>0.291897</td>\n",
       "      <td>0.168519</td>\n",
       "      <td>0.244720</td>\n",
       "      <td>0.053447</td>\n",
       "      <td>0.259841</td>\n",
       "      <td>-0.253980</td>\n",
       "      <td>-0.065936</td>\n",
       "      <td>0.157660</td>\n",
       "      <td>0.071800</td>\n",
       "      <td>0.028187</td>\n",
       "    </tr>\n",
       "    <tr>\n",
       "      <th>1</th>\n",
       "      <td>-5.184451</td>\n",
       "      <td>-0.712840</td>\n",
       "      <td>-1.388140</td>\n",
       "      <td>0.420122</td>\n",
       "      <td>0.625450</td>\n",
       "      <td>0.651448</td>\n",
       "      <td>-0.501937</td>\n",
       "      <td>0.303652</td>\n",
       "      <td>0.383500</td>\n",
       "      <td>0.181302</td>\n",
       "      <td>...</td>\n",
       "      <td>-0.373057</td>\n",
       "      <td>-0.205683</td>\n",
       "      <td>-0.180620</td>\n",
       "      <td>-0.250283</td>\n",
       "      <td>0.250160</td>\n",
       "      <td>0.291714</td>\n",
       "      <td>0.193355</td>\n",
       "      <td>-0.306728</td>\n",
       "      <td>-0.295616</td>\n",
       "      <td>-0.085696</td>\n",
       "    </tr>\n",
       "    <tr>\n",
       "      <th>2</th>\n",
       "      <td>-2.473830</td>\n",
       "      <td>-2.994641</td>\n",
       "      <td>3.373997</td>\n",
       "      <td>0.373222</td>\n",
       "      <td>1.847946</td>\n",
       "      <td>1.265870</td>\n",
       "      <td>1.169315</td>\n",
       "      <td>-0.516178</td>\n",
       "      <td>-0.544651</td>\n",
       "      <td>-0.861301</td>\n",
       "      <td>...</td>\n",
       "      <td>0.325825</td>\n",
       "      <td>0.427019</td>\n",
       "      <td>-0.330404</td>\n",
       "      <td>0.286500</td>\n",
       "      <td>1.224233</td>\n",
       "      <td>-0.115947</td>\n",
       "      <td>1.148312</td>\n",
       "      <td>0.632758</td>\n",
       "      <td>-0.845281</td>\n",
       "      <td>-0.462008</td>\n",
       "    </tr>\n",
       "    <tr>\n",
       "      <th>3</th>\n",
       "      <td>-5.826141</td>\n",
       "      <td>0.308928</td>\n",
       "      <td>2.472890</td>\n",
       "      <td>0.398020</td>\n",
       "      <td>0.381351</td>\n",
       "      <td>0.204011</td>\n",
       "      <td>0.842363</td>\n",
       "      <td>0.231420</td>\n",
       "      <td>-0.716721</td>\n",
       "      <td>0.291936</td>\n",
       "      <td>...</td>\n",
       "      <td>-0.503360</td>\n",
       "      <td>-0.105864</td>\n",
       "      <td>-0.155609</td>\n",
       "      <td>-0.074636</td>\n",
       "      <td>-0.359203</td>\n",
       "      <td>-0.082036</td>\n",
       "      <td>-0.089030</td>\n",
       "      <td>-0.613513</td>\n",
       "      <td>-0.083448</td>\n",
       "      <td>0.081467</td>\n",
       "    </tr>\n",
       "    <tr>\n",
       "      <th>4</th>\n",
       "      <td>-5.799838</td>\n",
       "      <td>1.320340</td>\n",
       "      <td>-1.732920</td>\n",
       "      <td>0.075927</td>\n",
       "      <td>-0.433481</td>\n",
       "      <td>-0.358010</td>\n",
       "      <td>-0.693687</td>\n",
       "      <td>0.515134</td>\n",
       "      <td>0.413586</td>\n",
       "      <td>0.250095</td>\n",
       "      <td>...</td>\n",
       "      <td>-0.338614</td>\n",
       "      <td>-0.234646</td>\n",
       "      <td>0.354221</td>\n",
       "      <td>-0.275585</td>\n",
       "      <td>0.105639</td>\n",
       "      <td>0.149685</td>\n",
       "      <td>0.069930</td>\n",
       "      <td>-0.066378</td>\n",
       "      <td>0.193072</td>\n",
       "      <td>0.026358</td>\n",
       "    </tr>\n",
       "  </tbody>\n",
       "</table>\n",
       "<p>5 rows × 50 columns</p>\n",
       "</div>"
      ],
      "text/plain": [
       "        cp1       cp2       cp3       cp4       cp5       cp6       cp7  \\\n",
       "0 -6.121259  2.296441 -2.146628  0.572644  0.106552 -1.008276 -0.245330   \n",
       "1 -5.184451 -0.712840 -1.388140  0.420122  0.625450  0.651448 -0.501937   \n",
       "2 -2.473830 -2.994641  3.373997  0.373222  1.847946  1.265870  1.169315   \n",
       "3 -5.826141  0.308928  2.472890  0.398020  0.381351  0.204011  0.842363   \n",
       "4 -5.799838  1.320340 -1.732920  0.075927 -0.433481 -0.358010 -0.693687   \n",
       "\n",
       "        cp8       cp9      cp10  ...      cp41      cp42      cp43      cp44  \\\n",
       "0 -0.322491 -0.532149  0.073749  ...  0.291897  0.168519  0.244720  0.053447   \n",
       "1  0.303652  0.383500  0.181302  ... -0.373057 -0.205683 -0.180620 -0.250283   \n",
       "2 -0.516178 -0.544651 -0.861301  ...  0.325825  0.427019 -0.330404  0.286500   \n",
       "3  0.231420 -0.716721  0.291936  ... -0.503360 -0.105864 -0.155609 -0.074636   \n",
       "4  0.515134  0.413586  0.250095  ... -0.338614 -0.234646  0.354221 -0.275585   \n",
       "\n",
       "       cp45      cp46      cp47      cp48      cp49      cp50  \n",
       "0  0.259841 -0.253980 -0.065936  0.157660  0.071800  0.028187  \n",
       "1  0.250160  0.291714  0.193355 -0.306728 -0.295616 -0.085696  \n",
       "2  1.224233 -0.115947  1.148312  0.632758 -0.845281 -0.462008  \n",
       "3 -0.359203 -0.082036 -0.089030 -0.613513 -0.083448  0.081467  \n",
       "4  0.105639  0.149685  0.069930 -0.066378  0.193072  0.026358  \n",
       "\n",
       "[5 rows x 50 columns]"
      ]
     },
     "metadata": {},
     "output_type": "display_data"
    },
    {
     "name": "stdout",
     "output_type": "stream",
     "text": [
      "\n",
      "pca_train_100:\n"
     ]
    },
    {
     "data": {
      "application/vnd.microsoft.datawrangler.viewer.v0+json": {
       "columns": [
        {
         "name": "index",
         "rawType": "int64",
         "type": "integer"
        },
        {
         "name": "cp1",
         "rawType": "float64",
         "type": "float"
        },
        {
         "name": "cp2",
         "rawType": "float64",
         "type": "float"
        },
        {
         "name": "cp3",
         "rawType": "float64",
         "type": "float"
        },
        {
         "name": "cp4",
         "rawType": "float64",
         "type": "float"
        },
        {
         "name": "cp5",
         "rawType": "float64",
         "type": "float"
        },
        {
         "name": "cp6",
         "rawType": "float64",
         "type": "float"
        },
        {
         "name": "cp7",
         "rawType": "float64",
         "type": "float"
        },
        {
         "name": "cp8",
         "rawType": "float64",
         "type": "float"
        },
        {
         "name": "cp9",
         "rawType": "float64",
         "type": "float"
        },
        {
         "name": "cp10",
         "rawType": "float64",
         "type": "float"
        },
        {
         "name": "cp11",
         "rawType": "float64",
         "type": "float"
        },
        {
         "name": "cp12",
         "rawType": "float64",
         "type": "float"
        },
        {
         "name": "cp13",
         "rawType": "float64",
         "type": "float"
        },
        {
         "name": "cp14",
         "rawType": "float64",
         "type": "float"
        },
        {
         "name": "cp15",
         "rawType": "float64",
         "type": "float"
        },
        {
         "name": "cp16",
         "rawType": "float64",
         "type": "float"
        },
        {
         "name": "cp17",
         "rawType": "float64",
         "type": "float"
        },
        {
         "name": "cp18",
         "rawType": "float64",
         "type": "float"
        },
        {
         "name": "cp19",
         "rawType": "float64",
         "type": "float"
        },
        {
         "name": "cp20",
         "rawType": "float64",
         "type": "float"
        },
        {
         "name": "cp21",
         "rawType": "float64",
         "type": "float"
        },
        {
         "name": "cp22",
         "rawType": "float64",
         "type": "float"
        },
        {
         "name": "cp23",
         "rawType": "float64",
         "type": "float"
        },
        {
         "name": "cp24",
         "rawType": "float64",
         "type": "float"
        },
        {
         "name": "cp25",
         "rawType": "float64",
         "type": "float"
        },
        {
         "name": "cp26",
         "rawType": "float64",
         "type": "float"
        },
        {
         "name": "cp27",
         "rawType": "float64",
         "type": "float"
        },
        {
         "name": "cp28",
         "rawType": "float64",
         "type": "float"
        },
        {
         "name": "cp29",
         "rawType": "float64",
         "type": "float"
        },
        {
         "name": "cp30",
         "rawType": "float64",
         "type": "float"
        },
        {
         "name": "cp31",
         "rawType": "float64",
         "type": "float"
        },
        {
         "name": "cp32",
         "rawType": "float64",
         "type": "float"
        },
        {
         "name": "cp33",
         "rawType": "float64",
         "type": "float"
        },
        {
         "name": "cp34",
         "rawType": "float64",
         "type": "float"
        },
        {
         "name": "cp35",
         "rawType": "float64",
         "type": "float"
        },
        {
         "name": "cp36",
         "rawType": "float64",
         "type": "float"
        },
        {
         "name": "cp37",
         "rawType": "float64",
         "type": "float"
        },
        {
         "name": "cp38",
         "rawType": "float64",
         "type": "float"
        },
        {
         "name": "cp39",
         "rawType": "float64",
         "type": "float"
        },
        {
         "name": "cp40",
         "rawType": "float64",
         "type": "float"
        },
        {
         "name": "cp41",
         "rawType": "float64",
         "type": "float"
        },
        {
         "name": "cp42",
         "rawType": "float64",
         "type": "float"
        },
        {
         "name": "cp43",
         "rawType": "float64",
         "type": "float"
        },
        {
         "name": "cp44",
         "rawType": "float64",
         "type": "float"
        },
        {
         "name": "cp45",
         "rawType": "float64",
         "type": "float"
        },
        {
         "name": "cp46",
         "rawType": "float64",
         "type": "float"
        },
        {
         "name": "cp47",
         "rawType": "float64",
         "type": "float"
        },
        {
         "name": "cp48",
         "rawType": "float64",
         "type": "float"
        },
        {
         "name": "cp49",
         "rawType": "float64",
         "type": "float"
        },
        {
         "name": "cp50",
         "rawType": "float64",
         "type": "float"
        },
        {
         "name": "cp51",
         "rawType": "float64",
         "type": "float"
        },
        {
         "name": "cp52",
         "rawType": "float64",
         "type": "float"
        },
        {
         "name": "cp53",
         "rawType": "float64",
         "type": "float"
        },
        {
         "name": "cp54",
         "rawType": "float64",
         "type": "float"
        },
        {
         "name": "cp55",
         "rawType": "float64",
         "type": "float"
        },
        {
         "name": "cp56",
         "rawType": "float64",
         "type": "float"
        },
        {
         "name": "cp57",
         "rawType": "float64",
         "type": "float"
        },
        {
         "name": "cp58",
         "rawType": "float64",
         "type": "float"
        },
        {
         "name": "cp59",
         "rawType": "float64",
         "type": "float"
        },
        {
         "name": "cp60",
         "rawType": "float64",
         "type": "float"
        },
        {
         "name": "cp61",
         "rawType": "float64",
         "type": "float"
        },
        {
         "name": "cp62",
         "rawType": "float64",
         "type": "float"
        },
        {
         "name": "cp63",
         "rawType": "float64",
         "type": "float"
        },
        {
         "name": "cp64",
         "rawType": "float64",
         "type": "float"
        },
        {
         "name": "cp65",
         "rawType": "float64",
         "type": "float"
        },
        {
         "name": "cp66",
         "rawType": "float64",
         "type": "float"
        },
        {
         "name": "cp67",
         "rawType": "float64",
         "type": "float"
        },
        {
         "name": "cp68",
         "rawType": "float64",
         "type": "float"
        },
        {
         "name": "cp69",
         "rawType": "float64",
         "type": "float"
        },
        {
         "name": "cp70",
         "rawType": "float64",
         "type": "float"
        },
        {
         "name": "cp71",
         "rawType": "float64",
         "type": "float"
        },
        {
         "name": "cp72",
         "rawType": "float64",
         "type": "float"
        },
        {
         "name": "cp73",
         "rawType": "float64",
         "type": "float"
        },
        {
         "name": "cp74",
         "rawType": "float64",
         "type": "float"
        },
        {
         "name": "cp75",
         "rawType": "float64",
         "type": "float"
        },
        {
         "name": "cp76",
         "rawType": "float64",
         "type": "float"
        },
        {
         "name": "cp77",
         "rawType": "float64",
         "type": "float"
        },
        {
         "name": "cp78",
         "rawType": "float64",
         "type": "float"
        },
        {
         "name": "cp79",
         "rawType": "float64",
         "type": "float"
        },
        {
         "name": "cp80",
         "rawType": "float64",
         "type": "float"
        },
        {
         "name": "cp81",
         "rawType": "float64",
         "type": "float"
        },
        {
         "name": "cp82",
         "rawType": "float64",
         "type": "float"
        },
        {
         "name": "cp83",
         "rawType": "float64",
         "type": "float"
        },
        {
         "name": "cp84",
         "rawType": "float64",
         "type": "float"
        },
        {
         "name": "cp85",
         "rawType": "float64",
         "type": "float"
        },
        {
         "name": "cp86",
         "rawType": "float64",
         "type": "float"
        },
        {
         "name": "cp87",
         "rawType": "float64",
         "type": "float"
        },
        {
         "name": "cp88",
         "rawType": "float64",
         "type": "float"
        },
        {
         "name": "cp89",
         "rawType": "float64",
         "type": "float"
        },
        {
         "name": "cp90",
         "rawType": "float64",
         "type": "float"
        },
        {
         "name": "cp91",
         "rawType": "float64",
         "type": "float"
        },
        {
         "name": "cp92",
         "rawType": "float64",
         "type": "float"
        },
        {
         "name": "cp93",
         "rawType": "float64",
         "type": "float"
        },
        {
         "name": "cp94",
         "rawType": "float64",
         "type": "float"
        },
        {
         "name": "cp95",
         "rawType": "float64",
         "type": "float"
        },
        {
         "name": "cp96",
         "rawType": "float64",
         "type": "float"
        },
        {
         "name": "cp97",
         "rawType": "float64",
         "type": "float"
        },
        {
         "name": "cp98",
         "rawType": "float64",
         "type": "float"
        },
        {
         "name": "cp99",
         "rawType": "float64",
         "type": "float"
        },
        {
         "name": "cp100",
         "rawType": "float64",
         "type": "float"
        }
       ],
       "conversionMethod": "pd.DataFrame",
       "ref": "fbc04526-df40-4e4e-a353-e97bdbb00d5d",
       "rows": [
        [
         "0",
         "-6.121258731457021",
         "2.29644116906784",
         "-2.146627500902067",
         "0.5726439957583469",
         "0.10655245364635632",
         "-1.008275899893021",
         "-0.24533035485160856",
         "-0.32249147337871203",
         "-0.5321493323785018",
         "0.07374933714532442",
         "0.02378643024665722",
         "-0.7620308813378103",
         "0.12955823659219207",
         "-0.03498424853883644",
         "0.18675169524548668",
         "-0.45307775686737195",
         "0.26908325033273867",
         "0.4310766730116131",
         "-0.2118068990842058",
         "-0.5364986559799583",
         "-0.15812382940452063",
         "-0.6188412383815168",
         "0.1035714966025742",
         "-0.1632595469000166",
         "-0.20253814677739646",
         "-0.12981417241860266",
         "0.27017428190232545",
         "-0.03768555032965913",
         "-0.19896220591746216",
         "-0.010489513450877959",
         "-0.0064772850614872035",
         "-0.08270764437906603",
         "0.008178342758791257",
         "0.1944349218126365",
         "-0.20132714031348553",
         "0.3986761664088991",
         "0.7234785294602225",
         "0.29003765993222896",
         "-0.1100254807558288",
         "-0.017022021258554454",
         "0.2934066022181946",
         "0.17034278639415437",
         "0.2480712391969002",
         "0.059626180460442296",
         "0.25840447853529397",
         "-0.26161946162904187",
         "-0.06235086560263712",
         "0.1466655821627835",
         "0.065315791508159",
         "0.01696070948675743",
         "-0.249907446390364",
         "0.5395342210027487",
         "-0.07326528292654401",
         "-0.16825291745291",
         "-0.27186488105045176",
         "0.07246478677453314",
         "-0.17903984559664515",
         "0.22631284441959304",
         "0.21293687388268012",
         "0.18930291847833153",
         "-0.3666319762706328",
         "-0.11548847455764255",
         "-0.17936145107121737",
         "-0.14786183860780194",
         "-0.010025881152387867",
         "-0.16033378889651476",
         "-0.04530188184651092",
         "-0.25111820139269536",
         "-0.28095638772919906",
         "0.10541050590768627",
         "-0.25652057763084224",
         "0.1494160232056791",
         "-0.02850694854887459",
         "-0.004427372323222961",
         "-0.06291569573377982",
         "0.060903002953837417",
         "-0.2890435879058373",
         "0.026542941535702816",
         "0.06191924924362003",
         "0.27505099013004597",
         "0.22480019708752003",
         "0.10841764639109605",
         "-0.29522641287767654",
         "-0.15969678392635678",
         "0.04284511027378242",
         "0.08436774948883108",
         "-0.3368333592115074",
         "0.014199337486572663",
         "0.07986778837372957",
         "0.049497482875422244",
         "0.18117496073634526",
         "0.1573611851984366",
         "0.17566467787588416",
         "0.1721026570302248",
         "0.004487796981187536",
         "0.0504165777784093",
         "-0.0007188150846397182",
         "0.130851499844441",
         "-0.016782973146846018",
         "0.11680842440315942"
        ],
        [
         "1",
         "-5.184451316087965",
         "-0.7128398615798657",
         "-1.388139947012205",
         "0.4201218673368814",
         "0.6254496194713693",
         "0.6514480247219995",
         "-0.5019371029956055",
         "0.30365248077013957",
         "0.38349992833718466",
         "0.18130197952289778",
         "0.41999697577635503",
         "0.8299061693262403",
         "-0.09635240505897708",
         "-0.32431231166085694",
         "0.40923046036281396",
         "-0.2918801839207862",
         "-0.3747436950943703",
         "-0.3421133016885427",
         "-0.09767768967455134",
         "0.9287941791648491",
         "0.01204550380999173",
         "0.3931640412823797",
         "0.21264512829806653",
         "-0.2552805751039006",
         "0.3186949141515939",
         "-0.6052333582730879",
         "-0.017124199041804844",
         "0.37277496587559306",
         "0.027708716654893037",
         "0.24574818198998155",
         "0.060453287951880125",
         "0.09189725225889764",
         "0.1951717361899398",
         "0.5510557727228502",
         "0.03795916573256643",
         "-0.1577763843927565",
         "-0.21156180261770596",
         "-0.17757049533870206",
         "0.14570897816136769",
         "-0.15882275216406766",
         "-0.3758883675305998",
         "-0.20341689005134214",
         "-0.18444807277076328",
         "-0.25417326527616424",
         "0.2563676227173943",
         "0.3120881532490889",
         "0.1894076863378557",
         "-0.3060972750468087",
         "-0.2995851002087927",
         "-0.06223765845977783",
         "-0.07124125514118834",
         "-0.1144078199093905",
         "-0.03279513646695445",
         "0.2759181850047318",
         "-0.3182146210512229",
         "0.1860174743633217",
         "0.2655048712977094",
         "0.05794980605936799",
         "-0.21897864985849613",
         "-0.11967307382518422",
         "0.19469058549255913",
         "0.16579829669979712",
         "0.03125942732946353",
         "0.17178686353345302",
         "-0.141532259088998",
         "-0.013375769304567561",
         "-0.1311771201734784",
         "0.2728437783152031",
         "-0.06538373264281744",
         "-0.11381156567422371",
         "0.008547639493035115",
         "0.05106679797064531",
         "0.048576666851915695",
         "0.15312235465853302",
         "0.13373264967826157",
         "0.09516316620187183",
         "-0.11633212356726944",
         "0.0018173315858984115",
         "-0.11825420071412537",
         "0.11339004889151934",
         "-0.09109719150297144",
         "0.07441322822697823",
         "0.12548619737306474",
         "0.08379690037881944",
         "0.05574771225388689",
         "0.18893078172273886",
         "0.018602494225103433",
         "-0.27341154745431234",
         "-0.15291663434202127",
         "0.12498035542367764",
         "-0.15205695592381818",
         "-0.07282638648364256",
         "-0.2301383929978315",
         "-0.14618134286362355",
         "-0.12188454742815728",
         "0.18063116534761114",
         "0.08791943383861228",
         "0.130695785242441",
         "0.07699604646990012",
         "-0.07231673087081503"
        ],
        [
         "2",
         "-2.4738302644667582",
         "-2.9946407515646216",
         "3.3739970718028136",
         "0.3732218426755607",
         "1.847945848496468",
         "1.2658700194120098",
         "1.1693146131752847",
         "-0.5161783105433566",
         "-0.5446514776508604",
         "-0.8613015230442103",
         "-1.1828076305870727",
         "-0.3387876967739564",
         "-1.5900360432410743",
         "0.9319313772375153",
         "-0.15239378088351954",
         "-0.25286017352092505",
         "-0.28653953450908176",
         "-0.17893939877438758",
         "0.05399290167992986",
         "-0.4828957184737337",
         "-0.6660987111955272",
         "1.0244238957245084",
         "0.657673114374012",
         "-0.13352653562281158",
         "0.06431178554033434",
         "0.529881527816682",
         "0.2698770121254399",
         "1.0977092248619096",
         "0.6672871983819889",
         "0.6775541040717055",
         "0.1989336050035102",
         "0.68013104882853",
         "0.6500993137035179",
         "-0.30347625407501955",
         "-0.3800243246994401",
         "0.07347906079700439",
         "0.253929754748731",
         "0.970865969378",
         "-0.06120409726650683",
         "0.39415521016808724",
         "0.32362331761283614",
         "0.4393129037902987",
         "-0.329946057628711",
         "0.27770051615681707",
         "1.2420878202999734",
         "-0.10993529919738715",
         "1.1594602755273171",
         "0.6048524307997616",
         "-0.9040573605833842",
         "-0.4789944262963689",
         "0.012598018574885794",
         "0.5484316979207691",
         "0.3204165406719313",
         "-0.2643984060402328",
         "0.17133359674119125",
         "0.5153735877739607",
         "-0.12584576907318296",
         "-0.661561087605586",
         "0.8856813447649161",
         "0.2582679776740645",
         "0.40386488439638524",
         "0.5807952965375279",
         "-0.33844803629879333",
         "-0.22972050819833115",
         "-0.4987418842443742",
         "-0.7225205621884291",
         "-0.5628522000383611",
         "0.5094276032723628",
         "-0.37442987296121205",
         "0.17310873552989015",
         "-0.012659784677627905",
         "-0.031787206345581125",
         "0.3087670665422993",
         "0.4979086251894488",
         "0.4181959453077373",
         "-0.2966537716022392",
         "0.7881998516471163",
         "0.12891263907816453",
         "-0.2521006196480554",
         "-0.04086721965997375",
         "0.40716533754342943",
         "-0.05631825812291948",
         "-0.15738915325908945",
         "-0.5498324182787238",
         "0.09514381499874633",
         "-0.019495147181148757",
         "0.25082475192540515",
         "0.2548652007752155",
         "0.3635060526824204",
         "-0.26220471454457317",
         "-0.0008604833764511294",
         "0.09522952449056776",
         "0.4182221227913059",
         "-0.20470548065102767",
         "-0.24149307558793365",
         "0.4425517370305946",
         "-0.4263416191615324",
         "0.05787932817210566",
         "0.3932637998247251",
         "-0.015882157243690687"
        ],
        [
         "3",
         "-5.826140701048594",
         "0.3089280273683549",
         "2.472890474092186",
         "0.3980195063038618",
         "0.38135122392339393",
         "0.20401137320552643",
         "0.8423631363280377",
         "0.23142027261150266",
         "-0.7167205703577708",
         "0.29193623689271553",
         "-0.12481100252898665",
         "1.249657253042507",
         "0.6053420361885765",
         "0.40358761300769275",
         "-0.6774675858124704",
         "-0.6627739235060157",
         "0.9795687562776054",
         "-0.29757847015152267",
         "-0.06505001869366245",
         "-0.24409949011068574",
         "-0.36751058849567997",
         "0.550782040594521",
         "0.8023487222849003",
         "0.18793179401618612",
         "0.06049734224319844",
         "1.2436531509944109",
         "-0.5601203926015942",
         "-0.34295263806288023",
         "0.2992117682842019",
         "0.43502524746258997",
         "0.706371616875078",
         "-0.4462126632272831",
         "0.20642124699257058",
         "-0.9617669009706995",
         "0.5422565152852182",
         "-0.2463150911079291",
         "-0.47840972905009127",
         "-0.13892615413884246",
         "-0.21012888307862237",
         "0.08745631697564371",
         "-0.5044287204502387",
         "-0.10639364554969663",
         "-0.15903486519489707",
         "-0.08634051091040684",
         "-0.3527091504249078",
         "-0.06763681326520979",
         "-0.09844168179292218",
         "-0.6126249156178343",
         "-0.09202658076425996",
         "0.057807637748270135",
         "0.48030901151393646",
         "0.25525980483764",
         "-0.43922221303142883",
         "-0.27243210783265254",
         "0.23246390011859439",
         "0.29395467981000356",
         "0.14196187785669503",
         "-0.6573726190640716",
         "0.22533340003670393",
         "-0.36592558348633925",
         "-0.003806355655844834",
         "-0.021399100929965623",
         "0.011574915674620167",
         "-0.1717306518785579",
         "-0.17947775670949256",
         "-0.08002427846644619",
         "-0.24003157162117267",
         "0.42886600846233314",
         "0.02054668367017104",
         "-0.14772682669551293",
         "0.11232691301711474",
         "-0.2850641915722753",
         "-0.09690997400851203",
         "0.09973387909753421",
         "0.09488565310123233",
         "0.21071750587747257",
         "-0.2082877372205778",
         "-0.04068756370411902",
         "-0.148998665673091",
         "-0.06605587301670751",
         "0.09941319867035696",
         "0.07521925076455724",
         "0.08954140253854243",
         "0.14824823078618013",
         "-0.1662415326631474",
         "0.4346961621968276",
         "-0.28486227598207114",
         "-0.12354427365117189",
         "0.09399569586682123",
         "-0.013837194366512096",
         "-0.016883014346236604",
         "0.12961387108525357",
         "0.2222672098550295",
         "-0.04590807069879563",
         "0.13197922316850627",
         "-0.08585306823333352",
         "0.27521135452945017",
         "0.14292104994911115",
         "-0.23247493783409132",
         "-0.3547178067142459"
        ],
        [
         "4",
         "-5.799838213117974",
         "1.3203404628139925",
         "-1.7329202852670418",
         "0.07592748920072327",
         "-0.43348066057339124",
         "-0.3580099149050042",
         "-0.6936867612396089",
         "0.5151337804523183",
         "0.41358566882006226",
         "0.2500947960401193",
         "0.8928459828910007",
         "-0.06234623187419505",
         "-0.18363187864349212",
         "0.10194511432402428",
         "-0.1688477112428615",
         "0.6381364277672439",
         "0.20656118680387253",
         "-0.1998929443695051",
         "-0.10651223338227639",
         "0.35040705610476763",
         "-0.10189754031462944",
         "-0.4570066365590459",
         "-0.22265108715334242",
         "0.23457328203153777",
         "0.17975635062478346",
         "-0.01888225075184918",
         "0.6099420806641905",
         "0.1674367402939242",
         "-0.07612197624363798",
         "0.004373429664604661",
         "0.3940809411921309",
         "0.12819325827872818",
         "-0.04795311976317803",
         "0.11321919912308503",
         "0.3638882428436156",
         "0.034345219630269035",
         "-0.04790399298316442",
         "-0.022363261558852016",
         "-0.42377002637357986",
         "0.12043528251241996",
         "-0.33787496332861505",
         "-0.22971256913528326",
         "0.3507343662456694",
         "-0.2703719733058667",
         "0.10956098680925673",
         "0.14814532458255636",
         "0.07014579397386148",
         "-0.06451015078756807",
         "0.18106521310584223",
         "0.015131640162430737",
         "-0.14422116258964063",
         "0.11220745800743756",
         "0.21448703243240508",
         "-0.11784003060075778",
         "0.02762622213258542",
         "0.12932201252348083",
         "0.22126644488842895",
         "0.10142974193880196",
         "-0.09673696880805348",
         "0.1368498385449914",
         "0.35356218477920287",
         "-0.015482164973303639",
         "-0.2531076157954517",
         "-0.2268070729177695",
         "-0.2592934954489934",
         "-0.1346984875417454",
         "0.07244810400765511",
         "0.2718817070362578",
         "0.113126502135794",
         "0.1849825843235377",
         "0.06430678246175969",
         "0.0422135049480174",
         "-0.02701747595708634",
         "-0.03547020197217239",
         "-0.1019013991956541",
         "-0.09640466766343139",
         "0.005177936845161768",
         "0.05626375091743917",
         "-0.048409889971429844",
         "-0.19893352957760818",
         "0.20391189999032155",
         "0.12251475382503114",
         "0.05885971610276228",
         "-0.014246088133815463",
         "-0.028176482583029024",
         "-0.057970945571450765",
         "-0.04819673647393366",
         "0.040633414335305276",
         "0.07830591945501267",
         "0.03884739200643002",
         "-0.2498863475100701",
         "0.0849840152801658",
         "-0.08936807025230487",
         "0.016256309631869317",
         "0.1311602405631054",
         "-0.10917888706919143",
         "0.1448859886915507",
         "-0.10846729685390542",
         "0.0005773103085731646",
         "-0.2798939281708805"
        ]
       ],
       "shape": {
        "columns": 100,
        "rows": 5
       }
      },
      "text/html": [
       "<div>\n",
       "<style scoped>\n",
       "    .dataframe tbody tr th:only-of-type {\n",
       "        vertical-align: middle;\n",
       "    }\n",
       "\n",
       "    .dataframe tbody tr th {\n",
       "        vertical-align: top;\n",
       "    }\n",
       "\n",
       "    .dataframe thead th {\n",
       "        text-align: right;\n",
       "    }\n",
       "</style>\n",
       "<table border=\"1\" class=\"dataframe\">\n",
       "  <thead>\n",
       "    <tr style=\"text-align: right;\">\n",
       "      <th></th>\n",
       "      <th>cp1</th>\n",
       "      <th>cp2</th>\n",
       "      <th>cp3</th>\n",
       "      <th>cp4</th>\n",
       "      <th>cp5</th>\n",
       "      <th>cp6</th>\n",
       "      <th>cp7</th>\n",
       "      <th>cp8</th>\n",
       "      <th>cp9</th>\n",
       "      <th>cp10</th>\n",
       "      <th>...</th>\n",
       "      <th>cp91</th>\n",
       "      <th>cp92</th>\n",
       "      <th>cp93</th>\n",
       "      <th>cp94</th>\n",
       "      <th>cp95</th>\n",
       "      <th>cp96</th>\n",
       "      <th>cp97</th>\n",
       "      <th>cp98</th>\n",
       "      <th>cp99</th>\n",
       "      <th>cp100</th>\n",
       "    </tr>\n",
       "  </thead>\n",
       "  <tbody>\n",
       "    <tr>\n",
       "      <th>0</th>\n",
       "      <td>-6.121259</td>\n",
       "      <td>2.296441</td>\n",
       "      <td>-2.146628</td>\n",
       "      <td>0.572644</td>\n",
       "      <td>0.106552</td>\n",
       "      <td>-1.008276</td>\n",
       "      <td>-0.245330</td>\n",
       "      <td>-0.322491</td>\n",
       "      <td>-0.532149</td>\n",
       "      <td>0.073749</td>\n",
       "      <td>...</td>\n",
       "      <td>0.181175</td>\n",
       "      <td>0.157361</td>\n",
       "      <td>0.175665</td>\n",
       "      <td>0.172103</td>\n",
       "      <td>0.004488</td>\n",
       "      <td>0.050417</td>\n",
       "      <td>-0.000719</td>\n",
       "      <td>0.130851</td>\n",
       "      <td>-0.016783</td>\n",
       "      <td>0.116808</td>\n",
       "    </tr>\n",
       "    <tr>\n",
       "      <th>1</th>\n",
       "      <td>-5.184451</td>\n",
       "      <td>-0.712840</td>\n",
       "      <td>-1.388140</td>\n",
       "      <td>0.420122</td>\n",
       "      <td>0.625450</td>\n",
       "      <td>0.651448</td>\n",
       "      <td>-0.501937</td>\n",
       "      <td>0.303652</td>\n",
       "      <td>0.383500</td>\n",
       "      <td>0.181302</td>\n",
       "      <td>...</td>\n",
       "      <td>-0.152057</td>\n",
       "      <td>-0.072826</td>\n",
       "      <td>-0.230138</td>\n",
       "      <td>-0.146181</td>\n",
       "      <td>-0.121885</td>\n",
       "      <td>0.180631</td>\n",
       "      <td>0.087919</td>\n",
       "      <td>0.130696</td>\n",
       "      <td>0.076996</td>\n",
       "      <td>-0.072317</td>\n",
       "    </tr>\n",
       "    <tr>\n",
       "      <th>2</th>\n",
       "      <td>-2.473830</td>\n",
       "      <td>-2.994641</td>\n",
       "      <td>3.373997</td>\n",
       "      <td>0.373222</td>\n",
       "      <td>1.847946</td>\n",
       "      <td>1.265870</td>\n",
       "      <td>1.169315</td>\n",
       "      <td>-0.516178</td>\n",
       "      <td>-0.544651</td>\n",
       "      <td>-0.861302</td>\n",
       "      <td>...</td>\n",
       "      <td>-0.000860</td>\n",
       "      <td>0.095230</td>\n",
       "      <td>0.418222</td>\n",
       "      <td>-0.204705</td>\n",
       "      <td>-0.241493</td>\n",
       "      <td>0.442552</td>\n",
       "      <td>-0.426342</td>\n",
       "      <td>0.057879</td>\n",
       "      <td>0.393264</td>\n",
       "      <td>-0.015882</td>\n",
       "    </tr>\n",
       "    <tr>\n",
       "      <th>3</th>\n",
       "      <td>-5.826141</td>\n",
       "      <td>0.308928</td>\n",
       "      <td>2.472890</td>\n",
       "      <td>0.398020</td>\n",
       "      <td>0.381351</td>\n",
       "      <td>0.204011</td>\n",
       "      <td>0.842363</td>\n",
       "      <td>0.231420</td>\n",
       "      <td>-0.716721</td>\n",
       "      <td>0.291936</td>\n",
       "      <td>...</td>\n",
       "      <td>-0.016883</td>\n",
       "      <td>0.129614</td>\n",
       "      <td>0.222267</td>\n",
       "      <td>-0.045908</td>\n",
       "      <td>0.131979</td>\n",
       "      <td>-0.085853</td>\n",
       "      <td>0.275211</td>\n",
       "      <td>0.142921</td>\n",
       "      <td>-0.232475</td>\n",
       "      <td>-0.354718</td>\n",
       "    </tr>\n",
       "    <tr>\n",
       "      <th>4</th>\n",
       "      <td>-5.799838</td>\n",
       "      <td>1.320340</td>\n",
       "      <td>-1.732920</td>\n",
       "      <td>0.075927</td>\n",
       "      <td>-0.433481</td>\n",
       "      <td>-0.358010</td>\n",
       "      <td>-0.693687</td>\n",
       "      <td>0.515134</td>\n",
       "      <td>0.413586</td>\n",
       "      <td>0.250095</td>\n",
       "      <td>...</td>\n",
       "      <td>-0.249886</td>\n",
       "      <td>0.084984</td>\n",
       "      <td>-0.089368</td>\n",
       "      <td>0.016256</td>\n",
       "      <td>0.131160</td>\n",
       "      <td>-0.109179</td>\n",
       "      <td>0.144886</td>\n",
       "      <td>-0.108467</td>\n",
       "      <td>0.000577</td>\n",
       "      <td>-0.279894</td>\n",
       "    </tr>\n",
       "  </tbody>\n",
       "</table>\n",
       "<p>5 rows × 100 columns</p>\n",
       "</div>"
      ],
      "text/plain": [
       "        cp1       cp2       cp3       cp4       cp5       cp6       cp7  \\\n",
       "0 -6.121259  2.296441 -2.146628  0.572644  0.106552 -1.008276 -0.245330   \n",
       "1 -5.184451 -0.712840 -1.388140  0.420122  0.625450  0.651448 -0.501937   \n",
       "2 -2.473830 -2.994641  3.373997  0.373222  1.847946  1.265870  1.169315   \n",
       "3 -5.826141  0.308928  2.472890  0.398020  0.381351  0.204011  0.842363   \n",
       "4 -5.799838  1.320340 -1.732920  0.075927 -0.433481 -0.358010 -0.693687   \n",
       "\n",
       "        cp8       cp9      cp10  ...      cp91      cp92      cp93      cp94  \\\n",
       "0 -0.322491 -0.532149  0.073749  ...  0.181175  0.157361  0.175665  0.172103   \n",
       "1  0.303652  0.383500  0.181302  ... -0.152057 -0.072826 -0.230138 -0.146181   \n",
       "2 -0.516178 -0.544651 -0.861302  ... -0.000860  0.095230  0.418222 -0.204705   \n",
       "3  0.231420 -0.716721  0.291936  ... -0.016883  0.129614  0.222267 -0.045908   \n",
       "4  0.515134  0.413586  0.250095  ... -0.249886  0.084984 -0.089368  0.016256   \n",
       "\n",
       "       cp95      cp96      cp97      cp98      cp99     cp100  \n",
       "0  0.004488  0.050417 -0.000719  0.130851 -0.016783  0.116808  \n",
       "1 -0.121885  0.180631  0.087919  0.130696  0.076996 -0.072317  \n",
       "2 -0.241493  0.442552 -0.426342  0.057879  0.393264 -0.015882  \n",
       "3  0.131979 -0.085853  0.275211  0.142921 -0.232475 -0.354718  \n",
       "4  0.131160 -0.109179  0.144886 -0.108467  0.000577 -0.279894  \n",
       "\n",
       "[5 rows x 100 columns]"
      ]
     },
     "metadata": {},
     "output_type": "display_data"
    },
    {
     "name": "stdout",
     "output_type": "stream",
     "text": [
      "\n",
      "pca_train_150:\n"
     ]
    },
    {
     "data": {
      "application/vnd.microsoft.datawrangler.viewer.v0+json": {
       "columns": [
        {
         "name": "index",
         "rawType": "int64",
         "type": "integer"
        },
        {
         "name": "cp1",
         "rawType": "float64",
         "type": "float"
        },
        {
         "name": "cp2",
         "rawType": "float64",
         "type": "float"
        },
        {
         "name": "cp3",
         "rawType": "float64",
         "type": "float"
        },
        {
         "name": "cp4",
         "rawType": "float64",
         "type": "float"
        },
        {
         "name": "cp5",
         "rawType": "float64",
         "type": "float"
        },
        {
         "name": "cp6",
         "rawType": "float64",
         "type": "float"
        },
        {
         "name": "cp7",
         "rawType": "float64",
         "type": "float"
        },
        {
         "name": "cp8",
         "rawType": "float64",
         "type": "float"
        },
        {
         "name": "cp9",
         "rawType": "float64",
         "type": "float"
        },
        {
         "name": "cp10",
         "rawType": "float64",
         "type": "float"
        },
        {
         "name": "cp11",
         "rawType": "float64",
         "type": "float"
        },
        {
         "name": "cp12",
         "rawType": "float64",
         "type": "float"
        },
        {
         "name": "cp13",
         "rawType": "float64",
         "type": "float"
        },
        {
         "name": "cp14",
         "rawType": "float64",
         "type": "float"
        },
        {
         "name": "cp15",
         "rawType": "float64",
         "type": "float"
        },
        {
         "name": "cp16",
         "rawType": "float64",
         "type": "float"
        },
        {
         "name": "cp17",
         "rawType": "float64",
         "type": "float"
        },
        {
         "name": "cp18",
         "rawType": "float64",
         "type": "float"
        },
        {
         "name": "cp19",
         "rawType": "float64",
         "type": "float"
        },
        {
         "name": "cp20",
         "rawType": "float64",
         "type": "float"
        },
        {
         "name": "cp21",
         "rawType": "float64",
         "type": "float"
        },
        {
         "name": "cp22",
         "rawType": "float64",
         "type": "float"
        },
        {
         "name": "cp23",
         "rawType": "float64",
         "type": "float"
        },
        {
         "name": "cp24",
         "rawType": "float64",
         "type": "float"
        },
        {
         "name": "cp25",
         "rawType": "float64",
         "type": "float"
        },
        {
         "name": "cp26",
         "rawType": "float64",
         "type": "float"
        },
        {
         "name": "cp27",
         "rawType": "float64",
         "type": "float"
        },
        {
         "name": "cp28",
         "rawType": "float64",
         "type": "float"
        },
        {
         "name": "cp29",
         "rawType": "float64",
         "type": "float"
        },
        {
         "name": "cp30",
         "rawType": "float64",
         "type": "float"
        },
        {
         "name": "cp31",
         "rawType": "float64",
         "type": "float"
        },
        {
         "name": "cp32",
         "rawType": "float64",
         "type": "float"
        },
        {
         "name": "cp33",
         "rawType": "float64",
         "type": "float"
        },
        {
         "name": "cp34",
         "rawType": "float64",
         "type": "float"
        },
        {
         "name": "cp35",
         "rawType": "float64",
         "type": "float"
        },
        {
         "name": "cp36",
         "rawType": "float64",
         "type": "float"
        },
        {
         "name": "cp37",
         "rawType": "float64",
         "type": "float"
        },
        {
         "name": "cp38",
         "rawType": "float64",
         "type": "float"
        },
        {
         "name": "cp39",
         "rawType": "float64",
         "type": "float"
        },
        {
         "name": "cp40",
         "rawType": "float64",
         "type": "float"
        },
        {
         "name": "cp41",
         "rawType": "float64",
         "type": "float"
        },
        {
         "name": "cp42",
         "rawType": "float64",
         "type": "float"
        },
        {
         "name": "cp43",
         "rawType": "float64",
         "type": "float"
        },
        {
         "name": "cp44",
         "rawType": "float64",
         "type": "float"
        },
        {
         "name": "cp45",
         "rawType": "float64",
         "type": "float"
        },
        {
         "name": "cp46",
         "rawType": "float64",
         "type": "float"
        },
        {
         "name": "cp47",
         "rawType": "float64",
         "type": "float"
        },
        {
         "name": "cp48",
         "rawType": "float64",
         "type": "float"
        },
        {
         "name": "cp49",
         "rawType": "float64",
         "type": "float"
        },
        {
         "name": "cp50",
         "rawType": "float64",
         "type": "float"
        },
        {
         "name": "cp51",
         "rawType": "float64",
         "type": "float"
        },
        {
         "name": "cp52",
         "rawType": "float64",
         "type": "float"
        },
        {
         "name": "cp53",
         "rawType": "float64",
         "type": "float"
        },
        {
         "name": "cp54",
         "rawType": "float64",
         "type": "float"
        },
        {
         "name": "cp55",
         "rawType": "float64",
         "type": "float"
        },
        {
         "name": "cp56",
         "rawType": "float64",
         "type": "float"
        },
        {
         "name": "cp57",
         "rawType": "float64",
         "type": "float"
        },
        {
         "name": "cp58",
         "rawType": "float64",
         "type": "float"
        },
        {
         "name": "cp59",
         "rawType": "float64",
         "type": "float"
        },
        {
         "name": "cp60",
         "rawType": "float64",
         "type": "float"
        },
        {
         "name": "cp61",
         "rawType": "float64",
         "type": "float"
        },
        {
         "name": "cp62",
         "rawType": "float64",
         "type": "float"
        },
        {
         "name": "cp63",
         "rawType": "float64",
         "type": "float"
        },
        {
         "name": "cp64",
         "rawType": "float64",
         "type": "float"
        },
        {
         "name": "cp65",
         "rawType": "float64",
         "type": "float"
        },
        {
         "name": "cp66",
         "rawType": "float64",
         "type": "float"
        },
        {
         "name": "cp67",
         "rawType": "float64",
         "type": "float"
        },
        {
         "name": "cp68",
         "rawType": "float64",
         "type": "float"
        },
        {
         "name": "cp69",
         "rawType": "float64",
         "type": "float"
        },
        {
         "name": "cp70",
         "rawType": "float64",
         "type": "float"
        },
        {
         "name": "cp71",
         "rawType": "float64",
         "type": "float"
        },
        {
         "name": "cp72",
         "rawType": "float64",
         "type": "float"
        },
        {
         "name": "cp73",
         "rawType": "float64",
         "type": "float"
        },
        {
         "name": "cp74",
         "rawType": "float64",
         "type": "float"
        },
        {
         "name": "cp75",
         "rawType": "float64",
         "type": "float"
        },
        {
         "name": "cp76",
         "rawType": "float64",
         "type": "float"
        },
        {
         "name": "cp77",
         "rawType": "float64",
         "type": "float"
        },
        {
         "name": "cp78",
         "rawType": "float64",
         "type": "float"
        },
        {
         "name": "cp79",
         "rawType": "float64",
         "type": "float"
        },
        {
         "name": "cp80",
         "rawType": "float64",
         "type": "float"
        },
        {
         "name": "cp81",
         "rawType": "float64",
         "type": "float"
        },
        {
         "name": "cp82",
         "rawType": "float64",
         "type": "float"
        },
        {
         "name": "cp83",
         "rawType": "float64",
         "type": "float"
        },
        {
         "name": "cp84",
         "rawType": "float64",
         "type": "float"
        },
        {
         "name": "cp85",
         "rawType": "float64",
         "type": "float"
        },
        {
         "name": "cp86",
         "rawType": "float64",
         "type": "float"
        },
        {
         "name": "cp87",
         "rawType": "float64",
         "type": "float"
        },
        {
         "name": "cp88",
         "rawType": "float64",
         "type": "float"
        },
        {
         "name": "cp89",
         "rawType": "float64",
         "type": "float"
        },
        {
         "name": "cp90",
         "rawType": "float64",
         "type": "float"
        },
        {
         "name": "cp91",
         "rawType": "float64",
         "type": "float"
        },
        {
         "name": "cp92",
         "rawType": "float64",
         "type": "float"
        },
        {
         "name": "cp93",
         "rawType": "float64",
         "type": "float"
        },
        {
         "name": "cp94",
         "rawType": "float64",
         "type": "float"
        },
        {
         "name": "cp95",
         "rawType": "float64",
         "type": "float"
        },
        {
         "name": "cp96",
         "rawType": "float64",
         "type": "float"
        },
        {
         "name": "cp97",
         "rawType": "float64",
         "type": "float"
        },
        {
         "name": "cp98",
         "rawType": "float64",
         "type": "float"
        },
        {
         "name": "cp99",
         "rawType": "float64",
         "type": "float"
        },
        {
         "name": "cp100",
         "rawType": "float64",
         "type": "float"
        },
        {
         "name": "cp101",
         "rawType": "float64",
         "type": "float"
        },
        {
         "name": "cp102",
         "rawType": "float64",
         "type": "float"
        },
        {
         "name": "cp103",
         "rawType": "float64",
         "type": "float"
        },
        {
         "name": "cp104",
         "rawType": "float64",
         "type": "float"
        },
        {
         "name": "cp105",
         "rawType": "float64",
         "type": "float"
        },
        {
         "name": "cp106",
         "rawType": "float64",
         "type": "float"
        },
        {
         "name": "cp107",
         "rawType": "float64",
         "type": "float"
        },
        {
         "name": "cp108",
         "rawType": "float64",
         "type": "float"
        },
        {
         "name": "cp109",
         "rawType": "float64",
         "type": "float"
        },
        {
         "name": "cp110",
         "rawType": "float64",
         "type": "float"
        },
        {
         "name": "cp111",
         "rawType": "float64",
         "type": "float"
        },
        {
         "name": "cp112",
         "rawType": "float64",
         "type": "float"
        },
        {
         "name": "cp113",
         "rawType": "float64",
         "type": "float"
        },
        {
         "name": "cp114",
         "rawType": "float64",
         "type": "float"
        },
        {
         "name": "cp115",
         "rawType": "float64",
         "type": "float"
        },
        {
         "name": "cp116",
         "rawType": "float64",
         "type": "float"
        },
        {
         "name": "cp117",
         "rawType": "float64",
         "type": "float"
        },
        {
         "name": "cp118",
         "rawType": "float64",
         "type": "float"
        },
        {
         "name": "cp119",
         "rawType": "float64",
         "type": "float"
        },
        {
         "name": "cp120",
         "rawType": "float64",
         "type": "float"
        },
        {
         "name": "cp121",
         "rawType": "float64",
         "type": "float"
        },
        {
         "name": "cp122",
         "rawType": "float64",
         "type": "float"
        },
        {
         "name": "cp123",
         "rawType": "float64",
         "type": "float"
        },
        {
         "name": "cp124",
         "rawType": "float64",
         "type": "float"
        },
        {
         "name": "cp125",
         "rawType": "float64",
         "type": "float"
        },
        {
         "name": "cp126",
         "rawType": "float64",
         "type": "float"
        },
        {
         "name": "cp127",
         "rawType": "float64",
         "type": "float"
        },
        {
         "name": "cp128",
         "rawType": "float64",
         "type": "float"
        },
        {
         "name": "cp129",
         "rawType": "float64",
         "type": "float"
        },
        {
         "name": "cp130",
         "rawType": "float64",
         "type": "float"
        },
        {
         "name": "cp131",
         "rawType": "float64",
         "type": "float"
        },
        {
         "name": "cp132",
         "rawType": "float64",
         "type": "float"
        },
        {
         "name": "cp133",
         "rawType": "float64",
         "type": "float"
        },
        {
         "name": "cp134",
         "rawType": "float64",
         "type": "float"
        },
        {
         "name": "cp135",
         "rawType": "float64",
         "type": "float"
        },
        {
         "name": "cp136",
         "rawType": "float64",
         "type": "float"
        },
        {
         "name": "cp137",
         "rawType": "float64",
         "type": "float"
        },
        {
         "name": "cp138",
         "rawType": "float64",
         "type": "float"
        },
        {
         "name": "cp139",
         "rawType": "float64",
         "type": "float"
        },
        {
         "name": "cp140",
         "rawType": "float64",
         "type": "float"
        },
        {
         "name": "cp141",
         "rawType": "float64",
         "type": "float"
        },
        {
         "name": "cp142",
         "rawType": "float64",
         "type": "float"
        },
        {
         "name": "cp143",
         "rawType": "float64",
         "type": "float"
        },
        {
         "name": "cp144",
         "rawType": "float64",
         "type": "float"
        },
        {
         "name": "cp145",
         "rawType": "float64",
         "type": "float"
        },
        {
         "name": "cp146",
         "rawType": "float64",
         "type": "float"
        },
        {
         "name": "cp147",
         "rawType": "float64",
         "type": "float"
        },
        {
         "name": "cp148",
         "rawType": "float64",
         "type": "float"
        },
        {
         "name": "cp149",
         "rawType": "float64",
         "type": "float"
        },
        {
         "name": "cp150",
         "rawType": "float64",
         "type": "float"
        }
       ],
       "conversionMethod": "pd.DataFrame",
       "ref": "8a6843d0-7e59-4aba-9c47-1190c77fa3a6",
       "rows": [
        [
         "0",
         "-6.121258731457024",
         "2.296441169066606",
         "-2.1466275008959683",
         "0.572643995378127",
         "0.10655245332835217",
         "-1.008275908745595",
         "-0.24533035211641913",
         "-0.3224914793737441",
         "-0.5321493375101893",
         "0.07374931192816948",
         "0.02378645689085951",
         "-0.7620309788573537",
         "0.1295580552224495",
         "-0.03498408490588681",
         "0.186750993855994",
         "-0.45307730656014594",
         "0.26908265117668234",
         "0.4310774283169468",
         "-0.21180904926264205",
         "-0.5364987817609141",
         "-0.158125664728132",
         "-0.6188434754375153",
         "0.10356994140563591",
         "-0.16325519788424858",
         "-0.20253498026843253",
         "-0.12981328715415624",
         "0.2701718911740363",
         "-0.03767996675664392",
         "-0.19895457063883953",
         "-0.010505161455645874",
         "-0.006487479831595533",
         "-0.08268354632847562",
         "0.00815670214962913",
         "0.19444711497982586",
         "-0.20130511613510416",
         "0.39869197507586007",
         "0.72348614725246",
         "0.29004661191157877",
         "-0.11001276477343158",
         "-0.017051256864577286",
         "0.2935054026465488",
         "0.1702450060236791",
         "0.24803070535204735",
         "0.059565692640139306",
         "0.25840878780329357",
         "-0.2617193389875859",
         "-0.06257774521534581",
         "0.14665233128949193",
         "0.06530865817773616",
         "0.01705900733050241",
         "-0.2498508554412201",
         "0.5397858919872408",
         "-0.07357176546257188",
         "-0.16830047689506472",
         "-0.2721738436634126",
         "0.07341419943480108",
         "-0.17884133257680948",
         "0.226791497418251",
         "0.21246560037152004",
         "0.18932118233766848",
         "-0.3648714436570518",
         "-0.10605805248157985",
         "-0.1877120059206821",
         "-0.14842127679219616",
         "-0.014220902600982799",
         "0.1621972489199827",
         "-0.04232235753330102",
         "-0.2542477421685162",
         "-0.2835714758398993",
         "0.10347002261462351",
         "-0.2590320866578926",
         "0.1415143518372319",
         "-0.02477926645294759",
         "-0.00468906212458732",
         "-0.05662625827586294",
         "0.07494569391079552",
         "-0.2898891644037155",
         "0.02817658534130142",
         "0.06772386062082765",
         "0.28309803043817944",
         "0.203610224978418",
         "0.06355492707266978",
         "0.30202815074066686",
         "-0.1224569236944539",
         "0.07959988719627839",
         "-0.22985765657807206",
         "-0.26511371720422017",
         "-0.014098348028736857",
         "0.07459676692732205",
         "0.05954871421716677",
         "0.05617180894442639",
         "0.16447733415886656",
         "0.2532328161337338",
         "-0.13986377270897238",
         "-0.11919611166128843",
         "0.09392894622757195",
         "-0.022246045948126198",
         "0.1630861698002232",
         "-0.0853080360152032",
         "0.10771406860053391",
         "0.12536838294960284",
         "0.1791886529131636",
         "-0.16584122768282128",
         "0.1521255637445498",
         "-0.019242158459055407",
         "-0.003344183850632357",
         "0.11962533312809569",
         "-0.06972141124343281",
         "0.017628405118804535",
         "0.08606450797470747",
         "0.12140263397033653",
         "-0.03852582446277852",
         "-0.002089569250449827",
         "-0.13148012124426361",
         "0.19964770137420235",
         "0.07782085521888675",
         "-0.20733757752356347",
         "0.08376427641478432",
         "0.14003250314202936",
         "0.1757407204188803",
         "0.01919617955352218",
         "0.023647272081574994",
         "0.07974202377509826",
         "0.20848203753375258",
         "0.02663105837322627",
         "0.048121184083653255",
         "0.10234499394324298",
         "-0.06540388211548964",
         "-0.08577240172074004",
         "0.08094391823374351",
         "0.0650525816858914",
         "-0.03414921292153303",
         "0.044625004687921854",
         "-0.04368758010365255",
         "0.013521836518704602",
         "-0.1183508288246195",
         "0.02128341342855869",
         "0.072955649873367",
         "-0.059344878947534915",
         "0.16664623861960082",
         "0.005718088566571404",
         "-0.08394048810739199",
         "0.001358171290067628",
         "0.07394133685658055",
         "0.06488777628797715",
         "-0.05214939586134221",
         "0.0518192931962263",
         "0.06645455292917067",
         "0.04202227375627424",
         "0.032920869336697356"
        ],
        [
         "1",
         "-5.184451316087966",
         "-0.712839861579275",
         "-1.3881399470088067",
         "0.42012186715766475",
         "0.6254496199373645",
         "0.6514480232026579",
         "-0.5019371009851654",
         "0.3036524695023231",
         "0.38349993233013646",
         "0.18130197260426495",
         "0.41999694219955686",
         "0.8299061456064716",
         "-0.09635250219760111",
         "-0.32431232150586564",
         "0.4092302935740221",
         "-0.29188022549990095",
         "-0.37474337695549165",
         "-0.34211353222030705",
         "-0.09767839495399128",
         "0.9287939116255703",
         "0.012045937016389839",
         "0.39316413139491796",
         "0.2126465724039983",
         "-0.2552793634194145",
         "0.31869538671361985",
         "-0.6052364235571769",
         "-0.017123525574254034",
         "0.3727625127885402",
         "0.02771256456957629",
         "0.24574602362126663",
         "0.060446937492374495",
         "0.0918983081440041",
         "0.1951508260329004",
         "0.5510383495173056",
         "0.03795275068389248",
         "-0.1577744437516257",
         "-0.2115731001341678",
         "-0.17755879458761173",
         "0.1457224693365571",
         "-0.1588126414895633",
         "-0.3759112177089725",
         "-0.20346279862511557",
         "-0.18440324201361946",
         "-0.2541943530687924",
         "0.2563101465388936",
         "0.3120313232341825",
         "0.1896509438356796",
         "-0.3058625156873238",
         "-0.29978746566756687",
         "-0.06215290345643974",
         "-0.07137505305804052",
         "-0.11415455269029456",
         "-0.03270360469119844",
         "0.2755734358127192",
         "-0.3182556974355256",
         "0.18580016660140483",
         "0.26546518115604817",
         "0.05806157381706516",
         "-0.21882923603035676",
         "-0.12061244960447828",
         "0.19442893956217663",
         "0.16327906932027136",
         "0.04006819401635797",
         "0.17009561366087128",
         "-0.14110377113236383",
         "0.011373680412715512",
         "-0.1309464353345127",
         "0.2758640469062349",
         "-0.06639672246261491",
         "-0.11553603002259985",
         "0.012176069142235839",
         "0.04848382756644874",
         "0.05372066127510122",
         "0.1537465030882427",
         "0.14216696083735414",
         "0.09354151259756426",
         "-0.11406698938330895",
         "-0.002885797817752056",
         "-0.13558122481707896",
         "0.09803834680278471",
         "-0.09588062384642254",
         "0.08331605947850193",
         "-0.12068645794397595",
         "0.10012767310441098",
         "0.07163597524914518",
         "-0.11053740430438543",
         "0.11666499999459373",
         "-0.25905146966803627",
         "-0.10795701799980342",
         "0.19808536325922277",
         "-0.07470966536025248",
         "-0.08927766947164975",
         "-0.26250243422578573",
         "0.14272404868618774",
         "-0.17511392221039504",
         "0.11619611921980652",
         "0.09547630924286686",
         "0.1250692999300337",
         "-0.09270872687665974",
         "-0.0757966401579614",
         "0.02758219028797389",
         "-0.09954490573999913",
         "0.08150976372820165",
         "0.11712558391350861",
         "0.12620888225477606",
         "-0.10341454362320557",
         "-0.04416261246199041",
         "0.011455827673280038",
         "0.053520625565178045",
         "-0.16589273565101842",
         "0.04610189187445754",
         "-0.06599321186182461",
         "-0.13623761683849514",
         "-0.009904355566016829",
         "-0.008485851150964481",
         "-0.08956871404527574",
         "0.1900582534853287",
         "-0.10071717811227585",
         "0.09804799453693389",
         "-0.1685893051742657",
         "0.12816475293798457",
         "-0.05246983621903462",
         "-0.11291522460791079",
         "-0.061650316891484216",
         "-0.019533278689632505",
         "0.05760777219523744",
         "-0.04732350196258575",
         "-0.16770138503117657",
         "0.06821278988878415",
         "-0.026139292092218956",
         "0.06669433952595404",
         "-0.04449505602439208",
         "0.01584747184298367",
         "0.08055229730822577",
         "-0.0032189692677707382",
         "0.04241096861814114",
         "0.10323355986985494",
         "0.12026362426310572",
         "0.053675611837463805",
         "-0.026816297978965148",
         "0.026033370759106444",
         "-0.05634839416751579",
         "-0.07774574926354241",
         "-0.060196671572258754",
         "0.04916805842069433",
         "-0.0748981225185322",
         "-0.053926005296491566",
         "-0.07732166364220007",
         "-0.04459571316639621",
         "0.014680075471866283"
        ],
        [
         "2",
         "-2.473830264466756",
         "-2.9946407515626596",
         "3.373997071829516",
         "0.3732218439519317",
         "1.8479458473935775",
         "1.2658700266389362",
         "1.16931461128571",
         "-0.5161783315104669",
         "-0.544651493339575",
         "-0.861301465040582",
         "-1.1828077550002125",
         "-0.3387876601657066",
         "-1.5900359896347573",
         "0.931931886218413",
         "-0.1523932399015841",
         "-0.25286172271434093",
         "-0.28653945452519913",
         "-0.1789397237289891",
         "0.05399307788270501",
         "-0.48289606109430777",
         "-0.6660967000112928",
         "1.0244251114479135",
         "0.6576744936360843",
         "-0.1335275100591063",
         "0.06430783690500111",
         "0.5298722888296961",
         "0.2698695942250356",
         "1.0976984586606326",
         "0.6672941813078744",
         "0.6775584901851178",
         "0.19894881328053265",
         "0.6801268757955545",
         "0.6501209324611341",
         "-0.30347886127279095",
         "-0.3800099454129958",
         "0.0734853435377838",
         "0.25392184968197556",
         "0.9707476622212527",
         "-0.06124946376137072",
         "0.39416798883040166",
         "0.32371014582580354",
         "0.43931384975919613",
         "-0.32984124551099675",
         "0.27789179200644754",
         "1.242178824149516",
         "-0.11005473876092914",
         "1.1587301596346893",
         "0.6063033465629835",
         "-0.9041625066287308",
         "-0.47945819088746455",
         "0.012277080168594856",
         "0.5486466491448139",
         "0.3203033052656793",
         "-0.2642920627711924",
         "0.1709808123567843",
         "0.5158704137908567",
         "-0.12627935081759395",
         "-0.6649217388866147",
         "0.8862944946085818",
         "0.25772688883157924",
         "0.40454107894296687",
         "0.5944297521008003",
         "-0.3122233423827362",
         "-0.23211187664968658",
         "-0.4984651193251365",
         "0.7162278251585252",
         "-0.5618951328674697",
         "0.5157954615529394",
         "-0.36971744335259615",
         "0.17868875221276598",
         "-0.009759675664740286",
         "-0.032775248709881556",
         "0.32405064151660556",
         "0.4931279975648391",
         "0.40514737944131757",
         "-0.32332522249322243",
         "0.7749854559756156",
         "0.12494914268854662",
         "-0.2663192858123946",
         "-0.042512587880002645",
         "0.4062363549953391",
         "-0.06320501806192474",
         "0.13982014967130302",
         "-0.5475353358765513",
         "0.1376680408240353",
         "0.06484635884956919",
         "0.09513428823129592",
         "0.20597265555351188",
         "0.30102253304130877",
         "-0.39506859376459635",
         "-0.09577479555123639",
         "0.054046994476831964",
         "0.3205392448577823",
         "0.06437068190517062",
         "-0.4920881224183026",
         "0.1573453746425234",
         "-0.30226970849369567",
         "-0.006486358985951027",
         "0.22423305170219146",
         "-0.2519481834179215",
         "0.06436953184790037",
         "-0.3799037128467287",
         "0.019033105737536554",
         "-0.20851320862375985",
         "-0.30537790128285536",
         "-0.3615139354067004",
         "-0.2711993251341673",
         "0.15844950203069996",
         "0.3371733098102389",
         "-0.3194182316544335",
         "0.17532115790245473",
         "-0.267989799672318",
         "-0.12225230234713194",
         "0.2251353026063438",
         "-0.142064388408924",
         "-0.017530507923204697",
         "-0.17558278936691152",
         "0.17077810082884254",
         "-0.29974251312129174",
         "0.10186171390426466",
         "-0.05352750029968585",
         "-0.07451976914342157",
         "-0.5737728818553831",
         "-0.05230205141561185",
         "0.26537984664965125",
         "-0.33543729932975186",
         "0.1721870725341143",
         "0.07900845693237445",
         "-0.4065726605433454",
         "-0.07039972918429929",
         "-0.34654675714411015",
         "-0.06568773902972552",
         "0.135417329536704",
         "-0.0882494982121993",
         "0.14474379809608906",
         "0.18412911647160218",
         "-0.18965584262306853",
         "0.18711252700510905",
         "0.07113839156091331",
         "0.1786701168669303",
         "0.02658497190690301",
         "-0.14614142170049627",
         "-0.1069342899078328",
         "0.10800607575421545",
         "-0.09400372387582231",
         "-0.2636527578946299",
         "-0.2703267792284065",
         "-0.042242400452184706",
         "0.1781394206641337",
         "-0.14857231251993913"
        ],
        [
         "3",
         "-5.826140701048593",
         "0.3089280273722118",
         "2.472890474106001",
         "0.3980195073081598",
         "0.38135122351474565",
         "0.2040113879772388",
         "0.8423631370341824",
         "0.23142027377563612",
         "-0.7167205971586151",
         "0.2919362777479523",
         "-0.12481105225225057",
         "1.249657340576457",
         "0.6053422652514945",
         "0.4035876320399152",
         "-0.6774666543115564",
         "-0.6627748479526165",
         "0.9795689572930093",
         "-0.2975791735890765",
         "-0.06504783886138635",
         "-0.24409803967424276",
         "-0.3675087326885635",
         "0.5507829057099545",
         "0.8023496742043641",
         "0.18792631510281843",
         "0.06049933362820188",
         "1.2436511641376256",
         "-0.5601215096738348",
         "-0.34295803692047466",
         "0.2992120614088386",
         "0.4350383201269291",
         "0.7063879871838946",
         "-0.44625214451348083",
         "0.20644375372013224",
         "-0.9617676517109626",
         "0.5422488752321132",
         "-0.24634018071506023",
         "-0.4783740648347421",
         "-0.1389302801575139",
         "-0.21016974819834086",
         "0.08745225694106407",
         "-0.5044639191522255",
         "-0.10629929615818565",
         "-0.15894117953252138",
         "-0.0862086624409337",
         "-0.35271954683103074",
         "-0.06755919671321334",
         "-0.09788046487065777",
         "-0.6125878514839451",
         "-0.09217661999373089",
         "0.05748932150449931",
         "0.4800565096676894",
         "0.2549672044288601",
         "-0.4389932791526558",
         "-0.2720062605752381",
         "0.23267588030784703",
         "0.2929138302554505",
         "0.14167108975585496",
         "-0.6589219806938184",
         "0.22659546467475927",
         "-0.3657553737968105",
         "-0.005248728866221242",
         "-0.021796169001787644",
         "0.010669819944411223",
         "-0.1731026524539831",
         "-0.17518993563651156",
         "0.07635845658239193",
         "-0.24276492335133615",
         "0.433288597081777",
         "0.025198145090416804",
         "-0.1376045377331664",
         "0.12850758138419613",
         "-0.28882926454313895",
         "-0.09486254550021961",
         "0.10577826755889237",
         "0.09803001028210587",
         "0.22102967868325002",
         "-0.2020258567940032",
         "-0.0293321942723601",
         "-0.14274568103219099",
         "-0.06592405236838601",
         "0.11490133516192132",
         "0.059315244197516145",
         "-0.06844961967018612",
         "0.1770353734517528",
         "-0.1300740209569546",
         "-0.4577957424565684",
         "-0.000866303254191042",
         "-0.20397082674786982",
         "0.056762538361062626",
         "-0.026773375503984523",
         "-0.16036823135441183",
         "0.07309858027014099",
         "0.2964227103250026",
         "0.08580002391531291",
         "0.2094712220069892",
         "0.026637616444878096",
         "0.17513152337076943",
         "0.06425914407347735",
         "-0.23075906624437934",
         "-0.05053221479389833",
         "-0.2605875538521613",
         "0.05184245163648472",
         "0.21132555911509993",
         "0.19084091299974093",
         "0.2984325472571642",
         "-0.15561992306902916",
         "-0.25465850964249537",
         "0.09409442289987986",
         "-0.17119402849397988",
         "0.10483989967963557",
         "-0.0026167351884952283",
         "0.08589339363614357",
         "0.05379468950873976",
         "-0.10954580789867466",
         "-0.12212224081630232",
         "0.05234900438522009",
         "-0.1305203706764503",
         "-0.08159864995543165",
         "-0.14413307383027207",
         "0.011866497679916675",
         "-0.03372614517284761",
         "0.14888952788024756",
         "-0.0005338548274258469",
         "0.03901351027948535",
         "0.003702355638426247",
         "-0.0492492413951546",
         "-0.07860679680519583",
         "0.020281434730195266",
         "-0.06697495215754729",
         "0.24533104586557464",
         "-0.09400376359055289",
         "-0.05879263423339115",
         "0.06586243844602122",
         "0.08084634062787432",
         "0.01597434620085693",
         "0.0041386190607186485",
         "-0.07722670034648463",
         "0.07443980806003653",
         "0.17934910873737867",
         "-0.013081003343181265",
         "-0.09275665795048564",
         "0.011627953348066544",
         "0.0763440450042661",
         "-0.005687723401962219",
         "0.06277192891403804",
         "-0.0087769685686295",
         "-0.09949252430460646",
         "0.058261757003885015",
         "0.003343545577951995",
         "0.030762519949144473"
        ],
        [
         "4",
         "-5.799838213117976",
         "1.3203404628137194",
         "-1.7329202852688979",
         "0.07592748899284592",
         "-0.43348066010765296",
         "-0.35800992076055327",
         "-0.6936867610341888",
         "0.5151337741889062",
         "0.41358567573531635",
         "0.250094792747948",
         "0.8928460092631426",
         "-0.06234624245390857",
         "-0.18363206213712416",
         "0.10194521644588256",
         "-0.16884788431973663",
         "0.6381366720748871",
         "0.20656078215040605",
         "-0.1998928221562254",
         "-0.10651182388536656",
         "0.35040673199629857",
         "-0.1018988832970163",
         "-0.4570062324196091",
         "-0.22264950394457095",
         "0.2345754374075102",
         "0.1797542676391995",
         "-0.018882774220655024",
         "0.6099413763374731",
         "0.16743730360730838",
         "-0.07611768326467674",
         "0.004365593348805513",
         "0.39408217252223154",
         "0.128207173434233",
         "-0.04795909909661837",
         "0.11321535293185474",
         "0.36388706588210395",
         "0.034342314943940286",
         "-0.04792074804748503",
         "-0.022383341625120817",
         "-0.42376179255731405",
         "0.12042576237991304",
         "-0.3378286165731368",
         "-0.2297564425018031",
         "0.35071618342733607",
         "-0.270394121974387",
         "0.10961542088220663",
         "0.14818230460082318",
         "0.07018982450567056",
         "-0.06452639554256617",
         "0.18109279146467966",
         "0.015088934796847642",
         "-0.1441889426976845",
         "0.11226744383086171",
         "0.214348250763931",
         "-0.11797908540090636",
         "0.027671114806046115",
         "0.12957572812015536",
         "0.2215409263220044",
         "0.10111552603799971",
         "-0.0972381737039431",
         "0.1364148266554134",
         "0.3545244834861258",
         "-0.005403399584570791",
         "-0.2525641313542869",
         "-0.22671483817841662",
         "-0.25992188769365565",
         "0.13219092229175933",
         "0.07333010284843591",
         "0.27251597527291155",
         "0.11258206101248701",
         "0.1854737092588286",
         "0.0574060460041175",
         "0.04535552251360381",
         "-0.0277637618541223",
         "-0.035579007665172135",
         "-0.1045173827923828",
         "-0.09186716216046736",
         "0.003467249482355994",
         "0.05297595862691681",
         "-0.028993944110790544",
         "-0.18993070196214404",
         "0.21744521739386818",
         "0.13686097824584165",
         "-0.0454831630652594",
         "-0.015540062984553876",
         "-0.02442905170612276",
         "0.022521803190182335",
         "-0.05977755747503246",
         "0.0551213477218771",
         "0.06597950902480408",
         "0.08738537872888591",
         "-0.23979534694516189",
         "0.047222593226649595",
         "-0.0995774885809434",
         "-0.07058626094858839",
         "0.19790866282173253",
         "-0.040325215035109156",
         "0.03410475471627065",
         "-0.09679041696466302",
         "-0.09835715291839074",
         "-0.22015483705047192",
         "-0.1314403608227784",
         "0.028690458097825583",
         "0.05910934858002437",
         "0.2420128318350394",
         "0.14846978820693843",
         "-0.08821460354825852",
         "0.1502432936158789",
         "0.0570288147381872",
         "0.08656499390697645",
         "-0.03252170705519308",
         "0.00957779813449286",
         "-0.21384900825603415",
         "0.028681092693827195",
         "0.04437613154327705",
         "0.09654814520864519",
         "-0.1185753159175611",
         "0.07108558700161069",
         "-0.03820163400884044",
         "-0.01285998935497315",
         "-0.058573337775600726",
         "-0.060008861741280964",
         "-0.0802406442288027",
         "-0.030958305040200397",
         "-0.03458405188675509",
         "-0.03710363163943166",
         "-0.0015182938432791102",
         "-0.09785305078913574",
         "0.14296632331202755",
         "0.026724058516850634",
         "-0.09193682950773197",
         "0.03204755430804378",
         "0.06843837678537254",
         "0.030700272512725724",
         "-0.01573929346290559",
         "-0.08875058858051521",
         "-0.03900084449723146",
         "-0.0703941904685923",
         "-0.03735942466884264",
         "0.10940841301072712",
         "0.006000154382094546",
         "-0.0043536116514746315",
         "0.015963156668765376",
         "0.13438041158655073",
         "-0.02185405837460154",
         "0.009290848363838547",
         "0.01947191965560205",
         "-0.034309919511332984",
         "0.09643990213070226",
         "-0.13319238004054665",
         "0.041773825455776736"
        ]
       ],
       "shape": {
        "columns": 150,
        "rows": 5
       }
      },
      "text/html": [
       "<div>\n",
       "<style scoped>\n",
       "    .dataframe tbody tr th:only-of-type {\n",
       "        vertical-align: middle;\n",
       "    }\n",
       "\n",
       "    .dataframe tbody tr th {\n",
       "        vertical-align: top;\n",
       "    }\n",
       "\n",
       "    .dataframe thead th {\n",
       "        text-align: right;\n",
       "    }\n",
       "</style>\n",
       "<table border=\"1\" class=\"dataframe\">\n",
       "  <thead>\n",
       "    <tr style=\"text-align: right;\">\n",
       "      <th></th>\n",
       "      <th>cp1</th>\n",
       "      <th>cp2</th>\n",
       "      <th>cp3</th>\n",
       "      <th>cp4</th>\n",
       "      <th>cp5</th>\n",
       "      <th>cp6</th>\n",
       "      <th>cp7</th>\n",
       "      <th>cp8</th>\n",
       "      <th>cp9</th>\n",
       "      <th>cp10</th>\n",
       "      <th>...</th>\n",
       "      <th>cp141</th>\n",
       "      <th>cp142</th>\n",
       "      <th>cp143</th>\n",
       "      <th>cp144</th>\n",
       "      <th>cp145</th>\n",
       "      <th>cp146</th>\n",
       "      <th>cp147</th>\n",
       "      <th>cp148</th>\n",
       "      <th>cp149</th>\n",
       "      <th>cp150</th>\n",
       "    </tr>\n",
       "  </thead>\n",
       "  <tbody>\n",
       "    <tr>\n",
       "      <th>0</th>\n",
       "      <td>-6.121259</td>\n",
       "      <td>2.296441</td>\n",
       "      <td>-2.146628</td>\n",
       "      <td>0.572644</td>\n",
       "      <td>0.106552</td>\n",
       "      <td>-1.008276</td>\n",
       "      <td>-0.245330</td>\n",
       "      <td>-0.322491</td>\n",
       "      <td>-0.532149</td>\n",
       "      <td>0.073749</td>\n",
       "      <td>...</td>\n",
       "      <td>0.005718</td>\n",
       "      <td>-0.083940</td>\n",
       "      <td>0.001358</td>\n",
       "      <td>0.073941</td>\n",
       "      <td>0.064888</td>\n",
       "      <td>-0.052149</td>\n",
       "      <td>0.051819</td>\n",
       "      <td>0.066455</td>\n",
       "      <td>0.042022</td>\n",
       "      <td>0.032921</td>\n",
       "    </tr>\n",
       "    <tr>\n",
       "      <th>1</th>\n",
       "      <td>-5.184451</td>\n",
       "      <td>-0.712840</td>\n",
       "      <td>-1.388140</td>\n",
       "      <td>0.420122</td>\n",
       "      <td>0.625450</td>\n",
       "      <td>0.651448</td>\n",
       "      <td>-0.501937</td>\n",
       "      <td>0.303652</td>\n",
       "      <td>0.383500</td>\n",
       "      <td>0.181302</td>\n",
       "      <td>...</td>\n",
       "      <td>0.026033</td>\n",
       "      <td>-0.056348</td>\n",
       "      <td>-0.077746</td>\n",
       "      <td>-0.060197</td>\n",
       "      <td>0.049168</td>\n",
       "      <td>-0.074898</td>\n",
       "      <td>-0.053926</td>\n",
       "      <td>-0.077322</td>\n",
       "      <td>-0.044596</td>\n",
       "      <td>0.014680</td>\n",
       "    </tr>\n",
       "    <tr>\n",
       "      <th>2</th>\n",
       "      <td>-2.473830</td>\n",
       "      <td>-2.994641</td>\n",
       "      <td>3.373997</td>\n",
       "      <td>0.373222</td>\n",
       "      <td>1.847946</td>\n",
       "      <td>1.265870</td>\n",
       "      <td>1.169315</td>\n",
       "      <td>-0.516178</td>\n",
       "      <td>-0.544651</td>\n",
       "      <td>-0.861301</td>\n",
       "      <td>...</td>\n",
       "      <td>0.026585</td>\n",
       "      <td>-0.146141</td>\n",
       "      <td>-0.106934</td>\n",
       "      <td>0.108006</td>\n",
       "      <td>-0.094004</td>\n",
       "      <td>-0.263653</td>\n",
       "      <td>-0.270327</td>\n",
       "      <td>-0.042242</td>\n",
       "      <td>0.178139</td>\n",
       "      <td>-0.148572</td>\n",
       "    </tr>\n",
       "    <tr>\n",
       "      <th>3</th>\n",
       "      <td>-5.826141</td>\n",
       "      <td>0.308928</td>\n",
       "      <td>2.472890</td>\n",
       "      <td>0.398020</td>\n",
       "      <td>0.381351</td>\n",
       "      <td>0.204011</td>\n",
       "      <td>0.842363</td>\n",
       "      <td>0.231420</td>\n",
       "      <td>-0.716721</td>\n",
       "      <td>0.291936</td>\n",
       "      <td>...</td>\n",
       "      <td>-0.092757</td>\n",
       "      <td>0.011628</td>\n",
       "      <td>0.076344</td>\n",
       "      <td>-0.005688</td>\n",
       "      <td>0.062772</td>\n",
       "      <td>-0.008777</td>\n",
       "      <td>-0.099493</td>\n",
       "      <td>0.058262</td>\n",
       "      <td>0.003344</td>\n",
       "      <td>0.030763</td>\n",
       "    </tr>\n",
       "    <tr>\n",
       "      <th>4</th>\n",
       "      <td>-5.799838</td>\n",
       "      <td>1.320340</td>\n",
       "      <td>-1.732920</td>\n",
       "      <td>0.075927</td>\n",
       "      <td>-0.433481</td>\n",
       "      <td>-0.358010</td>\n",
       "      <td>-0.693687</td>\n",
       "      <td>0.515134</td>\n",
       "      <td>0.413586</td>\n",
       "      <td>0.250095</td>\n",
       "      <td>...</td>\n",
       "      <td>-0.004354</td>\n",
       "      <td>0.015963</td>\n",
       "      <td>0.134380</td>\n",
       "      <td>-0.021854</td>\n",
       "      <td>0.009291</td>\n",
       "      <td>0.019472</td>\n",
       "      <td>-0.034310</td>\n",
       "      <td>0.096440</td>\n",
       "      <td>-0.133192</td>\n",
       "      <td>0.041774</td>\n",
       "    </tr>\n",
       "  </tbody>\n",
       "</table>\n",
       "<p>5 rows × 150 columns</p>\n",
       "</div>"
      ],
      "text/plain": [
       "        cp1       cp2       cp3       cp4       cp5       cp6       cp7  \\\n",
       "0 -6.121259  2.296441 -2.146628  0.572644  0.106552 -1.008276 -0.245330   \n",
       "1 -5.184451 -0.712840 -1.388140  0.420122  0.625450  0.651448 -0.501937   \n",
       "2 -2.473830 -2.994641  3.373997  0.373222  1.847946  1.265870  1.169315   \n",
       "3 -5.826141  0.308928  2.472890  0.398020  0.381351  0.204011  0.842363   \n",
       "4 -5.799838  1.320340 -1.732920  0.075927 -0.433481 -0.358010 -0.693687   \n",
       "\n",
       "        cp8       cp9      cp10  ...     cp141     cp142     cp143     cp144  \\\n",
       "0 -0.322491 -0.532149  0.073749  ...  0.005718 -0.083940  0.001358  0.073941   \n",
       "1  0.303652  0.383500  0.181302  ...  0.026033 -0.056348 -0.077746 -0.060197   \n",
       "2 -0.516178 -0.544651 -0.861301  ...  0.026585 -0.146141 -0.106934  0.108006   \n",
       "3  0.231420 -0.716721  0.291936  ... -0.092757  0.011628  0.076344 -0.005688   \n",
       "4  0.515134  0.413586  0.250095  ... -0.004354  0.015963  0.134380 -0.021854   \n",
       "\n",
       "      cp145     cp146     cp147     cp148     cp149     cp150  \n",
       "0  0.064888 -0.052149  0.051819  0.066455  0.042022  0.032921  \n",
       "1  0.049168 -0.074898 -0.053926 -0.077322 -0.044596  0.014680  \n",
       "2 -0.094004 -0.263653 -0.270327 -0.042242  0.178139 -0.148572  \n",
       "3  0.062772 -0.008777 -0.099493  0.058262  0.003344  0.030763  \n",
       "4  0.009291  0.019472 -0.034310  0.096440 -0.133192  0.041774  \n",
       "\n",
       "[5 rows x 150 columns]"
      ]
     },
     "metadata": {},
     "output_type": "display_data"
    },
    {
     "name": "stdout",
     "output_type": "stream",
     "text": [
      "\n",
      "pca_train_200:\n"
     ]
    },
    {
     "data": {
      "application/vnd.microsoft.datawrangler.viewer.v0+json": {
       "columns": [
        {
         "name": "index",
         "rawType": "int64",
         "type": "integer"
        },
        {
         "name": "cp1",
         "rawType": "float64",
         "type": "float"
        },
        {
         "name": "cp2",
         "rawType": "float64",
         "type": "float"
        },
        {
         "name": "cp3",
         "rawType": "float64",
         "type": "float"
        },
        {
         "name": "cp4",
         "rawType": "float64",
         "type": "float"
        },
        {
         "name": "cp5",
         "rawType": "float64",
         "type": "float"
        },
        {
         "name": "cp6",
         "rawType": "float64",
         "type": "float"
        },
        {
         "name": "cp7",
         "rawType": "float64",
         "type": "float"
        },
        {
         "name": "cp8",
         "rawType": "float64",
         "type": "float"
        },
        {
         "name": "cp9",
         "rawType": "float64",
         "type": "float"
        },
        {
         "name": "cp10",
         "rawType": "float64",
         "type": "float"
        },
        {
         "name": "cp11",
         "rawType": "float64",
         "type": "float"
        },
        {
         "name": "cp12",
         "rawType": "float64",
         "type": "float"
        },
        {
         "name": "cp13",
         "rawType": "float64",
         "type": "float"
        },
        {
         "name": "cp14",
         "rawType": "float64",
         "type": "float"
        },
        {
         "name": "cp15",
         "rawType": "float64",
         "type": "float"
        },
        {
         "name": "cp16",
         "rawType": "float64",
         "type": "float"
        },
        {
         "name": "cp17",
         "rawType": "float64",
         "type": "float"
        },
        {
         "name": "cp18",
         "rawType": "float64",
         "type": "float"
        },
        {
         "name": "cp19",
         "rawType": "float64",
         "type": "float"
        },
        {
         "name": "cp20",
         "rawType": "float64",
         "type": "float"
        },
        {
         "name": "cp21",
         "rawType": "float64",
         "type": "float"
        },
        {
         "name": "cp22",
         "rawType": "float64",
         "type": "float"
        },
        {
         "name": "cp23",
         "rawType": "float64",
         "type": "float"
        },
        {
         "name": "cp24",
         "rawType": "float64",
         "type": "float"
        },
        {
         "name": "cp25",
         "rawType": "float64",
         "type": "float"
        },
        {
         "name": "cp26",
         "rawType": "float64",
         "type": "float"
        },
        {
         "name": "cp27",
         "rawType": "float64",
         "type": "float"
        },
        {
         "name": "cp28",
         "rawType": "float64",
         "type": "float"
        },
        {
         "name": "cp29",
         "rawType": "float64",
         "type": "float"
        },
        {
         "name": "cp30",
         "rawType": "float64",
         "type": "float"
        },
        {
         "name": "cp31",
         "rawType": "float64",
         "type": "float"
        },
        {
         "name": "cp32",
         "rawType": "float64",
         "type": "float"
        },
        {
         "name": "cp33",
         "rawType": "float64",
         "type": "float"
        },
        {
         "name": "cp34",
         "rawType": "float64",
         "type": "float"
        },
        {
         "name": "cp35",
         "rawType": "float64",
         "type": "float"
        },
        {
         "name": "cp36",
         "rawType": "float64",
         "type": "float"
        },
        {
         "name": "cp37",
         "rawType": "float64",
         "type": "float"
        },
        {
         "name": "cp38",
         "rawType": "float64",
         "type": "float"
        },
        {
         "name": "cp39",
         "rawType": "float64",
         "type": "float"
        },
        {
         "name": "cp40",
         "rawType": "float64",
         "type": "float"
        },
        {
         "name": "cp41",
         "rawType": "float64",
         "type": "float"
        },
        {
         "name": "cp42",
         "rawType": "float64",
         "type": "float"
        },
        {
         "name": "cp43",
         "rawType": "float64",
         "type": "float"
        },
        {
         "name": "cp44",
         "rawType": "float64",
         "type": "float"
        },
        {
         "name": "cp45",
         "rawType": "float64",
         "type": "float"
        },
        {
         "name": "cp46",
         "rawType": "float64",
         "type": "float"
        },
        {
         "name": "cp47",
         "rawType": "float64",
         "type": "float"
        },
        {
         "name": "cp48",
         "rawType": "float64",
         "type": "float"
        },
        {
         "name": "cp49",
         "rawType": "float64",
         "type": "float"
        },
        {
         "name": "cp50",
         "rawType": "float64",
         "type": "float"
        },
        {
         "name": "cp51",
         "rawType": "float64",
         "type": "float"
        },
        {
         "name": "cp52",
         "rawType": "float64",
         "type": "float"
        },
        {
         "name": "cp53",
         "rawType": "float64",
         "type": "float"
        },
        {
         "name": "cp54",
         "rawType": "float64",
         "type": "float"
        },
        {
         "name": "cp55",
         "rawType": "float64",
         "type": "float"
        },
        {
         "name": "cp56",
         "rawType": "float64",
         "type": "float"
        },
        {
         "name": "cp57",
         "rawType": "float64",
         "type": "float"
        },
        {
         "name": "cp58",
         "rawType": "float64",
         "type": "float"
        },
        {
         "name": "cp59",
         "rawType": "float64",
         "type": "float"
        },
        {
         "name": "cp60",
         "rawType": "float64",
         "type": "float"
        },
        {
         "name": "cp61",
         "rawType": "float64",
         "type": "float"
        },
        {
         "name": "cp62",
         "rawType": "float64",
         "type": "float"
        },
        {
         "name": "cp63",
         "rawType": "float64",
         "type": "float"
        },
        {
         "name": "cp64",
         "rawType": "float64",
         "type": "float"
        },
        {
         "name": "cp65",
         "rawType": "float64",
         "type": "float"
        },
        {
         "name": "cp66",
         "rawType": "float64",
         "type": "float"
        },
        {
         "name": "cp67",
         "rawType": "float64",
         "type": "float"
        },
        {
         "name": "cp68",
         "rawType": "float64",
         "type": "float"
        },
        {
         "name": "cp69",
         "rawType": "float64",
         "type": "float"
        },
        {
         "name": "cp70",
         "rawType": "float64",
         "type": "float"
        },
        {
         "name": "cp71",
         "rawType": "float64",
         "type": "float"
        },
        {
         "name": "cp72",
         "rawType": "float64",
         "type": "float"
        },
        {
         "name": "cp73",
         "rawType": "float64",
         "type": "float"
        },
        {
         "name": "cp74",
         "rawType": "float64",
         "type": "float"
        },
        {
         "name": "cp75",
         "rawType": "float64",
         "type": "float"
        },
        {
         "name": "cp76",
         "rawType": "float64",
         "type": "float"
        },
        {
         "name": "cp77",
         "rawType": "float64",
         "type": "float"
        },
        {
         "name": "cp78",
         "rawType": "float64",
         "type": "float"
        },
        {
         "name": "cp79",
         "rawType": "float64",
         "type": "float"
        },
        {
         "name": "cp80",
         "rawType": "float64",
         "type": "float"
        },
        {
         "name": "cp81",
         "rawType": "float64",
         "type": "float"
        },
        {
         "name": "cp82",
         "rawType": "float64",
         "type": "float"
        },
        {
         "name": "cp83",
         "rawType": "float64",
         "type": "float"
        },
        {
         "name": "cp84",
         "rawType": "float64",
         "type": "float"
        },
        {
         "name": "cp85",
         "rawType": "float64",
         "type": "float"
        },
        {
         "name": "cp86",
         "rawType": "float64",
         "type": "float"
        },
        {
         "name": "cp87",
         "rawType": "float64",
         "type": "float"
        },
        {
         "name": "cp88",
         "rawType": "float64",
         "type": "float"
        },
        {
         "name": "cp89",
         "rawType": "float64",
         "type": "float"
        },
        {
         "name": "cp90",
         "rawType": "float64",
         "type": "float"
        },
        {
         "name": "cp91",
         "rawType": "float64",
         "type": "float"
        },
        {
         "name": "cp92",
         "rawType": "float64",
         "type": "float"
        },
        {
         "name": "cp93",
         "rawType": "float64",
         "type": "float"
        },
        {
         "name": "cp94",
         "rawType": "float64",
         "type": "float"
        },
        {
         "name": "cp95",
         "rawType": "float64",
         "type": "float"
        },
        {
         "name": "cp96",
         "rawType": "float64",
         "type": "float"
        },
        {
         "name": "cp97",
         "rawType": "float64",
         "type": "float"
        },
        {
         "name": "cp98",
         "rawType": "float64",
         "type": "float"
        },
        {
         "name": "cp99",
         "rawType": "float64",
         "type": "float"
        },
        {
         "name": "cp100",
         "rawType": "float64",
         "type": "float"
        },
        {
         "name": "cp101",
         "rawType": "float64",
         "type": "float"
        },
        {
         "name": "cp102",
         "rawType": "float64",
         "type": "float"
        },
        {
         "name": "cp103",
         "rawType": "float64",
         "type": "float"
        },
        {
         "name": "cp104",
         "rawType": "float64",
         "type": "float"
        },
        {
         "name": "cp105",
         "rawType": "float64",
         "type": "float"
        },
        {
         "name": "cp106",
         "rawType": "float64",
         "type": "float"
        },
        {
         "name": "cp107",
         "rawType": "float64",
         "type": "float"
        },
        {
         "name": "cp108",
         "rawType": "float64",
         "type": "float"
        },
        {
         "name": "cp109",
         "rawType": "float64",
         "type": "float"
        },
        {
         "name": "cp110",
         "rawType": "float64",
         "type": "float"
        },
        {
         "name": "cp111",
         "rawType": "float64",
         "type": "float"
        },
        {
         "name": "cp112",
         "rawType": "float64",
         "type": "float"
        },
        {
         "name": "cp113",
         "rawType": "float64",
         "type": "float"
        },
        {
         "name": "cp114",
         "rawType": "float64",
         "type": "float"
        },
        {
         "name": "cp115",
         "rawType": "float64",
         "type": "float"
        },
        {
         "name": "cp116",
         "rawType": "float64",
         "type": "float"
        },
        {
         "name": "cp117",
         "rawType": "float64",
         "type": "float"
        },
        {
         "name": "cp118",
         "rawType": "float64",
         "type": "float"
        },
        {
         "name": "cp119",
         "rawType": "float64",
         "type": "float"
        },
        {
         "name": "cp120",
         "rawType": "float64",
         "type": "float"
        },
        {
         "name": "cp121",
         "rawType": "float64",
         "type": "float"
        },
        {
         "name": "cp122",
         "rawType": "float64",
         "type": "float"
        },
        {
         "name": "cp123",
         "rawType": "float64",
         "type": "float"
        },
        {
         "name": "cp124",
         "rawType": "float64",
         "type": "float"
        },
        {
         "name": "cp125",
         "rawType": "float64",
         "type": "float"
        },
        {
         "name": "cp126",
         "rawType": "float64",
         "type": "float"
        },
        {
         "name": "cp127",
         "rawType": "float64",
         "type": "float"
        },
        {
         "name": "cp128",
         "rawType": "float64",
         "type": "float"
        },
        {
         "name": "cp129",
         "rawType": "float64",
         "type": "float"
        },
        {
         "name": "cp130",
         "rawType": "float64",
         "type": "float"
        },
        {
         "name": "cp131",
         "rawType": "float64",
         "type": "float"
        },
        {
         "name": "cp132",
         "rawType": "float64",
         "type": "float"
        },
        {
         "name": "cp133",
         "rawType": "float64",
         "type": "float"
        },
        {
         "name": "cp134",
         "rawType": "float64",
         "type": "float"
        },
        {
         "name": "cp135",
         "rawType": "float64",
         "type": "float"
        },
        {
         "name": "cp136",
         "rawType": "float64",
         "type": "float"
        },
        {
         "name": "cp137",
         "rawType": "float64",
         "type": "float"
        },
        {
         "name": "cp138",
         "rawType": "float64",
         "type": "float"
        },
        {
         "name": "cp139",
         "rawType": "float64",
         "type": "float"
        },
        {
         "name": "cp140",
         "rawType": "float64",
         "type": "float"
        },
        {
         "name": "cp141",
         "rawType": "float64",
         "type": "float"
        },
        {
         "name": "cp142",
         "rawType": "float64",
         "type": "float"
        },
        {
         "name": "cp143",
         "rawType": "float64",
         "type": "float"
        },
        {
         "name": "cp144",
         "rawType": "float64",
         "type": "float"
        },
        {
         "name": "cp145",
         "rawType": "float64",
         "type": "float"
        },
        {
         "name": "cp146",
         "rawType": "float64",
         "type": "float"
        },
        {
         "name": "cp147",
         "rawType": "float64",
         "type": "float"
        },
        {
         "name": "cp148",
         "rawType": "float64",
         "type": "float"
        },
        {
         "name": "cp149",
         "rawType": "float64",
         "type": "float"
        },
        {
         "name": "cp150",
         "rawType": "float64",
         "type": "float"
        },
        {
         "name": "cp151",
         "rawType": "float64",
         "type": "float"
        },
        {
         "name": "cp152",
         "rawType": "float64",
         "type": "float"
        },
        {
         "name": "cp153",
         "rawType": "float64",
         "type": "float"
        },
        {
         "name": "cp154",
         "rawType": "float64",
         "type": "float"
        },
        {
         "name": "cp155",
         "rawType": "float64",
         "type": "float"
        },
        {
         "name": "cp156",
         "rawType": "float64",
         "type": "float"
        },
        {
         "name": "cp157",
         "rawType": "float64",
         "type": "float"
        },
        {
         "name": "cp158",
         "rawType": "float64",
         "type": "float"
        },
        {
         "name": "cp159",
         "rawType": "float64",
         "type": "float"
        },
        {
         "name": "cp160",
         "rawType": "float64",
         "type": "float"
        },
        {
         "name": "cp161",
         "rawType": "float64",
         "type": "float"
        },
        {
         "name": "cp162",
         "rawType": "float64",
         "type": "float"
        },
        {
         "name": "cp163",
         "rawType": "float64",
         "type": "float"
        },
        {
         "name": "cp164",
         "rawType": "float64",
         "type": "float"
        },
        {
         "name": "cp165",
         "rawType": "float64",
         "type": "float"
        },
        {
         "name": "cp166",
         "rawType": "float64",
         "type": "float"
        },
        {
         "name": "cp167",
         "rawType": "float64",
         "type": "float"
        },
        {
         "name": "cp168",
         "rawType": "float64",
         "type": "float"
        },
        {
         "name": "cp169",
         "rawType": "float64",
         "type": "float"
        },
        {
         "name": "cp170",
         "rawType": "float64",
         "type": "float"
        },
        {
         "name": "cp171",
         "rawType": "float64",
         "type": "float"
        },
        {
         "name": "cp172",
         "rawType": "float64",
         "type": "float"
        },
        {
         "name": "cp173",
         "rawType": "float64",
         "type": "float"
        },
        {
         "name": "cp174",
         "rawType": "float64",
         "type": "float"
        },
        {
         "name": "cp175",
         "rawType": "float64",
         "type": "float"
        },
        {
         "name": "cp176",
         "rawType": "float64",
         "type": "float"
        },
        {
         "name": "cp177",
         "rawType": "float64",
         "type": "float"
        },
        {
         "name": "cp178",
         "rawType": "float64",
         "type": "float"
        },
        {
         "name": "cp179",
         "rawType": "float64",
         "type": "float"
        },
        {
         "name": "cp180",
         "rawType": "float64",
         "type": "float"
        },
        {
         "name": "cp181",
         "rawType": "float64",
         "type": "float"
        },
        {
         "name": "cp182",
         "rawType": "float64",
         "type": "float"
        },
        {
         "name": "cp183",
         "rawType": "float64",
         "type": "float"
        },
        {
         "name": "cp184",
         "rawType": "float64",
         "type": "float"
        },
        {
         "name": "cp185",
         "rawType": "float64",
         "type": "float"
        },
        {
         "name": "cp186",
         "rawType": "float64",
         "type": "float"
        },
        {
         "name": "cp187",
         "rawType": "float64",
         "type": "float"
        },
        {
         "name": "cp188",
         "rawType": "float64",
         "type": "float"
        },
        {
         "name": "cp189",
         "rawType": "float64",
         "type": "float"
        },
        {
         "name": "cp190",
         "rawType": "float64",
         "type": "float"
        },
        {
         "name": "cp191",
         "rawType": "float64",
         "type": "float"
        },
        {
         "name": "cp192",
         "rawType": "float64",
         "type": "float"
        },
        {
         "name": "cp193",
         "rawType": "float64",
         "type": "float"
        },
        {
         "name": "cp194",
         "rawType": "float64",
         "type": "float"
        },
        {
         "name": "cp195",
         "rawType": "float64",
         "type": "float"
        },
        {
         "name": "cp196",
         "rawType": "float64",
         "type": "float"
        },
        {
         "name": "cp197",
         "rawType": "float64",
         "type": "float"
        },
        {
         "name": "cp198",
         "rawType": "float64",
         "type": "float"
        },
        {
         "name": "cp199",
         "rawType": "float64",
         "type": "float"
        },
        {
         "name": "cp200",
         "rawType": "float64",
         "type": "float"
        }
       ],
       "conversionMethod": "pd.DataFrame",
       "ref": "f7f23f11-f28c-4cc1-815c-e77a92469989",
       "rows": [
        [
         "0",
         "-6.12125873145702",
         "2.296441169066651",
         "-2.146627500895934",
         "0.5726439953778399",
         "0.10655245334070343",
         "-1.0082759087992808",
         "-0.24533035205561715",
         "-0.32249147935758343",
         "-0.5321493374678808",
         "0.07374931225132472",
         "0.02378645696731968",
         "-0.7620309783592164",
         "0.1295580552264236",
         "-0.034984083915395287",
         "0.18675099596250655",
         "-0.45307730292870174",
         "0.26908265273953635",
         "0.431077420478416",
         "-0.21180904892620142",
         "-0.5364987858099404",
         "-0.15812567591982454",
         "-0.618843483799276",
         "0.10356997092284512",
         "-0.16325516269498141",
         "-0.20253500923212003",
         "-0.12981329023325472",
         "0.27017190764686383",
         "-0.037679999186185684",
         "-0.19895452127300273",
         "-0.010505126240620298",
         "-0.006487477427572108",
         "-0.08268363097789089",
         "0.008156754855822373",
         "0.1944471673699124",
         "-0.20130515635216847",
         "0.3986919356703122",
         "0.7234861296425168",
         "0.2900467777608898",
         "-0.11001270349008774",
         "-0.01705145248428233",
         "0.29350546201062466",
         "0.17024436852011313",
         "0.2480309258682881",
         "0.05956594494847879",
         "0.2584094774766985",
         "-0.2617204429105771",
         "-0.06257839389504717",
         "0.14665213509830807",
         "0.06530849813497953",
         "0.01705723009160675",
         "-0.2498523908587261",
         "0.5397867686252369",
         "-0.07356823454054912",
         "-0.1683027265864456",
         "-0.2721719346514851",
         "0.07341950052706532",
         "-0.1788412339569021",
         "0.22678993720076834",
         "0.21246823195353284",
         "0.1893172883121224",
         "-0.3648738749958852",
         "-0.1060647065248651",
         "-0.1877144083621511",
         "-0.1484256456289954",
         "-0.014225250436690984",
         "0.16220481546549215",
         "-0.04232337643357424",
         "-0.2542447699911242",
         "-0.2835941714669457",
         "0.10344562796223424",
         "-0.2589852917410594",
         "0.14153025211878867",
         "-0.024753618505671288",
         "-0.004700609888513382",
         "-0.05661868754948895",
         "0.07494822714524885",
         "-0.2898634621685998",
         "0.028223435958361576",
         "0.06769141341651075",
         "0.2831661692289238",
         "0.20368836943583618",
         "0.06352125598909014",
         "0.30221391466661357",
         "-0.12247039058920556",
         "0.07957993235730504",
         "-0.22979688362924178",
         "-0.2650207548438343",
         "-0.014215155051942652",
         "0.07453096053200597",
         "0.059680443814876534",
         "0.056178096593256746",
         "0.16457741305701273",
         "0.25320885936868265",
         "-0.13995765756926518",
         "-0.11916640590322936",
         "0.09357890994802748",
         "-0.022149841907001915",
         "0.1628424826964671",
         "-0.08507484487236959",
         "0.10758213012710281",
         "0.12525111609885936",
         "0.17878006237663546",
         "-0.16643962271530538",
         "0.1522471445633259",
         "-0.019032485586271557",
         "-0.0034462282032624997",
         "0.11962888589880205",
         "-0.06962924107002824",
         "0.017282535563376653",
         "0.08640583518840272",
         "0.1208817502561649",
         "-0.03773101712214688",
         "-0.0009246582232628198",
         "-0.13284704929234686",
         "0.19928520559543356",
         "0.08582410071430809",
         "-0.2064201344773983",
         "0.08414217750361166",
         "0.136970590963241",
         "0.17662543093743088",
         "0.019318515129558195",
         "0.025522565846299278",
         "0.07985347020704109",
         "0.20811456876417542",
         "0.019339941677410294",
         "0.049343780356332814",
         "0.10295822635948676",
         "0.05946102023786959",
         "-0.08351748851424523",
         "0.08428471336738529",
         "0.058610885786251364",
         "-0.023564407622270703",
         "0.00994009193174289",
         "-0.06308603691509174",
         "-0.019513286582227188",
         "-0.11618999493640503",
         "0.033298861166360244",
         "0.0951163259553568",
         "-0.04691223064311502",
         "0.15115560436489708",
         "-0.03154790305365901",
         "0.08431269553372166",
         "-0.016760408735150084",
         "0.07024390576601383",
         "-0.07293193077663297",
         "-0.07491037650126595",
         "-0.002132966111893203",
         "0.09398541914156483",
         "0.014695130946851098",
         "0.002097548526745374",
         "0.0029200770705265916",
         "-0.08610322005795057",
         "0.11091359921145263",
         "0.003294539037719618",
         "0.00028726839090122136",
         "-0.07931450869996207",
         "0.053427420856279995",
         "-0.04371593127510383",
         "0.023385121302607538",
         "0.12440676852437596",
         "0.08561904958569011",
         "0.048554492622032375",
         "-0.045640983722212536",
         "0.007173814418739655",
         "0.031128839324700727",
         "0.014667621064768953",
         "0.007049913337913834",
         "-0.07931587912770185",
         "-0.0606946273122915",
         "-0.042914453228225194",
         "0.07347579659680441",
         "0.001379839907939981",
         "-0.04121961589416486",
         "0.017698764603057388",
         "0.037405399119397637",
         "-0.0625652074467796",
         "0.024595243981264843",
         "-0.009560460131682672",
         "0.0001255551297149604",
         "0.0065935556076991975",
         "-0.021676963446298866",
         "-0.03750386274393493",
         "0.003068095334405614",
         "0.05944057429128828",
         "-0.06934423804778747",
         "-0.0029258481803646277",
         "-0.0005829376519583679",
         "0.03354797963821027",
         "0.03879725962502324",
         "-0.05035247090229238",
         "0.020337650077638214",
         "0.015389271177728363",
         "-0.014784135496720002",
         "0.04229988179131003",
         "-0.020025351387617768",
         "0.009787474963707271",
         "0.03534028701224745",
         "-0.004165088529574458",
         "-0.018026703398599186",
         "-0.027548292796796145"
        ],
        [
         "1",
         "-5.184451316087965",
         "-0.7128398615793152",
         "-1.3881399470088363",
         "0.42012186715812855",
         "0.6254496199309522",
         "0.6514480232384985",
         "-0.5019371009931306",
         "0.3036524694549503",
         "0.383499932317789",
         "0.18130197247048263",
         "0.4199969421435635",
         "0.8299061450394686",
         "-0.09635250237261547",
         "-0.3243123218956978",
         "0.40923029307170433",
         "-0.2918802266767716",
         "-0.3747433761509745",
         "-0.3421135292099905",
         "-0.09767839537327475",
         "0.9287939121902998",
         "0.012045946928127839",
         "0.39316413274573037",
         "0.21264656142341853",
         "-0.25527937252626676",
         "0.31869539694043225",
         "-0.6052364290485978",
         "-0.017123509758192462",
         "0.3727625343454575",
         "0.02771254810068",
         "0.2457459860762925",
         "0.06044695018042901",
         "0.09189832994824709",
         "0.19515075540117996",
         "0.5510382977196769",
         "0.03795274561430492",
         "-0.1577743771040133",
         "-0.21157301688229346",
         "-0.17755892769408585",
         "0.1457225019291374",
         "-0.15881261090373577",
         "-0.3759112080256487",
         "-0.2034626002199016",
         "-0.18440332628645068",
         "-0.2541943229064711",
         "0.2563099792535036",
         "0.3120316300081503",
         "0.18965137755174294",
         "-0.30586297868885093",
         "-0.2997875477362998",
         "-0.062152419554622404",
         "-0.07137397009985062",
         "-0.11415513060085727",
         "-0.03270537006869159",
         "0.27557550986784557",
         "-0.31825668108560445",
         "0.18579850610744153",
         "0.2654637869670987",
         "0.058063881650038916",
         "-0.21883009962791747",
         "-0.12060841972362413",
         "0.19442971687754848",
         "0.16328577506045383",
         "0.040069175092504246",
         "0.17009890568888972",
         "-0.1411026987362715",
         "0.011368301322993657",
         "-0.13094335630027415",
         "0.27586012806610094",
         "-0.06638328149557024",
         "-0.11553064196867087",
         "0.01216426982909663",
         "0.04847488424329016",
         "0.053713074934770594",
         "0.15375268853337676",
         "0.1421663876807247",
         "0.09353582888140255",
         "-0.11406761632091286",
         "-0.0029024871093093277",
         "-0.1355651818530597",
         "0.09802796918632725",
         "-0.09592874632216866",
         "0.08335147362280886",
         "-0.12081302251092835",
         "0.10018998085772134",
         "0.07167012989882246",
         "-0.11054317413521164",
         "0.11665222245010458",
         "-0.2589823085186343",
         "-0.10791722806849091",
         "0.19802802115382911",
         "-0.07476334818697623",
         "-0.08931107152559171",
         "-0.2624391421144249",
         "0.14285236071931695",
         "-0.17526258840236408",
         "0.11631043143344487",
         "0.09566088676551199",
         "0.12513012636097245",
         "-0.09284883117401319",
         "-0.07601348261998539",
         "0.02762853210344432",
         "-0.09933721350502132",
         "0.08176114130836835",
         "0.11708186407191452",
         "0.1261406429758707",
         "-0.10335581412679248",
         "-0.044177062235805004",
         "0.011606833416226155",
         "0.05354934488701839",
         "-0.16629332809477304",
         "0.04644566914753434",
         "-0.06655750292608703",
         "-0.13643411822832885",
         "-0.009772387818958173",
         "-0.008490885769224433",
         "-0.09654685800209348",
         "0.1871488001932315",
         "-0.1013985267649986",
         "0.09873662971212671",
         "-0.16839095064139536",
         "0.1281471564324151",
         "-0.0516831709273259",
         "-0.11037767272740587",
         "-0.05990909904652193",
         "-0.02271433616205143",
         "0.049804226188814464",
         "-0.04147616904045644",
         "0.17498958917765906",
         "0.06662691189739442",
         "-0.029412374833009673",
         "0.06582814855450028",
         "-0.04595786880454211",
         "0.02653934766097718",
         "0.05421601226885947",
         "-0.027009068911166917",
         "0.06131224100991059",
         "0.1110002339298245",
         "0.1232711828379081",
         "0.020813432635006096",
         "-0.05689514000418414",
         "0.04816613441760778",
         "0.05504648387486171",
         "0.08186963868053837",
         "-0.0723628031780352",
         "-0.040496385459105944",
         "-0.07048488691518952",
         "0.024551953151133336",
         "-0.07785814244048675",
         "-0.028704080398145204",
         "0.029591143773974343",
         "-0.06496696137852767",
         "0.11348681690613233",
         "-0.06763980896920432",
         "-0.0520730907136889",
         "0.007820304124912691",
         "-0.08675135394386409",
         "-0.07972183905925234",
         "-0.01285671074493848",
         "0.007573012753868454",
         "-0.022486759737187226",
         "-0.032831057363281485",
         "0.007698811917267271",
         "0.023109354589556735",
         "0.02514540803565235",
         "0.016117605158779726",
         "0.04199284034558915",
         "-0.022605411338075476",
         "-0.005092851354327764",
         "0.040537078193778206",
         "-0.0037220648425981134",
         "-0.03712659181662725",
         "0.05562337420717997",
         "0.022846843960302357",
         "-0.0076307626203515055",
         "-0.034207399990896864",
         "0.035598399441300554",
         "-0.027242046957825977",
         "-0.013183950859037624",
         "-0.029663171005771566",
         "-0.03563777748171154",
         "0.031083034060744932",
         "0.05001119847255815",
         "0.05547496987526164",
         "-0.0004323830000522652",
         "0.008072904328845602",
         "-0.018646915871443334",
         "0.03295910206810078",
         "-0.03700754392286866",
         "0.040221481424493055",
         "-0.016363655851648243",
         "-0.036270436040363535",
         "0.033391157345440625",
         "0.0311970823439382",
         "-0.040088295497781715",
         "0.07563479698857961",
         "0.0035993408580427544",
         "-0.013063734514785985",
         "0.013235790838263255",
         "0.02496735568120862",
         "0.014826520789174864"
        ],
        [
         "2",
         "-2.4738302644667582",
         "-2.9946407515626885",
         "3.3739970718293875",
         "0.37322184393892954",
         "1.8479458473841046",
         "1.2658700266459428",
         "1.1693146112759387",
         "-0.5161783317378883",
         "-0.5446514932250927",
         "-0.8613014652465238",
         "-1.1828077546586238",
         "-0.33878766232300683",
         "-1.590035992398569",
         "0.9319318908830815",
         "-0.15239324647486382",
         "-0.2528617294202372",
         "-0.2865394653676316",
         "-0.17893970811332433",
         "0.053993064651386494",
         "-0.482896065182864",
         "-0.6660966692697985",
         "1.02442514711351",
         "0.6576744740968414",
         "-0.1335275320825149",
         "0.06430785583752144",
         "0.5298723396289209",
         "0.2698695794823833",
         "1.0976984303642203",
         "0.6672941862967385",
         "0.6775582158302373",
         "0.19894894628965426",
         "0.6801268825614684",
         "0.650120816728305",
         "-0.30347911134837247",
         "-0.38001009638690003",
         "0.07348555079404517",
         "0.25392204807868246",
         "0.9707471589002059",
         "-0.06124973058345004",
         "0.3941675149198369",
         "0.32370950208873106",
         "0.4393137795363608",
         "-0.32984233619344683",
         "0.27789386616634176",
         "1.2421775188125543",
         "-0.11005552383121286",
         "1.1587330088463983",
         "0.6063028297627238",
         "-0.9041642195393715",
         "-0.47946168527469013",
         "0.012279661289965771",
         "0.5486492981473166",
         "0.320302681122707",
         "-0.2642869639651258",
         "0.17097664336633944",
         "0.5158740652483397",
         "-0.12628171270135513",
         "-0.664922692924429",
         "0.8862937134095454",
         "0.25773685364361815",
         "0.4045411265960266",
         "0.5944467267224928",
         "-0.3122388520342204",
         "-0.2320975609053258",
         "-0.49847747362452555",
         "0.7162158458386514",
         "-0.5618845205725334",
         "0.5158137345190148",
         "-0.3697315913874208",
         "0.17866880529822407",
         "-0.009758930383320985",
         "-0.03284762673474411",
         "0.3241072143091046",
         "0.49316977591956335",
         "0.40510544562265594",
         "-0.32344364809962084",
         "0.7749473597662896",
         "0.12495445926767203",
         "-0.26636522623895376",
         "-0.04249340460694681",
         "0.4060817749333292",
         "-0.06311228883721201",
         "0.13968719084612766",
         "-0.5472273324747525",
         "0.13774487833883908",
         "0.06468901984964684",
         "0.09494890635875808",
         "0.20608368640732905",
         "0.3010754335627659",
         "-0.3951753722440673",
         "-0.09548582000984158",
         "0.05366382608225008",
         "0.3202981826885526",
         "0.0647058283387846",
         "-0.49174727631030946",
         "0.1575940015108119",
         "-0.30206753688418764",
         "-0.00604611410906751",
         "0.22432804263848113",
         "-0.2523245701673754",
         "0.06443922066671764",
         "-0.37967338229639197",
         "0.01947166190167675",
         "-0.2085821716607994",
         "-0.30577017018876584",
         "-0.36110715681509975",
         "-0.2700673444608729",
         "0.159493266974879",
         "0.3368883919621066",
         "-0.32116286536023253",
         "0.17525312229357976",
         "-0.26733424051655774",
         "-0.12329018633240187",
         "0.22454408573294005",
         "-0.14412794372736065",
         "-0.011359862774611366",
         "-0.17651255876673305",
         "0.17016592619811957",
         "-0.2974516560535248",
         "0.09753848961163011",
         "-0.055342644616410114",
         "-0.07808489688067513",
         "-0.5721494102591476",
         "-0.051582393296081525",
         "0.27995882450218756",
         "-0.2961860812919698",
         "0.14155306807063567",
         "-0.10959231055262197",
         "-0.4226265472995381",
         "-0.05998270986353275",
         "-0.3213031437873769",
         "-0.02929614797668123",
         "0.1821624527319544",
         "-0.13064435610575567",
         "0.1594759805680568",
         "0.23197994170686764",
         "-0.12567111545185633",
         "0.24419831831208033",
         "0.0270572903508245",
         "0.14336426614316794",
         "0.01325332784123584",
         "0.18359638883441448",
         "0.11348679538313787",
         "0.06703680888653832",
         "-0.2567849382601562",
         "-0.015409958105223748",
         "0.007067285329681067",
         "-0.2822986644555083",
         "0.23662600873201586",
         "-0.16248428544593252",
         "-0.3770955188729089",
         "-0.06708472671662283",
         "0.332590289924058",
         "0.22933678711599656",
         "-0.0013959352340407738",
         "0.05511697692296724",
         "0.16460224650656943",
         "0.0012299123915886223",
         "-0.2161240365932989",
         "-0.015174758038390503",
         "0.038841985665672055",
         "0.17158781857021194",
         "0.1914071121083866",
         "0.09102757119252192",
         "0.06879989413696709",
         "0.20158622028421613",
         "0.2806965144116688",
         "0.19496883925347275",
         "0.024840195416004292",
         "-0.006147868551319199",
         "0.09914823979139643",
         "-0.18259049404367783",
         "0.09382872072775245",
         "0.16913729993280854",
         "0.15313898650854632",
         "0.1457383425224256",
         "-0.06692596281584942",
         "-0.029704924335493738",
         "-0.27020568676883217",
         "0.12767717156374536",
         "0.016904130104599128",
         "-0.207609606375196",
         "-0.10375623299559783",
         "0.0002907767567882913",
         "0.042086581326486544",
         "0.12669915126303766",
         "0.03460590835755537",
         "-0.17489763832938343",
         "0.05499092590733366",
         "-0.07661436798187116",
         "0.1368220973559913",
         "-0.03146944153411932",
         "-0.027008435235329697",
         "0.08544435399076698",
         "0.09614226732888494",
         "-0.025735717572602644",
         "-0.07869826499075747",
         "0.1482363400053168",
         "0.15245850685969992",
         "0.29142521024790824"
        ],
        [
         "3",
         "-5.826140701048593",
         "0.3089280273721634",
         "2.472890474105943",
         "0.39801950730546404",
         "0.38135122350564976",
         "0.2040113880039308",
         "0.8423631370399292",
         "0.2314202736886779",
         "-0.7167205971551719",
         "0.29193627762048313",
         "-0.12481105239644617",
         "1.2496573395770683",
         "0.6053422648086034",
         "0.4035876328031382",
         "-0.6774666562304329",
         "-0.6627748492917743",
         "0.9795689553029145",
         "-0.2975791681013693",
         "-0.06504784196634408",
         "-0.24409804286540823",
         "-0.36750871898108495",
         "0.5507829176108072",
         "0.8023496635561131",
         "0.1879262974238869",
         "0.06049934108556873",
         "1.2436511670679324",
         "-0.5601214824010142",
         "-0.34295800478402305",
         "0.2992120675403466",
         "0.43503822415756094",
         "0.7063880245744296",
         "-0.4462521373515474",
         "0.2064436549758159",
         "-0.9617676055567274",
         "0.5422488483467994",
         "-0.2463400240075507",
         "-0.4783739956654078",
         "-0.13893033049257847",
         "-0.2101697645203351",
         "0.08745226807053741",
         "-0.5044639431258636",
         "-0.10629914650254386",
         "-0.15894157944364568",
         "-0.08620811302993811",
         "-0.35272014648239763",
         "-0.06755888165560317",
         "-0.09787994640142639",
         "-0.6125883481824067",
         "-0.09217698860498824",
         "0.057489104628832055",
         "0.48005801920580476",
         "0.2549671096531966",
         "-0.4389943766108221",
         "-0.2720050735064948",
         "0.23267410539325312",
         "0.292914100409181",
         "0.14167029318543023",
         "-0.6589193973044514",
         "0.2265951703929286",
         "-0.36574961780144805",
         "-0.005246721085354816",
         "-0.02178908241678805",
         "0.010663181675944405",
         "-0.17309688107504367",
         "-0.17519506736569213",
         "0.076353644788544",
         "-0.24276241751118255",
         "0.4332911056521659",
         "0.025211865381840268",
         "-0.1376047245941162",
         "0.1284958292546246",
         "-0.2888519196928847",
         "-0.09486567346071718",
         "0.10579069774465533",
         "0.09801649490351563",
         "0.22102751712955337",
         "-0.20202560142335185",
         "-0.029345846444319465",
         "-0.14274440604741906",
         "-0.06591975458040292",
         "0.1148556648997222",
         "0.05937832427056926",
         "-0.0685460634280114",
         "0.1771570896082094",
         "-0.1299856506234148",
         "-0.45786840795971195",
         "-0.0008582851573354922",
         "-0.2038974260624371",
         "0.05680991740246984",
         "-0.026861776295099463",
         "-0.1603040605563418",
         "0.07305280861265763",
         "0.29642812117219375",
         "0.08598227566048208",
         "0.2094027821079396",
         "0.02689169857938553",
         "0.1751598076865278",
         "0.06418298979244658",
         "-0.23077107973491873",
         "-0.05023721662964076",
         "-0.2606968426991247",
         "0.05211901160538924",
         "0.21147960884295913",
         "0.19081669799542952",
         "0.2985170242228959",
         "-0.15530765471671068",
         "-0.2545214666216139",
         "0.09502285863497968",
         "-0.17152414898834853",
         "0.104394307842483",
         "-0.002375135634224132",
         "0.08640499518271563",
         "0.05417857855314845",
         "-0.10904043808123562",
         "-0.1236158891630669",
         "0.05515356148193003",
         "-0.1284059337750037",
         "-0.08184906479223755",
         "-0.14424117507810236",
         "0.012942750736759809",
         "-0.03341557683333479",
         "0.14708246536349198",
         "0.0017608199666107396",
         "0.0365886841947617",
         "0.009784461914540882",
         "-0.049104664315679336",
         "-0.0819792545050551",
         "-0.013170242033582233",
         "-0.04756904958038526",
         "0.24948499917379402",
         "-0.09829254169247681",
         "-0.0602432274732754",
         "0.0822340333813843",
         "0.062449761152977255",
         "0.00950153177036403",
         "0.024059141178129684",
         "-0.0632641122850415",
         "0.10733838886026725",
         "0.16431093207604075",
         "-0.056010458417333785",
         "-0.07526657627346363",
         "0.0006247885773327799",
         "-0.06490138159960802",
         "-0.010331989016610893",
         "0.03167995157833817",
         "-0.056602156196769934",
         "0.040061234479094876",
         "-0.025032076245487686",
         "0.058405180394820316",
         "-0.01495280465474419",
         "-0.07690355446201869",
         "0.01685157419301811",
         "0.05243255084853901",
         "0.09216559264799438",
         "-0.05947659412500246",
         "-0.046074586436417986",
         "0.05929567411568848",
         "-0.0029924295302176523",
         "-0.07231368449886287",
         "-0.019029350071853322",
         "-0.06211037658088611",
         "-0.043302428702034046",
         "0.07164299201997591",
         "0.10816862539422517",
         "-0.010235370536012457",
         "-0.020065938048712508",
         "0.13302929989170054",
         "-0.0920884483974523",
         "-0.006007891910544683",
         "0.0922552181683909",
         "0.10023290933098475",
         "0.029213163366727635",
         "0.002576733626547721",
         "0.021886482058692175",
         "0.012988060431103982",
         "0.016913395488783067",
         "-0.026845356994216307",
         "0.0066301365187622086",
         "0.08961094694628352",
         "-0.01341953200930246",
         "0.033695497921402695",
         "0.03855219184847386",
         "-0.023927260114711548",
         "0.05818753945603838",
         "0.00519031367210139",
         "-0.08364013229735867",
         "0.021762666798137764",
         "0.06483102599171356",
         "-0.05275849114171381",
         "0.04217224481410719",
         "0.006960582432026616",
         "-0.0346900911585128",
         "-0.02280708006805915",
         "-0.024974008761978667",
         "0.007982295420281352",
         "-0.009884022469737047",
         "0.015748772132863104",
         "-0.0333877371985906",
         "-0.032037998898195336",
         "0.024630119115235417"
        ],
        [
         "4",
         "-5.799838213117975",
         "1.320340462813758",
         "-1.7329202852688446",
         "0.07592748899381548",
         "-0.4334806601018813",
         "-0.3580099207827867",
         "-0.6936867610221318",
         "0.5151337742379051",
         "0.41358567576229743",
         "0.25009479279495245",
         "0.8928460089952881",
         "-0.06234624171815497",
         "-0.18363206085102537",
         "0.10194521638522865",
         "-0.1688478835270171",
         "0.6381366739901899",
         "0.20656078266609793",
         "-0.1998928257541599",
         "-0.10651182286422389",
         "0.35040673290566215",
         "-0.10189889722880349",
         "-0.4570062405185885",
         "-0.22264949583965282",
         "0.23457544313517464",
         "0.1797542576403261",
         "-0.01888278144184109",
         "0.609941378667128",
         "0.16743732377004006",
         "-0.07611767114347104",
         "0.004365641679484972",
         "0.3940821213253099",
         "0.12820712143496898",
         "-0.04795907279656447",
         "0.11321544429106693",
         "0.36388707369830636",
         "0.03434234360610579",
         "-0.04792081359208414",
         "-0.022383142978711745",
         "-0.4237618136312005",
         "0.12042592927957652",
         "-0.33782857720620385",
         "-0.2297564427067525",
         "0.35071638364844665",
         "-0.270394347533081",
         "0.10961548105042962",
         "0.14818252537100315",
         "0.07018898488820519",
         "-0.06452634419719962",
         "0.18109298590414274",
         "0.015089546011102538",
         "-0.14419023065624526",
         "0.11226734286422585",
         "0.2143493998284287",
         "-0.1179800830417064",
         "0.027671513185517055",
         "0.1295749917151432",
         "0.22154220029102575",
         "0.10111414745604727",
         "-0.09723971688052524",
         "0.13641489800239767",
         "0.3545231641016704",
         "-0.005408555435484477",
         "-0.252561511852028",
         "-0.22671727826500582",
         "-0.2599196372164452",
         "0.1321943107601456",
         "0.0733251935122779",
         "0.2725148551433567",
         "0.11258055418497911",
         "0.18547387031477808",
         "0.05740824988395745",
         "0.04536675109154317",
         "-0.027775734750544845",
         "-0.035592524907919844",
         "-0.10452440057813166",
         "-0.09184420719840172",
         "0.003471973687131244",
         "0.05298171153371872",
         "-0.02901165151794124",
         "-0.1899166506637927",
         "0.21749810015383128",
         "0.13682355319785666",
         "-0.045402765036974796",
         "-0.015621109596483704",
         "-0.024455714501525158",
         "0.022537033534845943",
         "-0.05967440285233802",
         "0.0550649333345338",
         "0.06592563427219676",
         "0.08733240216175897",
         "-0.2398323991750853",
         "0.047245834968034306",
         "-0.09958315126172435",
         "-0.07065671760836692",
         "0.1979791398125744",
         "-0.04045344615662101",
         "0.03399473825787322",
         "-0.09686389860184551",
         "-0.09815949853389004",
         "-0.21972670246433823",
         "-0.1319562892302882",
         "0.028618653249263853",
         "0.058848459637803885",
         "0.24196262641817975",
         "0.14831005750576648",
         "-0.08842344018411837",
         "0.1500828384726527",
         "0.05639396406093568",
         "0.0868029726929682",
         "-0.03200156156947209",
         "0.009604643033366264",
         "-0.21374217631959255",
         "0.02928636383345122",
         "0.044803555187332866",
         "0.0978242561722259",
         "-0.12040485145796416",
         "0.0662430772863028",
         "-0.03721935826017096",
         "-0.011564453797439575",
         "-0.060633045426317714",
         "-0.060131469477971114",
         "-0.0798537666528387",
         "-0.03204278462885611",
         "-0.035134324442355556",
         "-0.04020609405479182",
         "0.005734049168199938",
         "-0.09833955137953572",
         "-0.14431334728866185",
         "0.02292073924308574",
         "-0.09188523081643528",
         "0.03210993326563421",
         "0.0640501795338318",
         "0.011395100050371504",
         "-0.008232593991394394",
         "-0.07291740504565009",
         "-0.05530993234047554",
         "-0.0948141767334219",
         "-0.029453798021514738",
         "0.12417387695735799",
         "-0.020419475744601484",
         "-0.0024682277541927533",
         "-0.02719912179666105",
         "-0.14633746314822055",
         "0.004109571175713506",
         "0.01056738951185257",
         "0.009340076942283893",
         "0.09128574912346789",
         "0.10013904657523463",
         "-0.06097319905422874",
         "-0.00970877440714088",
         "-0.056307844206091764",
         "0.0862321785902983",
         "-0.013877015476608454",
         "-0.060315273287545296",
         "-0.07258603490288609",
         "0.0005942074388225888",
         "-0.06180299359109176",
         "-0.06942286891601275",
         "0.03171208147204847",
         "0.01496206268383525",
         "-0.007121701941068481",
         "0.01598302153072704",
         "-0.09068797279514149",
         "0.03852041944292786",
         "0.0726161605767879",
         "-0.08985124900065888",
         "-0.009121651670769958",
         "-0.020945702026730573",
         "-0.032291890011500006",
         "0.03380031882607115",
         "-0.04586911809579766",
         "-0.00536816611119563",
         "0.010145712425401923",
         "-0.021817301735963135",
         "-0.010091296523703053",
         "0.04081637508387734",
         "0.020603737690941787",
         "-0.06579685002242312",
         "0.08187119651357999",
         "-0.0179958540394885",
         "-0.061543153135150616",
         "0.04732638675766779",
         "0.011514438973978705",
         "0.0155342636625031",
         "0.11047644598104094",
         "-0.07295619460515461",
         "-0.03890612142646953",
         "-0.026860257814823513",
         "-0.01653420502697736",
         "0.01955444780607743",
         "-0.016742356837912864",
         "0.005987706984482876",
         "-0.008124300510407662",
         "-0.011500144098077286",
         "-0.011013498735000113",
         "-0.0068664942077028",
         "-0.009905571553856823",
         "-0.0003407960852483058",
         "0.060508501046701385",
         "-0.008084896144177553"
        ]
       ],
       "shape": {
        "columns": 200,
        "rows": 5
       }
      },
      "text/html": [
       "<div>\n",
       "<style scoped>\n",
       "    .dataframe tbody tr th:only-of-type {\n",
       "        vertical-align: middle;\n",
       "    }\n",
       "\n",
       "    .dataframe tbody tr th {\n",
       "        vertical-align: top;\n",
       "    }\n",
       "\n",
       "    .dataframe thead th {\n",
       "        text-align: right;\n",
       "    }\n",
       "</style>\n",
       "<table border=\"1\" class=\"dataframe\">\n",
       "  <thead>\n",
       "    <tr style=\"text-align: right;\">\n",
       "      <th></th>\n",
       "      <th>cp1</th>\n",
       "      <th>cp2</th>\n",
       "      <th>cp3</th>\n",
       "      <th>cp4</th>\n",
       "      <th>cp5</th>\n",
       "      <th>cp6</th>\n",
       "      <th>cp7</th>\n",
       "      <th>cp8</th>\n",
       "      <th>cp9</th>\n",
       "      <th>cp10</th>\n",
       "      <th>...</th>\n",
       "      <th>cp191</th>\n",
       "      <th>cp192</th>\n",
       "      <th>cp193</th>\n",
       "      <th>cp194</th>\n",
       "      <th>cp195</th>\n",
       "      <th>cp196</th>\n",
       "      <th>cp197</th>\n",
       "      <th>cp198</th>\n",
       "      <th>cp199</th>\n",
       "      <th>cp200</th>\n",
       "    </tr>\n",
       "  </thead>\n",
       "  <tbody>\n",
       "    <tr>\n",
       "      <th>0</th>\n",
       "      <td>-6.121259</td>\n",
       "      <td>2.296441</td>\n",
       "      <td>-2.146628</td>\n",
       "      <td>0.572644</td>\n",
       "      <td>0.106552</td>\n",
       "      <td>-1.008276</td>\n",
       "      <td>-0.245330</td>\n",
       "      <td>-0.322491</td>\n",
       "      <td>-0.532149</td>\n",
       "      <td>0.073749</td>\n",
       "      <td>...</td>\n",
       "      <td>0.020338</td>\n",
       "      <td>0.015389</td>\n",
       "      <td>-0.014784</td>\n",
       "      <td>0.042300</td>\n",
       "      <td>-0.020025</td>\n",
       "      <td>0.009787</td>\n",
       "      <td>0.035340</td>\n",
       "      <td>-0.004165</td>\n",
       "      <td>-0.018027</td>\n",
       "      <td>-0.027548</td>\n",
       "    </tr>\n",
       "    <tr>\n",
       "      <th>1</th>\n",
       "      <td>-5.184451</td>\n",
       "      <td>-0.712840</td>\n",
       "      <td>-1.388140</td>\n",
       "      <td>0.420122</td>\n",
       "      <td>0.625450</td>\n",
       "      <td>0.651448</td>\n",
       "      <td>-0.501937</td>\n",
       "      <td>0.303652</td>\n",
       "      <td>0.383500</td>\n",
       "      <td>0.181302</td>\n",
       "      <td>...</td>\n",
       "      <td>-0.036270</td>\n",
       "      <td>0.033391</td>\n",
       "      <td>0.031197</td>\n",
       "      <td>-0.040088</td>\n",
       "      <td>0.075635</td>\n",
       "      <td>0.003599</td>\n",
       "      <td>-0.013064</td>\n",
       "      <td>0.013236</td>\n",
       "      <td>0.024967</td>\n",
       "      <td>0.014827</td>\n",
       "    </tr>\n",
       "    <tr>\n",
       "      <th>2</th>\n",
       "      <td>-2.473830</td>\n",
       "      <td>-2.994641</td>\n",
       "      <td>3.373997</td>\n",
       "      <td>0.373222</td>\n",
       "      <td>1.847946</td>\n",
       "      <td>1.265870</td>\n",
       "      <td>1.169315</td>\n",
       "      <td>-0.516178</td>\n",
       "      <td>-0.544651</td>\n",
       "      <td>-0.861301</td>\n",
       "      <td>...</td>\n",
       "      <td>0.136822</td>\n",
       "      <td>-0.031469</td>\n",
       "      <td>-0.027008</td>\n",
       "      <td>0.085444</td>\n",
       "      <td>0.096142</td>\n",
       "      <td>-0.025736</td>\n",
       "      <td>-0.078698</td>\n",
       "      <td>0.148236</td>\n",
       "      <td>0.152459</td>\n",
       "      <td>0.291425</td>\n",
       "    </tr>\n",
       "    <tr>\n",
       "      <th>3</th>\n",
       "      <td>-5.826141</td>\n",
       "      <td>0.308928</td>\n",
       "      <td>2.472890</td>\n",
       "      <td>0.398020</td>\n",
       "      <td>0.381351</td>\n",
       "      <td>0.204011</td>\n",
       "      <td>0.842363</td>\n",
       "      <td>0.231420</td>\n",
       "      <td>-0.716721</td>\n",
       "      <td>0.291936</td>\n",
       "      <td>...</td>\n",
       "      <td>0.006961</td>\n",
       "      <td>-0.034690</td>\n",
       "      <td>-0.022807</td>\n",
       "      <td>-0.024974</td>\n",
       "      <td>0.007982</td>\n",
       "      <td>-0.009884</td>\n",
       "      <td>0.015749</td>\n",
       "      <td>-0.033388</td>\n",
       "      <td>-0.032038</td>\n",
       "      <td>0.024630</td>\n",
       "    </tr>\n",
       "    <tr>\n",
       "      <th>4</th>\n",
       "      <td>-5.799838</td>\n",
       "      <td>1.320340</td>\n",
       "      <td>-1.732920</td>\n",
       "      <td>0.075927</td>\n",
       "      <td>-0.433481</td>\n",
       "      <td>-0.358010</td>\n",
       "      <td>-0.693687</td>\n",
       "      <td>0.515134</td>\n",
       "      <td>0.413586</td>\n",
       "      <td>0.250095</td>\n",
       "      <td>...</td>\n",
       "      <td>-0.016742</td>\n",
       "      <td>0.005988</td>\n",
       "      <td>-0.008124</td>\n",
       "      <td>-0.011500</td>\n",
       "      <td>-0.011013</td>\n",
       "      <td>-0.006866</td>\n",
       "      <td>-0.009906</td>\n",
       "      <td>-0.000341</td>\n",
       "      <td>0.060509</td>\n",
       "      <td>-0.008085</td>\n",
       "    </tr>\n",
       "  </tbody>\n",
       "</table>\n",
       "<p>5 rows × 200 columns</p>\n",
       "</div>"
      ],
      "text/plain": [
       "        cp1       cp2       cp3       cp4       cp5       cp6       cp7  \\\n",
       "0 -6.121259  2.296441 -2.146628  0.572644  0.106552 -1.008276 -0.245330   \n",
       "1 -5.184451 -0.712840 -1.388140  0.420122  0.625450  0.651448 -0.501937   \n",
       "2 -2.473830 -2.994641  3.373997  0.373222  1.847946  1.265870  1.169315   \n",
       "3 -5.826141  0.308928  2.472890  0.398020  0.381351  0.204011  0.842363   \n",
       "4 -5.799838  1.320340 -1.732920  0.075927 -0.433481 -0.358010 -0.693687   \n",
       "\n",
       "        cp8       cp9      cp10  ...     cp191     cp192     cp193     cp194  \\\n",
       "0 -0.322491 -0.532149  0.073749  ...  0.020338  0.015389 -0.014784  0.042300   \n",
       "1  0.303652  0.383500  0.181302  ... -0.036270  0.033391  0.031197 -0.040088   \n",
       "2 -0.516178 -0.544651 -0.861301  ...  0.136822 -0.031469 -0.027008  0.085444   \n",
       "3  0.231420 -0.716721  0.291936  ...  0.006961 -0.034690 -0.022807 -0.024974   \n",
       "4  0.515134  0.413586  0.250095  ... -0.016742  0.005988 -0.008124 -0.011500   \n",
       "\n",
       "      cp195     cp196     cp197     cp198     cp199     cp200  \n",
       "0 -0.020025  0.009787  0.035340 -0.004165 -0.018027 -0.027548  \n",
       "1  0.075635  0.003599 -0.013064  0.013236  0.024967  0.014827  \n",
       "2  0.096142 -0.025736 -0.078698  0.148236  0.152459  0.291425  \n",
       "3  0.007982 -0.009884  0.015749 -0.033388 -0.032038  0.024630  \n",
       "4 -0.011013 -0.006866 -0.009906 -0.000341  0.060509 -0.008085  \n",
       "\n",
       "[5 rows x 200 columns]"
      ]
     },
     "metadata": {},
     "output_type": "display_data"
    }
   ],
   "source": [
    "for chave, df in bases.items():\n",
    "    if 'pca_train' in chave:\n",
    "        print(f'\\n{chave}:')\n",
    "        display(df.head())"
   ]
  },
  {
   "cell_type": "code",
   "execution_count": 103,
   "metadata": {},
   "outputs": [
    {
     "name": "stdout",
     "output_type": "stream",
     "text": [
      "CPU times: total: 6.92 s\n",
      "Wall time: 7.19 s\n"
     ]
    }
   ],
   "source": [
    "%%time\n",
    "resultado_acc = {}\n",
    "for n in comp:\n",
    "    \n",
    "    X_treino = bases[f'pca_train_{n}']\n",
    "    X_valida = bases[f'pca_valid_{n}']\n",
    "    X_teste = bases[f'pca_test_{n}']\n",
    "    \n",
    "    clf = DecisionTreeClassifier(ccp_alpha=0.001, random_state=23).fit(X_treino, y_train)\n",
    "    \n",
    "    avaliacao = avalia(clf, [X_treino, X_valida, X_teste], [y_train, y_valid, y_test], exibir=False)\n",
    "    \n",
    "    resultado_acc[f'{n}_comp'] = avaliacao"
   ]
  },
  {
   "cell_type": "code",
   "execution_count": 104,
   "metadata": {},
   "outputs": [],
   "source": [
    "score = pd.DataFrame(resultado_acc).T"
   ]
  },
  {
   "cell_type": "markdown",
   "metadata": {},
   "source": [
    "## Conclua\n",
    "\n",
    "- O que aconteceu com a acurácia?\n",
    "- O que aconteceu com o tempo de processamento?"
   ]
  },
  {
   "cell_type": "code",
   "execution_count": 105,
   "metadata": {},
   "outputs": [
    {
     "data": {
      "application/vnd.microsoft.datawrangler.viewer.v0+json": {
       "columns": [
        {
         "name": "index",
         "rawType": "object",
         "type": "string"
        },
        {
         "name": "treino",
         "rawType": "float64",
         "type": "float"
        },
        {
         "name": "validação",
         "rawType": "float64",
         "type": "float"
        },
        {
         "name": "teste",
         "rawType": "float64",
         "type": "float"
        }
       ],
       "conversionMethod": "pd.DataFrame",
       "ref": "62ad2371-e203-4c50-8358-f4d5a2e97551",
       "rows": [
        [
         "1_comp",
         "0.5016322089227421",
         "0.49075081610446136",
         "0.4540210383440787"
        ],
        [
         "2_comp",
         "0.6173376858904607",
         "0.5952121871599565",
         "0.5785544621649135"
        ],
        [
         "5_comp",
         "0.8509249183895539",
         "0.8313384113166485",
         "0.7835086528673227"
        ],
        [
         "10_comp",
         "0.8953572723975336",
         "0.8585418933623504",
         "0.8082796063793688"
        ],
        [
         "25_comp",
         "0.9127675009067827",
         "0.8694232861806311",
         "0.7997964031218188"
        ],
        [
         "50_comp",
         "0.93126586869786",
         "0.8618063112078346",
         "0.8035290125551409"
        ],
        [
         "100_comp",
         "0.9379760609357998",
         "0.8770402611534276",
         "0.7967424499491008"
        ],
        [
         "150_comp",
         "0.9416031918752267",
         "0.8737758433079434",
         "0.7994570749915167"
        ],
        [
         "200_comp",
         "0.9410591222343127",
         "0.8721436343852013",
         "0.7919918561248728"
        ]
       ],
       "shape": {
        "columns": 3,
        "rows": 9
       }
      },
      "text/html": [
       "<div>\n",
       "<style scoped>\n",
       "    .dataframe tbody tr th:only-of-type {\n",
       "        vertical-align: middle;\n",
       "    }\n",
       "\n",
       "    .dataframe tbody tr th {\n",
       "        vertical-align: top;\n",
       "    }\n",
       "\n",
       "    .dataframe thead th {\n",
       "        text-align: right;\n",
       "    }\n",
       "</style>\n",
       "<table border=\"1\" class=\"dataframe\">\n",
       "  <thead>\n",
       "    <tr style=\"text-align: right;\">\n",
       "      <th></th>\n",
       "      <th>treino</th>\n",
       "      <th>validação</th>\n",
       "      <th>teste</th>\n",
       "    </tr>\n",
       "  </thead>\n",
       "  <tbody>\n",
       "    <tr>\n",
       "      <th>1_comp</th>\n",
       "      <td>0.501632</td>\n",
       "      <td>0.490751</td>\n",
       "      <td>0.454021</td>\n",
       "    </tr>\n",
       "    <tr>\n",
       "      <th>2_comp</th>\n",
       "      <td>0.617338</td>\n",
       "      <td>0.595212</td>\n",
       "      <td>0.578554</td>\n",
       "    </tr>\n",
       "    <tr>\n",
       "      <th>5_comp</th>\n",
       "      <td>0.850925</td>\n",
       "      <td>0.831338</td>\n",
       "      <td>0.783509</td>\n",
       "    </tr>\n",
       "    <tr>\n",
       "      <th>10_comp</th>\n",
       "      <td>0.895357</td>\n",
       "      <td>0.858542</td>\n",
       "      <td>0.808280</td>\n",
       "    </tr>\n",
       "    <tr>\n",
       "      <th>25_comp</th>\n",
       "      <td>0.912768</td>\n",
       "      <td>0.869423</td>\n",
       "      <td>0.799796</td>\n",
       "    </tr>\n",
       "    <tr>\n",
       "      <th>50_comp</th>\n",
       "      <td>0.931266</td>\n",
       "      <td>0.861806</td>\n",
       "      <td>0.803529</td>\n",
       "    </tr>\n",
       "    <tr>\n",
       "      <th>100_comp</th>\n",
       "      <td>0.937976</td>\n",
       "      <td>0.877040</td>\n",
       "      <td>0.796742</td>\n",
       "    </tr>\n",
       "    <tr>\n",
       "      <th>150_comp</th>\n",
       "      <td>0.941603</td>\n",
       "      <td>0.873776</td>\n",
       "      <td>0.799457</td>\n",
       "    </tr>\n",
       "    <tr>\n",
       "      <th>200_comp</th>\n",
       "      <td>0.941059</td>\n",
       "      <td>0.872144</td>\n",
       "      <td>0.791992</td>\n",
       "    </tr>\n",
       "  </tbody>\n",
       "</table>\n",
       "</div>"
      ],
      "text/plain": [
       "            treino  validação     teste\n",
       "1_comp    0.501632   0.490751  0.454021\n",
       "2_comp    0.617338   0.595212  0.578554\n",
       "5_comp    0.850925   0.831338  0.783509\n",
       "10_comp   0.895357   0.858542  0.808280\n",
       "25_comp   0.912768   0.869423  0.799796\n",
       "50_comp   0.931266   0.861806  0.803529\n",
       "100_comp  0.937976   0.877040  0.796742\n",
       "150_comp  0.941603   0.873776  0.799457\n",
       "200_comp  0.941059   0.872144  0.791992"
      ]
     },
     "execution_count": 105,
     "metadata": {},
     "output_type": "execute_result"
    }
   ],
   "source": [
    "score"
   ]
  },
  {
   "cell_type": "markdown",
   "metadata": {},
   "source": [
    "É possível observar o fenômeno de Huges acontecendo. Conforme o número de componentes aumenta o valor da acurácia cai, tanto para a base de validação quanto a base de teste."
   ]
  },
  {
   "cell_type": "markdown",
   "metadata": {},
   "source": [
    "Quanto ao tempo, a árvore treinada com todas as componentes demorou 4 segundos, enquanto a árvore treinada apenas com 1 componente demorou 62 milisegundos. Já o treinamento das árvores com os componentes 1, 2, 5, 10, 25, 50, 100, 150 e 200 demorou apenas 7 segundos. O que mostra a eficiência da utilização do PCA."
   ]
  }
 ],
 "metadata": {
  "kernelspec": {
   "display_name": "streamlit_sinasc_env",
   "language": "python",
   "name": "python3"
  },
  "language_info": {
   "codemirror_mode": {
    "name": "ipython",
    "version": 3
   },
   "file_extension": ".py",
   "mimetype": "text/x-python",
   "name": "python",
   "nbconvert_exporter": "python",
   "pygments_lexer": "ipython3",
   "version": "3.12.7"
  },
  "toc": {
   "base_numbering": 1,
   "nav_menu": {},
   "number_sections": true,
   "sideBar": true,
   "skip_h1_title": true,
   "title_cell": "Índice",
   "title_sidebar": "Conteúdo",
   "toc_cell": false,
   "toc_position": {},
   "toc_section_display": true,
   "toc_window_display": false
  },
  "varInspector": {
   "cols": {
    "lenName": 16,
    "lenType": 16,
    "lenVar": 40
   },
   "kernels_config": {
    "python": {
     "delete_cmd_postfix": "",
     "delete_cmd_prefix": "del ",
     "library": "var_list.py",
     "varRefreshCmd": "print(var_dic_list())"
    },
    "r": {
     "delete_cmd_postfix": ") ",
     "delete_cmd_prefix": "rm(",
     "library": "var_list.r",
     "varRefreshCmd": "cat(var_dic_list()) "
    }
   },
   "types_to_exclude": [
    "module",
    "function",
    "builtin_function_or_method",
    "instance",
    "_Feature"
   ],
   "window_display": false
  }
 },
 "nbformat": 4,
 "nbformat_minor": 4
}
